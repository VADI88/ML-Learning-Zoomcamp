{
 "cells": [
  {
   "metadata": {
    "ExecuteTime": {
     "end_time": "2024-11-03T21:25:42.902513Z",
     "start_time": "2024-11-03T21:25:42.820523Z"
    }
   },
   "cell_type": "code",
   "source": [
    "import pandas as pd\n",
    "import numpy as np\n",
    "\n",
    "import seaborn as sns\n",
    "from matplotlib import pyplot as plt\n",
    "from pandas.core.methods.to_dict import to_dict\n",
    "%matplotlib inline"
   ],
   "id": "f6ef711cfceed873",
   "outputs": [],
   "execution_count": 4
  },
  {
   "metadata": {
    "ExecuteTime": {
     "end_time": "2024-11-03T21:26:04.715689Z",
     "start_time": "2024-11-03T21:26:04.625608Z"
    }
   },
   "cell_type": "code",
   "source": "jamb_exam_df = pd.read_csv('../../data/06-week/jamb_exam_results.csv')",
   "id": "c5e454fb9f041ddc",
   "outputs": [],
   "execution_count": 5
  },
  {
   "metadata": {
    "ExecuteTime": {
     "end_time": "2024-11-03T21:26:27.558943Z",
     "start_time": "2024-11-03T21:26:27.545515Z"
    }
   },
   "cell_type": "code",
   "source": "jamb_exam_df.columns = jamb_exam_df.columns.str.lower().str.replace(' ', '_')",
   "id": "a16844b2e4b39e94",
   "outputs": [],
   "execution_count": 6
  },
  {
   "metadata": {},
   "cell_type": "markdown",
   "source": "## Data Preparation ",
   "id": "592c59412b50f39a"
  },
  {
   "metadata": {
    "ExecuteTime": {
     "end_time": "2024-11-03T21:43:25.023544Z",
     "start_time": "2024-11-03T21:43:24.962833Z"
    }
   },
   "cell_type": "code",
   "source": "jamb_exam_df = jamb_exam_df.drop('student_id',axis = 1 )",
   "id": "8b9e152ce8fe899f",
   "outputs": [],
   "execution_count": 8
  },
  {
   "metadata": {
    "ExecuteTime": {
     "end_time": "2024-11-03T21:44:12.791475Z",
     "start_time": "2024-11-03T21:44:12.735616Z"
    }
   },
   "cell_type": "code",
   "source": "jamb_exam_df.isnull().sum()",
   "id": "df7f59f12fc4043c",
   "outputs": [
    {
     "data": {
      "text/plain": [
       "jamb_score                        0\n",
       "study_hours_per_week              0\n",
       "attendance_rate                   0\n",
       "teacher_quality                   0\n",
       "distance_to_school                0\n",
       "school_type                       0\n",
       "school_location                   0\n",
       "extra_tutorials                   0\n",
       "access_to_learning_materials      0\n",
       "parent_involvement                0\n",
       "it_knowledge                      0\n",
       "age                               0\n",
       "gender                            0\n",
       "socioeconomic_status              0\n",
       "parent_education_level          891\n",
       "assignments_completed             0\n",
       "dtype: int64"
      ]
     },
     "execution_count": 9,
     "metadata": {},
     "output_type": "execute_result"
    }
   ],
   "execution_count": 9
  },
  {
   "metadata": {
    "ExecuteTime": {
     "end_time": "2024-11-03T21:44:48.440791Z",
     "start_time": "2024-11-03T21:44:48.411512Z"
    }
   },
   "cell_type": "code",
   "source": "jamb_exam_df.fillna(0,inplace=True)",
   "id": "49541175df16b093",
   "outputs": [],
   "execution_count": 10
  },
  {
   "metadata": {
    "ExecuteTime": {
     "end_time": "2024-11-03T21:44:56.919778Z",
     "start_time": "2024-11-03T21:44:56.345576Z"
    }
   },
   "cell_type": "code",
   "source": [
    "from sklearn.model_selection import train_test_split\n",
    "\n",
    "df_full_train, df_test = train_test_split(jamb_exam_df, test_size=0.2, random_state=1)\n",
    "df_train, df_val = train_test_split(df_full_train, test_size=0.25, random_state=1)"
   ],
   "id": "785d103a18562d60",
   "outputs": [],
   "execution_count": 11
  },
  {
   "metadata": {
    "ExecuteTime": {
     "end_time": "2024-11-03T21:45:57.792627Z",
     "start_time": "2024-11-03T21:45:57.779779Z"
    }
   },
   "cell_type": "code",
   "source": [
    "df_train = df_train.reset_index(drop=True)\n",
    "df_val = df_val.reset_index(drop=True)\n",
    "df_test = df_test.reset_index(drop=True)\n",
    "\n",
    "y_train = df_train.jamb_score\n",
    "y_val = df_val.jamb_score\n",
    "y_test = df_test.jamb_score\n",
    "\n",
    "del df_train['jamb_score']\n",
    "del df_val['jamb_score']\n",
    "del df_test['jamb_score']"
   ],
   "id": "959a56da38bc90bf",
   "outputs": [],
   "execution_count": 12
  },
  {
   "metadata": {
    "ExecuteTime": {
     "end_time": "2024-11-03T21:46:51.681371Z",
     "start_time": "2024-11-03T21:46:51.381193Z"
    }
   },
   "cell_type": "code",
   "source": [
    "### DT Regressor \n",
    "\n",
    "from sklearn.tree import DecisionTreeRegressor\n",
    "from sklearn.feature_extraction import DictVectorizer\n",
    "from sklearn.metrics import mean_squared_error"
   ],
   "id": "40c9702391260ceb",
   "outputs": [],
   "execution_count": 13
  },
  {
   "metadata": {
    "ExecuteTime": {
     "end_time": "2024-11-03T21:47:03.417728Z",
     "start_time": "2024-11-03T21:47:03.372119Z"
    }
   },
   "cell_type": "code",
   "source": "train_dicts = df_train.fillna(0).to_dict(orient='records')\n",
   "id": "d7fc90b95f0375c",
   "outputs": [],
   "execution_count": 14
  },
  {
   "metadata": {
    "ExecuteTime": {
     "end_time": "2024-11-03T21:47:09.064022Z",
     "start_time": "2024-11-03T21:47:08.980320Z"
    }
   },
   "cell_type": "code",
   "source": [
    "dv = DictVectorizer(sparse=False)\n",
    "X_train = dv.fit_transform(train_dicts)"
   ],
   "id": "9f042ce40034d198",
   "outputs": [],
   "execution_count": 15
  },
  {
   "metadata": {
    "ExecuteTime": {
     "end_time": "2024-11-03T21:48:19.509334Z",
     "start_time": "2024-11-03T21:48:19.469198Z"
    }
   },
   "cell_type": "code",
   "source": [
    "val_dicts = df_val.fillna(0).to_dict(orient='records')\n",
    "X_val = dv.transform(val_dicts)"
   ],
   "id": "39b9dae947f9d4ff",
   "outputs": [],
   "execution_count": 17
  },
  {
   "metadata": {
    "ExecuteTime": {
     "end_time": "2024-11-03T21:51:46.411933Z",
     "start_time": "2024-11-03T21:51:46.373744Z"
    }
   },
   "cell_type": "code",
   "source": [
    "## Q1 Restricting the depth to only 1 level \n",
    "dt = DecisionTreeRegressor(max_depth=1)\n",
    "dt.fit(X_train, y_train)\n",
    "\n",
    "\n",
    "y_pred = dt.predict(X_train)\n",
    "rms = mean_squared_error(y_train, y_pred,squared=False)\n",
    "print('train:', rms)\n",
    "\n",
    "y_pred = dt.predict(X_val)\n",
    "rms = mean_squared_error(y_val, y_pred,squared=False)\n",
    "print('val:', rms)"
   ],
   "id": "e9e631ee1c735b53",
   "outputs": [
    {
     "name": "stdout",
     "output_type": "stream",
     "text": [
      "train: 44.03387763193034\n",
      "val: 45.80335905740839\n"
     ]
    }
   ],
   "execution_count": 24
  },
  {
   "metadata": {
    "ExecuteTime": {
     "end_time": "2024-11-03T21:51:48.994095Z",
     "start_time": "2024-11-03T21:51:48.986989Z"
    }
   },
   "cell_type": "code",
   "source": "from sklearn.tree import export_text",
   "id": "82482fff74d19a33",
   "outputs": [],
   "execution_count": 25
  },
  {
   "metadata": {
    "ExecuteTime": {
     "end_time": "2024-11-03T21:51:49.425837Z",
     "start_time": "2024-11-03T21:51:49.417530Z"
    }
   },
   "cell_type": "code",
   "source": "print(export_text(dt,feature_names=dv.get_feature_names_out()))",
   "id": "da6be275801c58d7",
   "outputs": [
    {
     "name": "stdout",
     "output_type": "stream",
     "text": [
      "|--- study_hours_per_week <= 18.50\n",
      "|   |--- value: [155.24]\n",
      "|--- study_hours_per_week >  18.50\n",
      "|   |--- value: [188.59]\n",
      "\n"
     ]
    }
   ],
   "execution_count": 26
  },
  {
   "metadata": {
    "ExecuteTime": {
     "end_time": "2024-11-03T21:52:14.448141Z",
     "start_time": "2024-11-03T21:52:14.310498Z"
    }
   },
   "cell_type": "code",
   "source": [
    "### Randomforest regressor \n",
    "from sklearn.ensemble import RandomForestRegressor"
   ],
   "id": "90783c27996b43a6",
   "outputs": [],
   "execution_count": 27
  },
  {
   "metadata": {
    "ExecuteTime": {
     "end_time": "2024-11-03T21:53:05.601181Z",
     "start_time": "2024-11-03T21:53:05.378472Z"
    }
   },
   "cell_type": "code",
   "source": [
    "rf = RandomForestRegressor(n_estimators=10,random_state=1,n_jobs=-1)\n",
    "rf.fit(X_train,y_train)"
   ],
   "id": "7d71f676052fdf43",
   "outputs": [
    {
     "data": {
      "text/plain": [
       "RandomForestRegressor(n_estimators=10, n_jobs=-1, random_state=1)"
      ],
      "text/html": [
       "<style>#sk-container-id-2 {color: black;}#sk-container-id-2 pre{padding: 0;}#sk-container-id-2 div.sk-toggleable {background-color: white;}#sk-container-id-2 label.sk-toggleable__label {cursor: pointer;display: block;width: 100%;margin-bottom: 0;padding: 0.3em;box-sizing: border-box;text-align: center;}#sk-container-id-2 label.sk-toggleable__label-arrow:before {content: \"▸\";float: left;margin-right: 0.25em;color: #696969;}#sk-container-id-2 label.sk-toggleable__label-arrow:hover:before {color: black;}#sk-container-id-2 div.sk-estimator:hover label.sk-toggleable__label-arrow:before {color: black;}#sk-container-id-2 div.sk-toggleable__content {max-height: 0;max-width: 0;overflow: hidden;text-align: left;background-color: #f0f8ff;}#sk-container-id-2 div.sk-toggleable__content pre {margin: 0.2em;color: black;border-radius: 0.25em;background-color: #f0f8ff;}#sk-container-id-2 input.sk-toggleable__control:checked~div.sk-toggleable__content {max-height: 200px;max-width: 100%;overflow: auto;}#sk-container-id-2 input.sk-toggleable__control:checked~label.sk-toggleable__label-arrow:before {content: \"▾\";}#sk-container-id-2 div.sk-estimator input.sk-toggleable__control:checked~label.sk-toggleable__label {background-color: #d4ebff;}#sk-container-id-2 div.sk-label input.sk-toggleable__control:checked~label.sk-toggleable__label {background-color: #d4ebff;}#sk-container-id-2 input.sk-hidden--visually {border: 0;clip: rect(1px 1px 1px 1px);clip: rect(1px, 1px, 1px, 1px);height: 1px;margin: -1px;overflow: hidden;padding: 0;position: absolute;width: 1px;}#sk-container-id-2 div.sk-estimator {font-family: monospace;background-color: #f0f8ff;border: 1px dotted black;border-radius: 0.25em;box-sizing: border-box;margin-bottom: 0.5em;}#sk-container-id-2 div.sk-estimator:hover {background-color: #d4ebff;}#sk-container-id-2 div.sk-parallel-item::after {content: \"\";width: 100%;border-bottom: 1px solid gray;flex-grow: 1;}#sk-container-id-2 div.sk-label:hover label.sk-toggleable__label {background-color: #d4ebff;}#sk-container-id-2 div.sk-serial::before {content: \"\";position: absolute;border-left: 1px solid gray;box-sizing: border-box;top: 0;bottom: 0;left: 50%;z-index: 0;}#sk-container-id-2 div.sk-serial {display: flex;flex-direction: column;align-items: center;background-color: white;padding-right: 0.2em;padding-left: 0.2em;position: relative;}#sk-container-id-2 div.sk-item {position: relative;z-index: 1;}#sk-container-id-2 div.sk-parallel {display: flex;align-items: stretch;justify-content: center;background-color: white;position: relative;}#sk-container-id-2 div.sk-item::before, #sk-container-id-2 div.sk-parallel-item::before {content: \"\";position: absolute;border-left: 1px solid gray;box-sizing: border-box;top: 0;bottom: 0;left: 50%;z-index: -1;}#sk-container-id-2 div.sk-parallel-item {display: flex;flex-direction: column;z-index: 1;position: relative;background-color: white;}#sk-container-id-2 div.sk-parallel-item:first-child::after {align-self: flex-end;width: 50%;}#sk-container-id-2 div.sk-parallel-item:last-child::after {align-self: flex-start;width: 50%;}#sk-container-id-2 div.sk-parallel-item:only-child::after {width: 0;}#sk-container-id-2 div.sk-dashed-wrapped {border: 1px dashed gray;margin: 0 0.4em 0.5em 0.4em;box-sizing: border-box;padding-bottom: 0.4em;background-color: white;}#sk-container-id-2 div.sk-label label {font-family: monospace;font-weight: bold;display: inline-block;line-height: 1.2em;}#sk-container-id-2 div.sk-label-container {text-align: center;}#sk-container-id-2 div.sk-container {/* jupyter's `normalize.less` sets `[hidden] { display: none; }` but bootstrap.min.css set `[hidden] { display: none !important; }` so we also need the `!important` here to be able to override the default hidden behavior on the sphinx rendered scikit-learn.org. See: https://github.com/scikit-learn/scikit-learn/issues/21755 */display: inline-block !important;position: relative;}#sk-container-id-2 div.sk-text-repr-fallback {display: none;}</style><div id=\"sk-container-id-2\" class=\"sk-top-container\"><div class=\"sk-text-repr-fallback\"><pre>RandomForestRegressor(n_estimators=10, n_jobs=-1, random_state=1)</pre><b>In a Jupyter environment, please rerun this cell to show the HTML representation or trust the notebook. <br />On GitHub, the HTML representation is unable to render, please try loading this page with nbviewer.org.</b></div><div class=\"sk-container\" hidden><div class=\"sk-item\"><div class=\"sk-estimator sk-toggleable\"><input class=\"sk-toggleable__control sk-hidden--visually\" id=\"sk-estimator-id-2\" type=\"checkbox\" checked><label for=\"sk-estimator-id-2\" class=\"sk-toggleable__label sk-toggleable__label-arrow\">RandomForestRegressor</label><div class=\"sk-toggleable__content\"><pre>RandomForestRegressor(n_estimators=10, n_jobs=-1, random_state=1)</pre></div></div></div></div></div>"
      ]
     },
     "execution_count": 29,
     "metadata": {},
     "output_type": "execute_result"
    }
   ],
   "execution_count": 29
  },
  {
   "metadata": {
    "ExecuteTime": {
     "end_time": "2024-11-03T21:53:21.600877Z",
     "start_time": "2024-11-03T21:53:21.558668Z"
    }
   },
   "cell_type": "code",
   "source": [
    "y_pred = rf.predict(X_train)\n",
    "rms = mean_squared_error(y_train, y_pred,squared=False)\n",
    "print('train:', rms)\n",
    "\n",
    "y_pred = rf.predict(X_val)\n",
    "rms = mean_squared_error(y_val, y_pred,squared=False)\n",
    "print('val:', rms)"
   ],
   "id": "a1a5e526466670f4",
   "outputs": [
    {
     "name": "stdout",
     "output_type": "stream",
     "text": [
      "train: 17.78903210782794\n",
      "val: 42.13724207871227\n"
     ]
    }
   ],
   "execution_count": 30
  },
  {
   "metadata": {
    "ExecuteTime": {
     "end_time": "2024-11-03T22:27:45.504608Z",
     "start_time": "2024-11-03T22:26:51.044615Z"
    }
   },
   "cell_type": "code",
   "source": [
    "scores = []\n",
    "\n",
    "for n in range(10, 201, 10):\n",
    "    rf = RandomForestRegressor(n_estimators=n, random_state=1)\n",
    "    rf.fit(X_train, y_train)\n",
    "\n",
    "    y_pred = rf.predict(X_val)\n",
    "    rms = mean_squared_error(y_val, y_pred,squared=False)\n",
    "    \n",
    "    scores.append((n, rms))\n"
   ],
   "id": "37644f2a934797b3",
   "outputs": [],
   "execution_count": 69
  },
  {
   "metadata": {
    "ExecuteTime": {
     "end_time": "2024-11-03T22:27:45.539192Z",
     "start_time": "2024-11-03T22:27:45.520961Z"
    }
   },
   "cell_type": "code",
   "source": "df_scores = pd.DataFrame(scores, columns=['n_estimators', 'rms'])",
   "id": "6d72d474eebcd0ed",
   "outputs": [],
   "execution_count": 70
  },
  {
   "metadata": {
    "ExecuteTime": {
     "end_time": "2024-11-03T22:27:47.230380Z",
     "start_time": "2024-11-03T22:27:45.608717Z"
    }
   },
   "cell_type": "code",
   "source": "plt.plot(df_scores.n_estimators, df_scores.rms)",
   "id": "a12a0a907f5664f8",
   "outputs": [
    {
     "data": {
      "text/plain": [
       "[<matplotlib.lines.Line2D at 0x7f966c9591f0>]"
      ]
     },
     "execution_count": 71,
     "metadata": {},
     "output_type": "execute_result"
    },
    {
     "data": {
      "text/plain": [
       "<Figure size 640x480 with 1 Axes>"
      ],
      "image/png": "[encoded data removed]"
     },
     "metadata": {},
     "output_type": "display_data"
    }
   ],
   "execution_count": 71
  },
  {
   "metadata": {
    "ExecuteTime": {
     "end_time": "2024-11-03T22:28:01.404673Z",
     "start_time": "2024-11-03T22:28:01.384939Z"
    }
   },
   "cell_type": "code",
   "source": "df_scores[df_scores.rms == df_scores.rms.min()]",
   "id": "c4aac43d84c5c1cc",
   "outputs": [
    {
     "data": {
      "text/plain": [
       "   n_estimators        rms\n",
       "8            90  40.504346"
      ],
      "text/html": [
       "<div>\n",
       "<style scoped>\n",
       "    .dataframe tbody tr th:only-of-type {\n",
       "        vertical-align: middle;\n",
       "    }\n",
       "\n",
       "    .dataframe tbody tr th {\n",
       "        vertical-align: top;\n",
       "    }\n",
       "\n",
       "    .dataframe thead th {\n",
       "        text-align: right;\n",
       "    }\n",
       "</style>\n",
       "<table border=\"1\" class=\"dataframe\">\n",
       "  <thead>\n",
       "    <tr style=\"text-align: right;\">\n",
       "      <th></th>\n",
       "      <th>n_estimators</th>\n",
       "      <th>rms</th>\n",
       "    </tr>\n",
       "  </thead>\n",
       "  <tbody>\n",
       "    <tr>\n",
       "      <th>8</th>\n",
       "      <td>90</td>\n",
       "      <td>40.504346</td>\n",
       "    </tr>\n",
       "  </tbody>\n",
       "</table>\n",
       "</div>"
      ]
     },
     "execution_count": 74,
     "metadata": {},
     "output_type": "execute_result"
    }
   ],
   "execution_count": 74
  },
  {
   "metadata": {
    "ExecuteTime": {
     "end_time": "2024-11-03T22:27:50.523968Z",
     "start_time": "2024-11-03T22:27:50.515201Z"
    }
   },
   "cell_type": "code",
   "source": "df_scores.rms.min()",
   "id": "7a2ec4cdccb87f21",
   "outputs": [
    {
     "data": {
      "text/plain": [
       "40.50434592594835"
      ]
     },
     "execution_count": 73,
     "metadata": {},
     "output_type": "execute_result"
    }
   ],
   "execution_count": 73
  },
  {
   "metadata": {
    "ExecuteTime": {
     "end_time": "2024-11-03T22:10:10.199350Z",
     "start_time": "2024-11-03T22:06:57.890611Z"
    }
   },
   "cell_type": "code",
   "source": [
    "### Question 4 \n",
    "\n",
    "scores = []\n",
    "\n",
    "for d in [10, 15, 20, 25]:\n",
    "    rms = []\n",
    "    for n in range(10, 201, 10):\n",
    "        rf = RandomForestRegressor(n_estimators=n,\n",
    "                                    max_depth=d,\n",
    "                                    random_state=1)\n",
    "        rf.fit(X_train, y_train)\n",
    "\n",
    "        y_pred = rf.predict(X_val)\n",
    "        rms .append(mean_squared_error(y_val, y_pred,squared=False))\n",
    "\n",
    "    scores.append((d, np.mean(rms)))"
   ],
   "id": "784b43b0e21938ab",
   "outputs": [],
   "execution_count": 40
  },
  {
   "metadata": {
    "ExecuteTime": {
     "end_time": "2024-11-03T22:10:36.407536Z",
     "start_time": "2024-11-03T22:10:36.395846Z"
    }
   },
   "cell_type": "code",
   "source": "scores",
   "id": "1ce57ba9128aecf1",
   "outputs": [
    {
     "data": {
      "text/plain": [
       "[(10, 40.39249798892396),\n",
       " (15, 40.73528172486332),\n",
       " (20, 40.739734321829275),\n",
       " (25, 40.78786565962805)]"
      ]
     },
     "execution_count": 42,
     "metadata": {},
     "output_type": "execute_result"
    }
   ],
   "execution_count": 42
  },
  {
   "metadata": {
    "ExecuteTime": {
     "end_time": "2024-11-03T22:12:56.847843Z",
     "start_time": "2024-11-03T22:12:56.669027Z"
    }
   },
   "cell_type": "code",
   "source": [
    "## Question 5\n",
    "\n",
    "rf = RandomForestRegressor(n_estimators=10,max_depth=20,random_state=1,n_jobs=-1)\n",
    "rf.fit(X_train, y_train)\n"
   ],
   "id": "f2d2b3a83133ca86",
   "outputs": [
    {
     "data": {
      "text/plain": [
       "RandomForestRegressor(max_depth=20, n_estimators=10, n_jobs=-1, random_state=1)"
      ],
      "text/html": [
       "<style>#sk-container-id-3 {color: black;}#sk-container-id-3 pre{padding: 0;}#sk-container-id-3 div.sk-toggleable {background-color: white;}#sk-container-id-3 label.sk-toggleable__label {cursor: pointer;display: block;width: 100%;margin-bottom: 0;padding: 0.3em;box-sizing: border-box;text-align: center;}#sk-container-id-3 label.sk-toggleable__label-arrow:before {content: \"▸\";float: left;margin-right: 0.25em;color: #696969;}#sk-container-id-3 label.sk-toggleable__label-arrow:hover:before {color: black;}#sk-container-id-3 div.sk-estimator:hover label.sk-toggleable__label-arrow:before {color: black;}#sk-container-id-3 div.sk-toggleable__content {max-height: 0;max-width: 0;overflow: hidden;text-align: left;background-color: #f0f8ff;}#sk-container-id-3 div.sk-toggleable__content pre {margin: 0.2em;color: black;border-radius: 0.25em;background-color: #f0f8ff;}#sk-container-id-3 input.sk-toggleable__control:checked~div.sk-toggleable__content {max-height: 200px;max-width: 100%;overflow: auto;}#sk-container-id-3 input.sk-toggleable__control:checked~label.sk-toggleable__label-arrow:before {content: \"▾\";}#sk-container-id-3 div.sk-estimator input.sk-toggleable__control:checked~label.sk-toggleable__label {background-color: #d4ebff;}#sk-container-id-3 div.sk-label input.sk-toggleable__control:checked~label.sk-toggleable__label {background-color: #d4ebff;}#sk-container-id-3 input.sk-hidden--visually {border: 0;clip: rect(1px 1px 1px 1px);clip: rect(1px, 1px, 1px, 1px);height: 1px;margin: -1px;overflow: hidden;padding: 0;position: absolute;width: 1px;}#sk-container-id-3 div.sk-estimator {font-family: monospace;background-color: #f0f8ff;border: 1px dotted black;border-radius: 0.25em;box-sizing: border-box;margin-bottom: 0.5em;}#sk-container-id-3 div.sk-estimator:hover {background-color: #d4ebff;}#sk-container-id-3 div.sk-parallel-item::after {content: \"\";width: 100%;border-bottom: 1px solid gray;flex-grow: 1;}#sk-container-id-3 div.sk-label:hover label.sk-toggleable__label {background-color: #d4ebff;}#sk-container-id-3 div.sk-serial::before {content: \"\";position: absolute;border-left: 1px solid gray;box-sizing: border-box;top: 0;bottom: 0;left: 50%;z-index: 0;}#sk-container-id-3 div.sk-serial {display: flex;flex-direction: column;align-items: center;background-color: white;padding-right: 0.2em;padding-left: 0.2em;position: relative;}#sk-container-id-3 div.sk-item {position: relative;z-index: 1;}#sk-container-id-3 div.sk-parallel {display: flex;align-items: stretch;justify-content: center;background-color: white;position: relative;}#sk-container-id-3 div.sk-item::before, #sk-container-id-3 div.sk-parallel-item::before {content: \"\";position: absolute;border-left: 1px solid gray;box-sizing: border-box;top: 0;bottom: 0;left: 50%;z-index: -1;}#sk-container-id-3 div.sk-parallel-item {display: flex;flex-direction: column;z-index: 1;position: relative;background-color: white;}#sk-container-id-3 div.sk-parallel-item:first-child::after {align-self: flex-end;width: 50%;}#sk-container-id-3 div.sk-parallel-item:last-child::after {align-self: flex-start;width: 50%;}#sk-container-id-3 div.sk-parallel-item:only-child::after {width: 0;}#sk-container-id-3 div.sk-dashed-wrapped {border: 1px dashed gray;margin: 0 0.4em 0.5em 0.4em;box-sizing: border-box;padding-bottom: 0.4em;background-color: white;}#sk-container-id-3 div.sk-label label {font-family: monospace;font-weight: bold;display: inline-block;line-height: 1.2em;}#sk-container-id-3 div.sk-label-container {text-align: center;}#sk-container-id-3 div.sk-container {/* jupyter's `normalize.less` sets `[hidden] { display: none; }` but bootstrap.min.css set `[hidden] { display: none !important; }` so we also need the `!important` here to be able to override the default hidden behavior on the sphinx rendered scikit-learn.org. See: https://github.com/scikit-learn/scikit-learn/issues/21755 */display: inline-block !important;position: relative;}#sk-container-id-3 div.sk-text-repr-fallback {display: none;}</style><div id=\"sk-container-id-3\" class=\"sk-top-container\"><div class=\"sk-text-repr-fallback\"><pre>RandomForestRegressor(max_depth=20, n_estimators=10, n_jobs=-1, random_state=1)</pre><b>In a Jupyter environment, please rerun this cell to show the HTML representation or trust the notebook. <br />On GitHub, the HTML representation is unable to render, please try loading this page with nbviewer.org.</b></div><div class=\"sk-container\" hidden><div class=\"sk-item\"><div class=\"sk-estimator sk-toggleable\"><input class=\"sk-toggleable__control sk-hidden--visually\" id=\"sk-estimator-id-3\" type=\"checkbox\" checked><label for=\"sk-estimator-id-3\" class=\"sk-toggleable__label sk-toggleable__label-arrow\">RandomForestRegressor</label><div class=\"sk-toggleable__content\"><pre>RandomForestRegressor(max_depth=20, n_estimators=10, n_jobs=-1, random_state=1)</pre></div></div></div></div></div>"
      ]
     },
     "execution_count": 43,
     "metadata": {},
     "output_type": "execute_result"
    }
   ],
   "execution_count": 43
  },
  {
   "metadata": {
    "ExecuteTime": {
     "end_time": "2024-11-03T22:13:11.380213Z",
     "start_time": "2024-11-03T22:13:11.348346Z"
    }
   },
   "cell_type": "code",
   "source": [
    "y_pred = rf.predict(X_val)\n",
    "rms .append(mean_squared_error(y_val, y_pred,squared=False))\n"
   ],
   "id": "b486af4f4262cd75",
   "outputs": [],
   "execution_count": 44
  },
  {
   "metadata": {
    "ExecuteTime": {
     "end_time": "2024-11-03T22:14:49.070766Z",
     "start_time": "2024-11-03T22:14:49.046816Z"
    }
   },
   "cell_type": "code",
   "source": "feature_importance_df  = pd.DataFrame(dict(column_name = dv.get_feature_names_out(),feature_importance = rf.feature_importances_))",
   "id": "6f2847187e6fecc2",
   "outputs": [],
   "execution_count": 49
  },
  {
   "metadata": {
    "ExecuteTime": {
     "end_time": "2024-11-03T22:15:37.549567Z",
     "start_time": "2024-11-03T22:15:36.844245Z"
    }
   },
   "cell_type": "code",
   "source": [
    "sns.barplot(feature_importance_df\\\n",
    "                .sort_values(by='feature_importance',ascending=False), x = 'feature_importance', y = 'column_name')"
   ],
   "id": "eea6b7909396c13e",
   "outputs": [
    {
     "data": {
      "text/plain": [
       "<Axes: xlabel='feature_importance', ylabel='column_name'>"
      ]
     },
     "execution_count": 51,
     "metadata": {},
     "output_type": "execute_result"
    },
    {
     "data": {
      "text/plain": [
       "<Figure size 640x480 with 1 Axes>"
      ],
      "image/png": "[encoded data removed]"
     },
     "metadata": {},
     "output_type": "display_data"
    }
   ],
   "execution_count": 51
  },
  {
   "metadata": {},
   "cell_type": "code",
   "outputs": [],
   "execution_count": null,
   "source": "### XGBoost \n",
   "id": "71b429f1bb971b82"
  },
  {
   "metadata": {
    "ExecuteTime": {
     "end_time": "2024-11-03T22:16:47.827102Z",
     "start_time": "2024-11-03T22:16:47.587268Z"
    }
   },
   "cell_type": "code",
   "source": "import xgboost as xgb",
   "id": "c1bd29a255a3b1f4",
   "outputs": [],
   "execution_count": 52
  },
  {
   "metadata": {
    "ExecuteTime": {
     "end_time": "2024-11-03T22:16:49.387289Z",
     "start_time": "2024-11-03T22:16:49.360417Z"
    }
   },
   "cell_type": "code",
   "source": [
    "\n",
    "features = list(dv.get_feature_names_out())\n",
    "dtrain = xgb.DMatrix(X_train, label=y_train, feature_names=features)\n",
    "dval = xgb.DMatrix(X_val, label=y_val, feature_names=features)"
   ],
   "id": "c8a304b42566e703",
   "outputs": [],
   "execution_count": 53
  },
  {
   "metadata": {
    "ExecuteTime": {
     "end_time": "2024-11-03T22:17:53.660338Z",
     "start_time": "2024-11-03T22:17:53.655322Z"
    }
   },
   "cell_type": "code",
   "source": "watchlist = [(dtrain, 'train'), (dval, 'val')]",
   "id": "4c0eb25efd9d62af",
   "outputs": [],
   "execution_count": 55
  },
  {
   "metadata": {
    "ExecuteTime": {
     "end_time": "2024-11-03T22:21:32.090323Z",
     "start_time": "2024-11-03T22:21:30.599609Z"
    }
   },
   "cell_type": "code",
   "source": [
    "%%capture output\n",
    "\n",
    "xgb_params = {\n",
    "        'eta': 0.1, \n",
    "    'max_depth': 6,\n",
    "    'min_child_weight': 1,\n",
    "\n",
    "        'objective': 'reg:squarederror',\n",
    "         'nthread': 8,\n",
    "    \n",
    "    'seed': 1,\n",
    "    'verbosity': 1,\n",
    "}\n",
    "\n",
    "model = xgb.train(xgb_params, dtrain, num_boost_round=100,\n",
    "                  verbose_eval=5, ## Print every 5 steps \n",
    "                  evals=watchlist )"
   ],
   "id": "300e2855888653f",
   "outputs": [],
   "execution_count": 64
  },
  {
   "metadata": {
    "ExecuteTime": {
     "end_time": "2024-11-03T22:18:41.961585Z",
     "start_time": "2024-11-03T22:18:41.954349Z"
    }
   },
   "cell_type": "code",
   "source": [
    "def parse_xgb_output(output):\n",
    "    results = []\n",
    "\n",
    "    for line in output.stdout.strip().split('\\n'):\n",
    "        it_line, train_line, val_line = line.split('\\t')\n",
    "\n",
    "        it = int(it_line.strip('[]'))\n",
    "        train = float(train_line.split(':')[1])\n",
    "        val = float(val_line.split(':')[1])\n",
    "\n",
    "        results.append((it, train, val))\n",
    "    \n",
    "    columns = ['num_iter', 'train_rms', 'val_rms']\n",
    "    df_results = pd.DataFrame(results, columns=columns)\n",
    "    return df_results"
   ],
   "id": "f7e39c306fac3dce",
   "outputs": [],
   "execution_count": 57
  },
  {
   "metadata": {
    "ExecuteTime": {
     "end_time": "2024-11-03T22:19:43.248585Z",
     "start_time": "2024-11-03T22:19:43.243298Z"
    }
   },
   "cell_type": "code",
   "source": "df_score = parse_xgb_output(output)",
   "id": "89eb847d2dab23ac",
   "outputs": [],
   "execution_count": 61
  },
  {
   "metadata": {
    "ExecuteTime": {
     "end_time": "2024-11-03T22:21:16.040071Z",
     "start_time": "2024-11-03T22:21:15.986939Z"
    }
   },
   "cell_type": "code",
   "source": [
    "## ETA - 0.3 \n",
    "y_pred = model.predict(dval)\n",
    "\n",
    "mean_squared_error(y_val, y_pred,squared=False)\n"
   ],
   "id": "de72a03d8483bd3f",
   "outputs": [
    {
     "data": {
      "text/plain": [
       "44.432098039002526"
      ]
     },
     "execution_count": 63,
     "metadata": {},
     "output_type": "execute_result"
    }
   ],
   "execution_count": 63
  },
  {
   "metadata": {
    "ExecuteTime": {
     "end_time": "2024-11-03T22:21:52.413495Z",
     "start_time": "2024-11-03T22:21:52.401439Z"
    }
   },
   "cell_type": "code",
   "source": [
    "## ETA - 0.1 \n",
    "\n",
    "y_pred = model.predict(dval)\n",
    "\n",
    "mean_squared_error(y_val, y_pred,squared=False)"
   ],
   "id": "5a102e493f1d00d6",
   "outputs": [
    {
     "data": {
      "text/plain": [
       "41.043354592351655"
      ]
     },
     "execution_count": 65,
     "metadata": {},
     "output_type": "execute_result"
    }
   ],
   "execution_count": 65
  },
  {
   "metadata": {},
   "cell_type": "code",
   "outputs": [],
   "execution_count": null,
   "source": "",
   "id": "6b257d6445dfeead"
  }
 ],
 "metadata": {
  "kernelspec": {
   "display_name": "Python 3",
   "language": "python",
   "name": "python3"
  },
  "language_info": {
   "codemirror_mode": {
    "name": "ipython",
    "version": 2
   },
   "file_extension": ".py",
   "mimetype": "text/x-python",
   "name": "python",
   "nbconvert_exporter": "python",
   "pygments_lexer": "ipython2",
   "version": "2.7.6"
  }
 },
 "nbformat": 4,
 "nbformat_minor": 5
}
