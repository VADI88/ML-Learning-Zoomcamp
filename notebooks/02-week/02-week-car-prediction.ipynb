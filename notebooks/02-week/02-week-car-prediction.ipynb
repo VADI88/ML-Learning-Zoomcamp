{
 "cells": [
  {
   "cell_type": "markdown",
   "metadata": {
    "collapsed": false,
    "jupyter": {
     "outputs_hidden": false
    }
   },
   "source": [
    "####  Library"
   ]
  },
  {
   "cell_type": "code",
   "metadata": {
    "collapsed": false,
    "jupyter": {
     "outputs_hidden": false
    },
    "pycharm": {
     "is_executing": true
    },
    "ExecuteTime": {
     "end_time": "2024-10-04T20:47:22.309655Z",
     "start_time": "2024-10-04T20:47:20.057784Z"
    }
   },
   "source": [
    "import pandas as pd\n",
    "import numpy as np\n",
    "from PIL.GimpGradientFile import linear\n",
    "\n",
    "from plotnine import *\n",
    "from mizani import *"
   ],
   "outputs": [],
   "execution_count": 3
  },
  {
   "cell_type": "code",
   "metadata": {
    "collapsed": false,
    "jupyter": {
     "outputs_hidden": false
    },
    "ExecuteTime": {
     "end_time": "2024-10-04T20:47:22.363245Z",
     "start_time": "2024-10-04T20:47:22.319876Z"
    }
   },
   "source": [
    "car_price_df = pd.read_csv('../../data/02-week/car-price.csv')"
   ],
   "outputs": [],
   "execution_count": 4
  },
  {
   "cell_type": "code",
   "metadata": {
    "collapsed": false,
    "jupyter": {
     "outputs_hidden": false
    },
    "ExecuteTime": {
     "end_time": "2024-10-04T20:47:22.412535Z",
     "start_time": "2024-10-04T20:47:22.400221Z"
    }
   },
   "source": [
    "car_price_df.shape"
   ],
   "outputs": [
    {
     "data": {
      "text/plain": [
       "(11914, 16)"
      ]
     },
     "execution_count": 5,
     "metadata": {},
     "output_type": "execute_result"
    }
   ],
   "execution_count": 5
  },
  {
   "cell_type": "code",
   "metadata": {
    "collapsed": false,
    "jupyter": {
     "outputs_hidden": false
    },
    "ExecuteTime": {
     "end_time": "2024-10-04T20:47:22.587687Z",
     "start_time": "2024-10-04T20:47:22.568027Z"
    }
   },
   "source": [
    "car_price_df.head()"
   ],
   "outputs": [
    {
     "data": {
      "text/plain": [
       "  Make       Model  Year             Engine Fuel Type  Engine HP  \\\n",
       "0  BMW  1 Series M  2011  premium unleaded (required)      335.0   \n",
       "1  BMW    1 Series  2011  premium unleaded (required)      300.0   \n",
       "2  BMW    1 Series  2011  premium unleaded (required)      300.0   \n",
       "3  BMW    1 Series  2011  premium unleaded (required)      230.0   \n",
       "4  BMW    1 Series  2011  premium unleaded (required)      230.0   \n",
       "\n",
       "   Engine Cylinders Transmission Type     Driven_Wheels  Number of Doors  \\\n",
       "0               6.0            MANUAL  rear wheel drive              2.0   \n",
       "1               6.0            MANUAL  rear wheel drive              2.0   \n",
       "2               6.0            MANUAL  rear wheel drive              2.0   \n",
       "3               6.0            MANUAL  rear wheel drive              2.0   \n",
       "4               6.0            MANUAL  rear wheel drive              2.0   \n",
       "\n",
       "                         Market Category Vehicle Size Vehicle Style  \\\n",
       "0  Factory Tuner,Luxury,High-Performance      Compact         Coupe   \n",
       "1                     Luxury,Performance      Compact   Convertible   \n",
       "2                Luxury,High-Performance      Compact         Coupe   \n",
       "3                     Luxury,Performance      Compact         Coupe   \n",
       "4                                 Luxury      Compact   Convertible   \n",
       "\n",
       "   highway MPG  city mpg  Popularity   MSRP  \n",
       "0           26        19        3916  46135  \n",
       "1           28        19        3916  40650  \n",
       "2           28        20        3916  36350  \n",
       "3           28        18        3916  29450  \n",
       "4           28        18        3916  34500  "
      ],
      "text/html": [
       "<div>\n",
       "<style scoped>\n",
       "    .dataframe tbody tr th:only-of-type {\n",
       "        vertical-align: middle;\n",
       "    }\n",
       "\n",
       "    .dataframe tbody tr th {\n",
       "        vertical-align: top;\n",
       "    }\n",
       "\n",
       "    .dataframe thead th {\n",
       "        text-align: right;\n",
       "    }\n",
       "</style>\n",
       "<table border=\"1\" class=\"dataframe\">\n",
       "  <thead>\n",
       "    <tr style=\"text-align: right;\">\n",
       "      <th></th>\n",
       "      <th>Make</th>\n",
       "      <th>Model</th>\n",
       "      <th>Year</th>\n",
       "      <th>Engine Fuel Type</th>\n",
       "      <th>Engine HP</th>\n",
       "      <th>Engine Cylinders</th>\n",
       "      <th>Transmission Type</th>\n",
       "      <th>Driven_Wheels</th>\n",
       "      <th>Number of Doors</th>\n",
       "      <th>Market Category</th>\n",
       "      <th>Vehicle Size</th>\n",
       "      <th>Vehicle Style</th>\n",
       "      <th>highway MPG</th>\n",
       "      <th>city mpg</th>\n",
       "      <th>Popularity</th>\n",
       "      <th>MSRP</th>\n",
       "    </tr>\n",
       "  </thead>\n",
       "  <tbody>\n",
       "    <tr>\n",
       "      <th>0</th>\n",
       "      <td>BMW</td>\n",
       "      <td>1 Series M</td>\n",
       "      <td>2011</td>\n",
       "      <td>premium unleaded (required)</td>\n",
       "      <td>335.0</td>\n",
       "      <td>6.0</td>\n",
       "      <td>MANUAL</td>\n",
       "      <td>rear wheel drive</td>\n",
       "      <td>2.0</td>\n",
       "      <td>Factory Tuner,Luxury,High-Performance</td>\n",
       "      <td>Compact</td>\n",
       "      <td>Coupe</td>\n",
       "      <td>26</td>\n",
       "      <td>19</td>\n",
       "      <td>3916</td>\n",
       "      <td>46135</td>\n",
       "    </tr>\n",
       "    <tr>\n",
       "      <th>1</th>\n",
       "      <td>BMW</td>\n",
       "      <td>1 Series</td>\n",
       "      <td>2011</td>\n",
       "      <td>premium unleaded (required)</td>\n",
       "      <td>300.0</td>\n",
       "      <td>6.0</td>\n",
       "      <td>MANUAL</td>\n",
       "      <td>rear wheel drive</td>\n",
       "      <td>2.0</td>\n",
       "      <td>Luxury,Performance</td>\n",
       "      <td>Compact</td>\n",
       "      <td>Convertible</td>\n",
       "      <td>28</td>\n",
       "      <td>19</td>\n",
       "      <td>3916</td>\n",
       "      <td>40650</td>\n",
       "    </tr>\n",
       "    <tr>\n",
       "      <th>2</th>\n",
       "      <td>BMW</td>\n",
       "      <td>1 Series</td>\n",
       "      <td>2011</td>\n",
       "      <td>premium unleaded (required)</td>\n",
       "      <td>300.0</td>\n",
       "      <td>6.0</td>\n",
       "      <td>MANUAL</td>\n",
       "      <td>rear wheel drive</td>\n",
       "      <td>2.0</td>\n",
       "      <td>Luxury,High-Performance</td>\n",
       "      <td>Compact</td>\n",
       "      <td>Coupe</td>\n",
       "      <td>28</td>\n",
       "      <td>20</td>\n",
       "      <td>3916</td>\n",
       "      <td>36350</td>\n",
       "    </tr>\n",
       "    <tr>\n",
       "      <th>3</th>\n",
       "      <td>BMW</td>\n",
       "      <td>1 Series</td>\n",
       "      <td>2011</td>\n",
       "      <td>premium unleaded (required)</td>\n",
       "      <td>230.0</td>\n",
       "      <td>6.0</td>\n",
       "      <td>MANUAL</td>\n",
       "      <td>rear wheel drive</td>\n",
       "      <td>2.0</td>\n",
       "      <td>Luxury,Performance</td>\n",
       "      <td>Compact</td>\n",
       "      <td>Coupe</td>\n",
       "      <td>28</td>\n",
       "      <td>18</td>\n",
       "      <td>3916</td>\n",
       "      <td>29450</td>\n",
       "    </tr>\n",
       "    <tr>\n",
       "      <th>4</th>\n",
       "      <td>BMW</td>\n",
       "      <td>1 Series</td>\n",
       "      <td>2011</td>\n",
       "      <td>premium unleaded (required)</td>\n",
       "      <td>230.0</td>\n",
       "      <td>6.0</td>\n",
       "      <td>MANUAL</td>\n",
       "      <td>rear wheel drive</td>\n",
       "      <td>2.0</td>\n",
       "      <td>Luxury</td>\n",
       "      <td>Compact</td>\n",
       "      <td>Convertible</td>\n",
       "      <td>28</td>\n",
       "      <td>18</td>\n",
       "      <td>3916</td>\n",
       "      <td>34500</td>\n",
       "    </tr>\n",
       "  </tbody>\n",
       "</table>\n",
       "</div>"
      ]
     },
     "execution_count": 6,
     "metadata": {},
     "output_type": "execute_result"
    }
   ],
   "execution_count": 6
  },
  {
   "cell_type": "code",
   "metadata": {
    "collapsed": false,
    "jupyter": {
     "outputs_hidden": false
    },
    "ExecuteTime": {
     "end_time": "2024-10-04T20:47:24.084491Z",
     "start_time": "2024-10-04T20:47:24.004857Z"
    }
   },
   "source": [
    "car_price_df.columns = car_price_df.columns.str.lower().str.replace(' ', '_')\n",
    "\n",
    "string_columns = list(car_price_df.dtypes[car_price_df.dtypes == 'object'].index)\n",
    "\n",
    "for col in string_columns:\n",
    "    car_price_df[col] = car_price_df[col].str.lower().str.replace(' ', '_')"
   ],
   "outputs": [],
   "execution_count": 7
  },
  {
   "cell_type": "code",
   "metadata": {
    "collapsed": false,
    "jupyter": {
     "outputs_hidden": false
    },
    "ExecuteTime": {
     "end_time": "2024-10-04T20:47:24.802879Z",
     "start_time": "2024-10-04T20:47:24.783272Z"
    }
   },
   "source": [
    "car_price_df.head()"
   ],
   "outputs": [
    {
     "data": {
      "text/plain": [
       "  make       model  year             engine_fuel_type  engine_hp  \\\n",
       "0  bmw  1_series_m  2011  premium_unleaded_(required)      335.0   \n",
       "1  bmw    1_series  2011  premium_unleaded_(required)      300.0   \n",
       "2  bmw    1_series  2011  premium_unleaded_(required)      300.0   \n",
       "3  bmw    1_series  2011  premium_unleaded_(required)      230.0   \n",
       "4  bmw    1_series  2011  premium_unleaded_(required)      230.0   \n",
       "\n",
       "   engine_cylinders transmission_type     driven_wheels  number_of_doors  \\\n",
       "0               6.0            manual  rear_wheel_drive              2.0   \n",
       "1               6.0            manual  rear_wheel_drive              2.0   \n",
       "2               6.0            manual  rear_wheel_drive              2.0   \n",
       "3               6.0            manual  rear_wheel_drive              2.0   \n",
       "4               6.0            manual  rear_wheel_drive              2.0   \n",
       "\n",
       "                         market_category vehicle_size vehicle_style  \\\n",
       "0  factory_tuner,luxury,high-performance      compact         coupe   \n",
       "1                     luxury,performance      compact   convertible   \n",
       "2                luxury,high-performance      compact         coupe   \n",
       "3                     luxury,performance      compact         coupe   \n",
       "4                                 luxury      compact   convertible   \n",
       "\n",
       "   highway_mpg  city_mpg  popularity   msrp  \n",
       "0           26        19        3916  46135  \n",
       "1           28        19        3916  40650  \n",
       "2           28        20        3916  36350  \n",
       "3           28        18        3916  29450  \n",
       "4           28        18        3916  34500  "
      ],
      "text/html": [
       "<div>\n",
       "<style scoped>\n",
       "    .dataframe tbody tr th:only-of-type {\n",
       "        vertical-align: middle;\n",
       "    }\n",
       "\n",
       "    .dataframe tbody tr th {\n",
       "        vertical-align: top;\n",
       "    }\n",
       "\n",
       "    .dataframe thead th {\n",
       "        text-align: right;\n",
       "    }\n",
       "</style>\n",
       "<table border=\"1\" class=\"dataframe\">\n",
       "  <thead>\n",
       "    <tr style=\"text-align: right;\">\n",
       "      <th></th>\n",
       "      <th>make</th>\n",
       "      <th>model</th>\n",
       "      <th>year</th>\n",
       "      <th>engine_fuel_type</th>\n",
       "      <th>engine_hp</th>\n",
       "      <th>engine_cylinders</th>\n",
       "      <th>transmission_type</th>\n",
       "      <th>driven_wheels</th>\n",
       "      <th>number_of_doors</th>\n",
       "      <th>market_category</th>\n",
       "      <th>vehicle_size</th>\n",
       "      <th>vehicle_style</th>\n",
       "      <th>highway_mpg</th>\n",
       "      <th>city_mpg</th>\n",
       "      <th>popularity</th>\n",
       "      <th>msrp</th>\n",
       "    </tr>\n",
       "  </thead>\n",
       "  <tbody>\n",
       "    <tr>\n",
       "      <th>0</th>\n",
       "      <td>bmw</td>\n",
       "      <td>1_series_m</td>\n",
       "      <td>2011</td>\n",
       "      <td>premium_unleaded_(required)</td>\n",
       "      <td>335.0</td>\n",
       "      <td>6.0</td>\n",
       "      <td>manual</td>\n",
       "      <td>rear_wheel_drive</td>\n",
       "      <td>2.0</td>\n",
       "      <td>factory_tuner,luxury,high-performance</td>\n",
       "      <td>compact</td>\n",
       "      <td>coupe</td>\n",
       "      <td>26</td>\n",
       "      <td>19</td>\n",
       "      <td>3916</td>\n",
       "      <td>46135</td>\n",
       "    </tr>\n",
       "    <tr>\n",
       "      <th>1</th>\n",
       "      <td>bmw</td>\n",
       "      <td>1_series</td>\n",
       "      <td>2011</td>\n",
       "      <td>premium_unleaded_(required)</td>\n",
       "      <td>300.0</td>\n",
       "      <td>6.0</td>\n",
       "      <td>manual</td>\n",
       "      <td>rear_wheel_drive</td>\n",
       "      <td>2.0</td>\n",
       "      <td>luxury,performance</td>\n",
       "      <td>compact</td>\n",
       "      <td>convertible</td>\n",
       "      <td>28</td>\n",
       "      <td>19</td>\n",
       "      <td>3916</td>\n",
       "      <td>40650</td>\n",
       "    </tr>\n",
       "    <tr>\n",
       "      <th>2</th>\n",
       "      <td>bmw</td>\n",
       "      <td>1_series</td>\n",
       "      <td>2011</td>\n",
       "      <td>premium_unleaded_(required)</td>\n",
       "      <td>300.0</td>\n",
       "      <td>6.0</td>\n",
       "      <td>manual</td>\n",
       "      <td>rear_wheel_drive</td>\n",
       "      <td>2.0</td>\n",
       "      <td>luxury,high-performance</td>\n",
       "      <td>compact</td>\n",
       "      <td>coupe</td>\n",
       "      <td>28</td>\n",
       "      <td>20</td>\n",
       "      <td>3916</td>\n",
       "      <td>36350</td>\n",
       "    </tr>\n",
       "    <tr>\n",
       "      <th>3</th>\n",
       "      <td>bmw</td>\n",
       "      <td>1_series</td>\n",
       "      <td>2011</td>\n",
       "      <td>premium_unleaded_(required)</td>\n",
       "      <td>230.0</td>\n",
       "      <td>6.0</td>\n",
       "      <td>manual</td>\n",
       "      <td>rear_wheel_drive</td>\n",
       "      <td>2.0</td>\n",
       "      <td>luxury,performance</td>\n",
       "      <td>compact</td>\n",
       "      <td>coupe</td>\n",
       "      <td>28</td>\n",
       "      <td>18</td>\n",
       "      <td>3916</td>\n",
       "      <td>29450</td>\n",
       "    </tr>\n",
       "    <tr>\n",
       "      <th>4</th>\n",
       "      <td>bmw</td>\n",
       "      <td>1_series</td>\n",
       "      <td>2011</td>\n",
       "      <td>premium_unleaded_(required)</td>\n",
       "      <td>230.0</td>\n",
       "      <td>6.0</td>\n",
       "      <td>manual</td>\n",
       "      <td>rear_wheel_drive</td>\n",
       "      <td>2.0</td>\n",
       "      <td>luxury</td>\n",
       "      <td>compact</td>\n",
       "      <td>convertible</td>\n",
       "      <td>28</td>\n",
       "      <td>18</td>\n",
       "      <td>3916</td>\n",
       "      <td>34500</td>\n",
       "    </tr>\n",
       "  </tbody>\n",
       "</table>\n",
       "</div>"
      ]
     },
     "execution_count": 8,
     "metadata": {},
     "output_type": "execute_result"
    }
   ],
   "execution_count": 8
  },
  {
   "cell_type": "markdown",
   "metadata": {
    "collapsed": false,
    "jupyter": {
     "outputs_hidden": false
    }
   },
   "source": [
    "### Exploratory data analysis"
   ]
  },
  {
   "cell_type": "code",
   "metadata": {
    "collapsed": false,
    "jupyter": {
     "outputs_hidden": false
    },
    "ExecuteTime": {
     "end_time": "2024-10-04T20:47:26.342815Z",
     "start_time": "2024-10-04T20:47:26.303415Z"
    }
   },
   "source": [
    "for col in car_price_df.columns:\n",
    "    print(col)\n",
    "    print(car_price_df[col].unique()[:5])\n",
    "    print(car_price_df[col].nunique())\n",
    "    print()"
   ],
   "outputs": [
    {
     "name": "stdout",
     "output_type": "stream",
     "text": [
      "make\n",
      "['bmw' 'audi' 'fiat' 'mercedes-benz' 'chrysler']\n",
      "48\n",
      "\n",
      "model\n",
      "['1_series_m' '1_series' '100' '124_spider' '190-class']\n",
      "914\n",
      "\n",
      "year\n",
      "[2011 2012 2013 1992 1993]\n",
      "28\n",
      "\n",
      "engine_fuel_type\n",
      "['premium_unleaded_(required)' 'regular_unleaded'\n",
      " 'premium_unleaded_(recommended)' 'flex-fuel_(unleaded/e85)' 'diesel']\n",
      "10\n",
      "\n",
      "engine_hp\n",
      "[335. 300. 230. 320. 172.]\n",
      "356\n",
      "\n",
      "engine_cylinders\n",
      "[ 6.  4.  5.  8. 12.]\n",
      "9\n",
      "\n",
      "transmission_type\n",
      "['manual' 'automatic' 'automated_manual' 'direct_drive' 'unknown']\n",
      "5\n",
      "\n",
      "driven_wheels\n",
      "['rear_wheel_drive' 'front_wheel_drive' 'all_wheel_drive'\n",
      " 'four_wheel_drive']\n",
      "4\n",
      "\n",
      "number_of_doors\n",
      "[ 2.  4.  3. nan]\n",
      "3\n",
      "\n",
      "market_category\n",
      "['factory_tuner,luxury,high-performance' 'luxury,performance'\n",
      " 'luxury,high-performance' 'luxury' 'performance']\n",
      "71\n",
      "\n",
      "vehicle_size\n",
      "['compact' 'midsize' 'large']\n",
      "3\n",
      "\n",
      "vehicle_style\n",
      "['coupe' 'convertible' 'sedan' 'wagon' '4dr_hatchback']\n",
      "16\n",
      "\n",
      "highway_mpg\n",
      "[26 28 27 25 24]\n",
      "59\n",
      "\n",
      "city_mpg\n",
      "[19 20 18 17 16]\n",
      "69\n",
      "\n",
      "popularity\n",
      "[3916 3105  819  617 1013]\n",
      "48\n",
      "\n",
      "msrp\n",
      "[46135 40650 36350 29450 34500]\n",
      "6049\n",
      "\n"
     ]
    }
   ],
   "execution_count": 9
  },
  {
   "cell_type": "code",
   "metadata": {
    "collapsed": false,
    "jupyter": {
     "outputs_hidden": false
    },
    "ExecuteTime": {
     "end_time": "2024-10-04T20:47:30.614289Z",
     "start_time": "2024-10-04T20:47:27.077232Z"
    }
   },
   "source": [
    "(\n",
    " ggplot(car_price_df,aes(x = 'msrp'))\n",
    "    + geom_histogram(bins=50)\n",
    "    + labs(\n",
    "        x = 'MSRP',\n",
    "        y = 'Count',\n",
    "        title = 'Distribution of MSRP'\n",
    ")\n",
    " + theme_seaborn()\n",
    " + theme(figure_size=(8,4))\n",
    "\n",
    ")"
   ],
   "outputs": [
    {
     "data": {
      "image/png": "[encoded data removed]"
     },
     "metadata": {
      "image/png": {
       "width": 800,
       "height": 400
      }
     },
     "output_type": "display_data"
    }
   ],
   "execution_count": 10
  },
  {
   "cell_type": "code",
   "metadata": {
    "collapsed": false,
    "jupyter": {
     "outputs_hidden": false
    },
    "ExecuteTime": {
     "end_time": "2024-10-04T20:47:31.107610Z",
     "start_time": "2024-10-04T20:47:30.659741Z"
    }
   },
   "source": [
    "(\n",
    " ggplot(car_price_df\\\n",
    "        .query(\"msrp<100000\"),aes(x = 'msrp'))\n",
    "    + geom_histogram(bins=50)\n",
    "    + labs(\n",
    "        x = 'MSRP',\n",
    "        y = 'Count',\n",
    "        title = 'Distribution of MSRP - Cars with MSRP less than 100_000',\n",
    ")\n",
    " + theme_seaborn()\n",
    " + theme(figure_size=(8,4))\n",
    "\n",
    ")"
   ],
   "outputs": [
    {
     "data": {
      "image/png": "[encoded data removed]"
     },
     "metadata": {
      "image/png": {
       "width": 800,
       "height": 400
      }
     },
     "output_type": "display_data"
    }
   ],
   "execution_count": 11
  },
  {
   "cell_type": "markdown",
   "metadata": {
    "collapsed": false,
    "jupyter": {
     "outputs_hidden": false
    }
   },
   "source": [
    "Log Transformation\n",
    "- Applying log transformation to supress long tail distribution"
   ]
  },
  {
   "cell_type": "code",
   "metadata": {
    "collapsed": false,
    "jupyter": {
     "outputs_hidden": false
    },
    "ExecuteTime": {
     "end_time": "2024-10-04T20:47:31.723025Z",
     "start_time": "2024-10-04T20:47:31.158597Z"
    }
   },
   "source": [
    "(\n",
    "        ggplot(car_price_df\\\n",
    "               .assign(price_logs10= lambda x:np.log1p(x['msrp'])),\n",
    "               aes(x = 'price_logs10')\n",
    "               )\n",
    "    + geom_histogram(bins=50)\n",
    "    + labs(\n",
    "        x = 'MSRP',\n",
    "        y = 'Count',\n",
    "        title = 'Distribution of MSRP - Log transformation',\n",
    ")\n",
    " + theme_seaborn()\n",
    " + theme(figure_size=(8,4))\n",
    "\n",
    ")"
   ],
   "outputs": [
    {
     "data": {
      "image/png": "[encoded data removed]"
     },
     "metadata": {
      "image/png": {
       "width": 800,
       "height": 400
      }
     },
     "output_type": "display_data"
    }
   ],
   "execution_count": 12
  },
  {
   "cell_type": "markdown",
   "metadata": {
    "collapsed": false,
    "jupyter": {
     "outputs_hidden": false
    }
   },
   "source": [
    "### Missing values"
   ]
  },
  {
   "cell_type": "code",
   "metadata": {
    "collapsed": false,
    "jupyter": {
     "outputs_hidden": false
    },
    "ExecuteTime": {
     "end_time": "2024-10-04T20:47:31.789918Z",
     "start_time": "2024-10-04T20:47:31.767776Z"
    }
   },
   "source": [
    "car_price_df.isnull().sum()"
   ],
   "outputs": [
    {
     "data": {
      "text/plain": [
       "make                    0\n",
       "model                   0\n",
       "year                    0\n",
       "engine_fuel_type        3\n",
       "engine_hp              69\n",
       "engine_cylinders       30\n",
       "transmission_type       0\n",
       "driven_wheels           0\n",
       "number_of_doors         6\n",
       "market_category      3742\n",
       "vehicle_size            0\n",
       "vehicle_style           0\n",
       "highway_mpg             0\n",
       "city_mpg                0\n",
       "popularity              0\n",
       "msrp                    0\n",
       "dtype: int64"
      ]
     },
     "execution_count": 13,
     "metadata": {},
     "output_type": "execute_result"
    }
   ],
   "execution_count": 13
  },
  {
   "cell_type": "markdown",
   "metadata": {
    "collapsed": false,
    "jupyter": {
     "outputs_hidden": false
    }
   },
   "source": [
    "### Setting up validation setup"
   ]
  },
  {
   "cell_type": "code",
   "metadata": {
    "collapsed": false,
    "jupyter": {
     "outputs_hidden": false
    },
    "ExecuteTime": {
     "end_time": "2024-10-04T20:47:32.654685Z",
     "start_time": "2024-10-04T20:47:32.639811Z"
    }
   },
   "source": [
    "np.random.seed(2)\n",
    "\n",
    "n = len(car_price_df)\n",
    "\n",
    "n_val = int(0.2 * n)\n",
    "n_test = int(0.2 * n)\n",
    "n_train = n - (n_val + n_test)"
   ],
   "outputs": [],
   "execution_count": 14
  },
  {
   "cell_type": "code",
   "metadata": {
    "collapsed": false,
    "jupyter": {
     "outputs_hidden": false
    },
    "ExecuteTime": {
     "end_time": "2024-10-04T20:47:33.389101Z",
     "start_time": "2024-10-04T20:47:33.382934Z"
    }
   },
   "source": [
    "idx = np.arange(n)\n",
    "np.random.shuffle(idx)"
   ],
   "outputs": [],
   "execution_count": 15
  },
  {
   "cell_type": "code",
   "metadata": {
    "collapsed": false,
    "jupyter": {
     "outputs_hidden": false
    },
    "ExecuteTime": {
     "end_time": "2024-10-04T20:54:40.135814Z",
     "start_time": "2024-10-04T20:54:40.086562Z"
    }
   },
   "source": [
    "car_price_df_shuffled = car_price_df.iloc[idx]\n",
    "\n",
    "df_train = car_price_df_shuffled.iloc[:n_train].copy()\n",
    "df_val = car_price_df_shuffled.iloc[n_train:n_train+n_val].copy()\n",
    "df_test = car_price_df_shuffled.iloc[n_train+n_val:].copy()\n",
    "print(df_train.shape)\n",
    "print(df_val.shape)\n",
    "print(df_test.shape)"
   ],
   "outputs": [
    {
     "name": "stdout",
     "output_type": "stream",
     "text": [
      "(7150, 16)\n",
      "(2382, 16)\n",
      "(2382, 16)\n"
     ]
    }
   ],
   "execution_count": 75
  },
  {
   "cell_type": "code",
   "metadata": {
    "collapsed": false,
    "jupyter": {
     "outputs_hidden": false
    },
    "ExecuteTime": {
     "end_time": "2024-10-04T20:54:41.596521Z",
     "start_time": "2024-10-04T20:54:41.590384Z"
    }
   },
   "source": [
    "y_train =  np.log1p(df_train.msrp.values)\n",
    "y_test =  np.log1p(df_test.msrp.values)\n",
    "y_val =  np.log1p(df_val.msrp.values)\n"
   ],
   "outputs": [],
   "execution_count": 76
  },
  {
   "cell_type": "code",
   "metadata": {
    "collapsed": false,
    "jupyter": {
     "outputs_hidden": false
    },
    "ExecuteTime": {
     "end_time": "2024-10-04T20:54:42.167740Z",
     "start_time": "2024-10-04T20:54:42.151581Z"
    }
   },
   "source": [
    "df_train.drop('msrp',inplace=True,axis=1)\n",
    "df_test.drop('msrp',inplace=True,axis=1)\n",
    "df_val.drop('msrp',inplace=True,axis=1)\n"
   ],
   "outputs": [],
   "execution_count": 77
  },
  {
   "cell_type": "markdown",
   "metadata": {
    "collapsed": false,
    "jupyter": {
     "outputs_hidden": false
    }
   },
   "source": [
    "### Linear Regression (Bare Bone)"
   ]
  },
  {
   "cell_type": "code",
   "metadata": {
    "ExecuteTime": {
     "end_time": "2024-10-04T20:47:36.677658Z",
     "start_time": "2024-10-04T20:47:36.672676Z"
    }
   },
   "source": [
    "w0 = 7.17\n",
    "w = [0.01, 0.04, 0.002]\n",
    "xi = [453,11,86]"
   ],
   "outputs": [],
   "execution_count": 19
  },
  {
   "cell_type": "code",
   "metadata": {
    "collapsed": false,
    "jupyter": {
     "outputs_hidden": false
    },
    "ExecuteTime": {
     "end_time": "2024-10-04T20:47:37.308852Z",
     "start_time": "2024-10-04T20:47:37.303562Z"
    }
   },
   "source": [
    "def linear_regression(xi:list)-> int:\n",
    "    \n",
    "    n = len(xi)\n",
    "    \n",
    "    pred = w0\n",
    "    for j in range(n):\n",
    "        pred = pred + w[j] * xi[j]\n",
    "    return pred"
   ],
   "outputs": [],
   "execution_count": 20
  },
  {
   "cell_type": "code",
   "metadata": {
    "ExecuteTime": {
     "end_time": "2024-10-04T20:47:37.817682Z",
     "start_time": "2024-10-04T20:47:37.812164Z"
    }
   },
   "source": [
    "linear_regression(xi)"
   ],
   "outputs": [
    {
     "data": {
      "text/plain": [
       "12.312"
      ]
     },
     "execution_count": 21,
     "metadata": {},
     "output_type": "execute_result"
    }
   ],
   "execution_count": 21
  },
  {
   "cell_type": "code",
   "metadata": {
    "ExecuteTime": {
     "end_time": "2024-10-04T20:47:38.392786Z",
     "start_time": "2024-10-04T20:47:38.386057Z"
    }
   },
   "source": [
    "np.exp(12.312)"
   ],
   "outputs": [
    {
     "data": {
      "text/plain": [
       "222348.2221101062"
      ]
     },
     "execution_count": 22,
     "metadata": {},
     "output_type": "execute_result"
    }
   ],
   "execution_count": 22
  },
  {
   "cell_type": "markdown",
   "metadata": {},
   "source": [
    "### Linear Regression (Vector form)"
   ]
  },
  {
   "metadata": {
    "ExecuteTime": {
     "end_time": "2024-10-04T20:47:39.531666Z",
     "start_time": "2024-10-04T20:47:39.527808Z"
    }
   },
   "cell_type": "code",
   "source": [
    "w_new = [w0] + w\n",
    "print(w_new)"
   ],
   "outputs": [
    {
     "name": "stdout",
     "output_type": "stream",
     "text": [
      "[7.17, 0.01, 0.04, 0.002]\n"
     ]
    }
   ],
   "execution_count": 23
  },
  {
   "cell_type": "code",
   "metadata": {
    "ExecuteTime": {
     "end_time": "2024-10-04T20:47:40.063449Z",
     "start_time": "2024-10-04T20:47:40.058468Z"
    }
   },
   "source": [
    "def dot_product(xi,wi):\n",
    "    n = len(xi)\n",
    "    res = 0 \n",
    "    for j in range(n):\n",
    "        res = res + xi[j] * wi[j]\n",
    "    return res"
   ],
   "outputs": [],
   "execution_count": 24
  },
  {
   "metadata": {
    "ExecuteTime": {
     "end_time": "2024-10-04T20:47:40.580962Z",
     "start_time": "2024-10-04T20:47:40.577134Z"
    }
   },
   "cell_type": "code",
   "source": [
    "def linear_regression(xi):\n",
    "    xi = [1] + xi\n",
    "    return dot_product(xi,w_new)"
   ],
   "outputs": [],
   "execution_count": 25
  },
  {
   "metadata": {
    "ExecuteTime": {
     "end_time": "2024-10-04T20:47:41.079824Z",
     "start_time": "2024-10-04T20:47:41.073118Z"
    }
   },
   "cell_type": "code",
   "source": "linear_regression(xi)",
   "outputs": [
    {
     "data": {
      "text/plain": [
       "12.312"
      ]
     },
     "execution_count": 26,
     "metadata": {},
     "output_type": "execute_result"
    }
   ],
   "execution_count": 26
  },
  {
   "metadata": {
    "ExecuteTime": {
     "end_time": "2024-10-04T20:47:41.526059Z",
     "start_time": "2024-10-04T20:47:41.521649Z"
    }
   },
   "cell_type": "code",
   "source": [
    "x1 = [1,148,24,1385]\n",
    "x2 = [1,132,25,2031]\n",
    "x3 = [1,453,11,86]"
   ],
   "outputs": [],
   "execution_count": 27
  },
  {
   "metadata": {
    "ExecuteTime": {
     "end_time": "2024-10-04T20:47:42.006739Z",
     "start_time": "2024-10-04T20:47:42.001693Z"
    }
   },
   "cell_type": "code",
   "source": [
    "x = [x1,x2,x3]\n",
    "X = np.array(x)"
   ],
   "outputs": [],
   "execution_count": 28
  },
  {
   "metadata": {
    "ExecuteTime": {
     "end_time": "2024-10-04T20:47:42.444063Z",
     "start_time": "2024-10-04T20:47:42.439416Z"
    }
   },
   "cell_type": "code",
   "source": [
    "def linear_regression(X,w):\n",
    "    return X.dot(w_new)"
   ],
   "outputs": [],
   "execution_count": 29
  },
  {
   "metadata": {
    "ExecuteTime": {
     "end_time": "2024-10-04T20:47:42.915797Z",
     "start_time": "2024-10-04T20:47:42.908914Z"
    }
   },
   "cell_type": "code",
   "source": "linear_regression(X,w_new)",
   "outputs": [
    {
     "data": {
      "text/plain": [
       "array([12.38 , 13.552, 12.312])"
      ]
     },
     "execution_count": 30,
     "metadata": {},
     "output_type": "execute_result"
    }
   ],
   "execution_count": 30
  },
  {
   "metadata": {},
   "cell_type": "markdown",
   "source": "### Lienar Regression Normal"
  },
  {
   "metadata": {
    "ExecuteTime": {
     "end_time": "2024-10-04T20:47:43.747774Z",
     "start_time": "2024-10-04T20:47:43.738398Z"
    }
   },
   "cell_type": "code",
   "source": [
    "def train_linear_regression(X,y):\n",
    "    ones = np.ones(X.shape[0])\n",
    "    X = np.column_stack([ones, X])\n",
    "\n",
    "    XTX = X.T.dot(X)\n",
    "    XTX_inv = np.linalg.inv(XTX)\n",
    "    w_full = XTX_inv.dot(X.T).dot(y)\n",
    "    \n",
    "    return w_full[0],w_full[1:]"
   ],
   "outputs": [],
   "execution_count": 31
  },
  {
   "metadata": {},
   "cell_type": "markdown",
   "source": "### Car Predictions model"
  },
  {
   "metadata": {
    "ExecuteTime": {
     "end_time": "2024-10-04T20:47:56.944180Z",
     "start_time": "2024-10-04T20:47:56.937449Z"
    }
   },
   "cell_type": "code",
   "source": "car_price_df.columns",
   "outputs": [
    {
     "data": {
      "text/plain": [
       "Index(['make', 'model', 'year', 'engine_fuel_type', 'engine_hp',\n",
       "       'engine_cylinders', 'transmission_type', 'driven_wheels',\n",
       "       'number_of_doors', 'market_category', 'vehicle_size', 'vehicle_style',\n",
       "       'highway_mpg', 'city_mpg', 'popularity', 'msrp'],\n",
       "      dtype='object')"
      ]
     },
     "execution_count": 35,
     "metadata": {},
     "output_type": "execute_result"
    }
   ],
   "execution_count": 35
  },
  {
   "metadata": {
    "ExecuteTime": {
     "end_time": "2024-10-04T20:47:57.466577Z",
     "start_time": "2024-10-04T20:47:57.461919Z"
    }
   },
   "cell_type": "code",
   "source": "base = ['engine_hp','engine_cylinders','highway_mpg','city_mpg','popularity']",
   "outputs": [],
   "execution_count": 36
  },
  {
   "metadata": {
    "ExecuteTime": {
     "end_time": "2024-10-04T20:47:57.951773Z",
     "start_time": "2024-10-04T20:47:57.946157Z"
    }
   },
   "cell_type": "code",
   "source": "df_train = df_train[base].fillna(0)",
   "outputs": [],
   "execution_count": 37
  },
  {
   "metadata": {
    "ExecuteTime": {
     "end_time": "2024-10-04T20:47:58.456140Z",
     "start_time": "2024-10-04T20:47:58.450744Z"
    }
   },
   "cell_type": "code",
   "source": "X_train = df_train[base].values",
   "outputs": [],
   "execution_count": 38
  },
  {
   "metadata": {
    "ExecuteTime": {
     "end_time": "2024-10-04T20:47:58.816680Z",
     "start_time": "2024-10-04T20:47:58.807546Z"
    }
   },
   "cell_type": "code",
   "source": "train_linear_regression(X_train,y_train)",
   "outputs": [
    {
     "data": {
      "text/plain": [
       "(7.927257388069986,\n",
       " array([ 9.70589522e-03, -1.59103494e-01,  1.43792133e-02,  1.49441072e-02,\n",
       "        -9.06908672e-06]))"
      ]
     },
     "execution_count": 39,
     "metadata": {},
     "output_type": "execute_result"
    }
   ],
   "execution_count": 39
  },
  {
   "metadata": {
    "ExecuteTime": {
     "end_time": "2024-10-04T20:47:59.273588Z",
     "start_time": "2024-10-04T20:47:59.267212Z"
    }
   },
   "cell_type": "code",
   "source": "w_0, w = train_linear_regression(X_train, y_train)",
   "outputs": [],
   "execution_count": 40
  },
  {
   "metadata": {
    "ExecuteTime": {
     "end_time": "2024-10-04T20:47:59.765464Z",
     "start_time": "2024-10-04T20:47:59.760851Z"
    }
   },
   "cell_type": "code",
   "source": "y_pred = w_0 + X_train.dot(w)",
   "outputs": [],
   "execution_count": 41
  },
  {
   "metadata": {
    "ExecuteTime": {
     "end_time": "2024-10-04T20:48:00.227924Z",
     "start_time": "2024-10-04T20:48:00.214211Z"
    }
   },
   "cell_type": "code",
   "source": [
    "chart_compare_df = pd.DataFrame(dict(y_pred=y_pred,\n",
    "                                     y_train = y_train))\n",
    "\n",
    "chart_compare_df = chart_compare_df.melt(value_vars=['y_pred','y_train'],\n",
    "                      )"
   ],
   "outputs": [],
   "execution_count": 42
  },
  {
   "metadata": {
    "ExecuteTime": {
     "end_time": "2024-10-04T20:48:01.417052Z",
     "start_time": "2024-10-04T20:48:00.760008Z"
    }
   },
   "cell_type": "code",
   "source": [
    "(\n",
    "        ggplot(chart_compare_df,aes(x = 'value', fill='variable')) \n",
    "    + geom_histogram(bins = 50)\n",
    "    + labs(\n",
    "        title = 'Distribution of Y_Pred vs Y_Train',\n",
    ")\n",
    " + theme_seaborn()\n",
    " + theme(figure_size=(6,4))\n",
    ")"
   ],
   "outputs": [
    {
     "data": {
      "image/png": "[encoded data removed]"
     },
     "metadata": {
      "image/png": {
       "width": 600,
       "height": 400
      }
     },
     "output_type": "display_data"
    }
   ],
   "execution_count": 43
  },
  {
   "metadata": {},
   "cell_type": "markdown",
   "source": "### RMSE"
  },
  {
   "metadata": {
    "ExecuteTime": {
     "end_time": "2024-10-04T20:48:02.025946Z",
     "start_time": "2024-10-04T20:48:02.018409Z"
    }
   },
   "cell_type": "code",
   "source": [
    "def rmse(y, y_pred):\n",
    "    error = y_pred - y\n",
    "    mse = (error ** 2).mean()\n",
    "    return np.sqrt(mse)"
   ],
   "outputs": [],
   "execution_count": 44
  },
  {
   "metadata": {
    "ExecuteTime": {
     "end_time": "2024-10-04T20:48:03.057714Z",
     "start_time": "2024-10-04T20:48:03.049176Z"
    }
   },
   "cell_type": "code",
   "source": "rmse(y_train,y_pred)",
   "outputs": [
    {
     "data": {
      "text/plain": [
       "0.7554192603920132"
      ]
     },
     "execution_count": 45,
     "metadata": {},
     "output_type": "execute_result"
    }
   ],
   "execution_count": 45
  },
  {
   "metadata": {},
   "cell_type": "markdown",
   "source": "#### Validating the model"
  },
  {
   "metadata": {
    "ExecuteTime": {
     "end_time": "2024-10-04T20:51:28.307790Z",
     "start_time": "2024-10-04T20:51:28.266978Z"
    }
   },
   "cell_type": "code",
   "source": [
    "base = ['engine_hp','engine_cylinders','highway_mpg','city_mpg','popularity']\n",
    "\n",
    "df_train = df_train[base].fillna(0)\n",
    "\n",
    "X_train = df_train[base].values\n",
    "\n",
    "w_0, w = train_linear_regression(X_train, y_train)\n",
    "\n",
    "y_pred = w_0 + X_train.dot(w)"
   ],
   "outputs": [],
   "execution_count": 59
  },
  {
   "metadata": {
    "ExecuteTime": {
     "end_time": "2024-10-04T20:52:36.752494Z",
     "start_time": "2024-10-04T20:52:36.747651Z"
    }
   },
   "cell_type": "code",
   "source": [
    "def prepare_x(df:pd.DataFrame) -> np.array:\n",
    "    df_num = df[base]\n",
    "    \n",
    "    df_num = df_num.fillna(0)\n",
    "    X = df_num.values\n",
    "    return X"
   ],
   "outputs": [],
   "execution_count": 68
  },
  {
   "metadata": {
    "ExecuteTime": {
     "end_time": "2024-10-04T20:52:37.926357Z",
     "start_time": "2024-10-04T20:52:37.918922Z"
    }
   },
   "cell_type": "code",
   "source": [
    "X_train = prepare_x(df_train)\n",
    "w_0, w = train_linear_regression(X_train, y_train)\n"
   ],
   "outputs": [],
   "execution_count": 69
  },
  {
   "metadata": {
    "ExecuteTime": {
     "end_time": "2024-10-04T20:52:38.888566Z",
     "start_time": "2024-10-04T20:52:38.882734Z"
    }
   },
   "cell_type": "code",
   "source": "X_val = prepare_x(df_val)",
   "outputs": [],
   "execution_count": 70
  },
  {
   "metadata": {
    "ExecuteTime": {
     "end_time": "2024-10-04T20:52:40.865452Z",
     "start_time": "2024-10-04T20:52:40.861567Z"
    }
   },
   "cell_type": "code",
   "source": "y_pred = w_0 + X_val.dot(w)",
   "outputs": [],
   "execution_count": 71
  },
  {
   "metadata": {
    "ExecuteTime": {
     "end_time": "2024-10-04T20:52:50.156328Z",
     "start_time": "2024-10-04T20:52:50.149862Z"
    }
   },
   "cell_type": "code",
   "source": "rmse(y_pred,y_val)",
   "outputs": [
    {
     "data": {
      "text/plain": [
       "0.761653099130156"
      ]
     },
     "execution_count": 72,
     "metadata": {},
     "output_type": "execute_result"
    }
   ],
   "execution_count": 72
  },
  {
   "metadata": {},
   "cell_type": "markdown",
   "source": "### Simple Feature engineering "
  },
  {
   "metadata": {
    "ExecuteTime": {
     "end_time": "2024-10-04T20:55:05.717433Z",
     "start_time": "2024-10-04T20:55:05.700410Z"
    }
   },
   "cell_type": "code",
   "source": "df_train.head()",
   "outputs": [
    {
     "data": {
      "text/plain": [
       "             make    model  year          engine_fuel_type  engine_hp  \\\n",
       "2735    chevrolet   cobalt  2008          regular_unleaded      148.0   \n",
       "6720       toyota   matrix  2012          regular_unleaded      132.0   \n",
       "5878       subaru  impreza  2016          regular_unleaded      148.0   \n",
       "11190  volkswagen  vanagon  1991          regular_unleaded       90.0   \n",
       "4554         ford    f-150  2017  flex-fuel_(unleaded/e85)      385.0   \n",
       "\n",
       "       engine_cylinders transmission_type      driven_wheels  number_of_doors  \\\n",
       "2735                4.0            manual  front_wheel_drive              2.0   \n",
       "6720                4.0         automatic  front_wheel_drive              4.0   \n",
       "5878                4.0         automatic    all_wheel_drive              4.0   \n",
       "11190               4.0            manual   rear_wheel_drive              3.0   \n",
       "4554                8.0         automatic   four_wheel_drive              4.0   \n",
       "\n",
       "      market_category vehicle_size      vehicle_style  highway_mpg  city_mpg  \\\n",
       "2735              NaN      compact              coupe           33        24   \n",
       "6720        hatchback      compact      4dr_hatchback           32        25   \n",
       "5878        hatchback      compact      4dr_hatchback           37        28   \n",
       "11190             NaN        large  passenger_minivan           18        16   \n",
       "4554        flex_fuel        large    crew_cab_pickup           21        15   \n",
       "\n",
       "       popularity  \n",
       "2735         1385  \n",
       "6720         2031  \n",
       "5878          640  \n",
       "11190         873  \n",
       "4554         5657  "
      ],
      "text/html": [
       "<div>\n",
       "<style scoped>\n",
       "    .dataframe tbody tr th:only-of-type {\n",
       "        vertical-align: middle;\n",
       "    }\n",
       "\n",
       "    .dataframe tbody tr th {\n",
       "        vertical-align: top;\n",
       "    }\n",
       "\n",
       "    .dataframe thead th {\n",
       "        text-align: right;\n",
       "    }\n",
       "</style>\n",
       "<table border=\"1\" class=\"dataframe\">\n",
       "  <thead>\n",
       "    <tr style=\"text-align: right;\">\n",
       "      <th></th>\n",
       "      <th>make</th>\n",
       "      <th>model</th>\n",
       "      <th>year</th>\n",
       "      <th>engine_fuel_type</th>\n",
       "      <th>engine_hp</th>\n",
       "      <th>engine_cylinders</th>\n",
       "      <th>transmission_type</th>\n",
       "      <th>driven_wheels</th>\n",
       "      <th>number_of_doors</th>\n",
       "      <th>market_category</th>\n",
       "      <th>vehicle_size</th>\n",
       "      <th>vehicle_style</th>\n",
       "      <th>highway_mpg</th>\n",
       "      <th>city_mpg</th>\n",
       "      <th>popularity</th>\n",
       "    </tr>\n",
       "  </thead>\n",
       "  <tbody>\n",
       "    <tr>\n",
       "      <th>2735</th>\n",
       "      <td>chevrolet</td>\n",
       "      <td>cobalt</td>\n",
       "      <td>2008</td>\n",
       "      <td>regular_unleaded</td>\n",
       "      <td>148.0</td>\n",
       "      <td>4.0</td>\n",
       "      <td>manual</td>\n",
       "      <td>front_wheel_drive</td>\n",
       "      <td>2.0</td>\n",
       "      <td>NaN</td>\n",
       "      <td>compact</td>\n",
       "      <td>coupe</td>\n",
       "      <td>33</td>\n",
       "      <td>24</td>\n",
       "      <td>1385</td>\n",
       "    </tr>\n",
       "    <tr>\n",
       "      <th>6720</th>\n",
       "      <td>toyota</td>\n",
       "      <td>matrix</td>\n",
       "      <td>2012</td>\n",
       "      <td>regular_unleaded</td>\n",
       "      <td>132.0</td>\n",
       "      <td>4.0</td>\n",
       "      <td>automatic</td>\n",
       "      <td>front_wheel_drive</td>\n",
       "      <td>4.0</td>\n",
       "      <td>hatchback</td>\n",
       "      <td>compact</td>\n",
       "      <td>4dr_hatchback</td>\n",
       "      <td>32</td>\n",
       "      <td>25</td>\n",
       "      <td>2031</td>\n",
       "    </tr>\n",
       "    <tr>\n",
       "      <th>5878</th>\n",
       "      <td>subaru</td>\n",
       "      <td>impreza</td>\n",
       "      <td>2016</td>\n",
       "      <td>regular_unleaded</td>\n",
       "      <td>148.0</td>\n",
       "      <td>4.0</td>\n",
       "      <td>automatic</td>\n",
       "      <td>all_wheel_drive</td>\n",
       "      <td>4.0</td>\n",
       "      <td>hatchback</td>\n",
       "      <td>compact</td>\n",
       "      <td>4dr_hatchback</td>\n",
       "      <td>37</td>\n",
       "      <td>28</td>\n",
       "      <td>640</td>\n",
       "    </tr>\n",
       "    <tr>\n",
       "      <th>11190</th>\n",
       "      <td>volkswagen</td>\n",
       "      <td>vanagon</td>\n",
       "      <td>1991</td>\n",
       "      <td>regular_unleaded</td>\n",
       "      <td>90.0</td>\n",
       "      <td>4.0</td>\n",
       "      <td>manual</td>\n",
       "      <td>rear_wheel_drive</td>\n",
       "      <td>3.0</td>\n",
       "      <td>NaN</td>\n",
       "      <td>large</td>\n",
       "      <td>passenger_minivan</td>\n",
       "      <td>18</td>\n",
       "      <td>16</td>\n",
       "      <td>873</td>\n",
       "    </tr>\n",
       "    <tr>\n",
       "      <th>4554</th>\n",
       "      <td>ford</td>\n",
       "      <td>f-150</td>\n",
       "      <td>2017</td>\n",
       "      <td>flex-fuel_(unleaded/e85)</td>\n",
       "      <td>385.0</td>\n",
       "      <td>8.0</td>\n",
       "      <td>automatic</td>\n",
       "      <td>four_wheel_drive</td>\n",
       "      <td>4.0</td>\n",
       "      <td>flex_fuel</td>\n",
       "      <td>large</td>\n",
       "      <td>crew_cab_pickup</td>\n",
       "      <td>21</td>\n",
       "      <td>15</td>\n",
       "      <td>5657</td>\n",
       "    </tr>\n",
       "  </tbody>\n",
       "</table>\n",
       "</div>"
      ]
     },
     "execution_count": 78,
     "metadata": {},
     "output_type": "execute_result"
    }
   ],
   "execution_count": 78
  },
  {
   "metadata": {
    "ExecuteTime": {
     "end_time": "2024-10-04T20:57:22.034694Z",
     "start_time": "2024-10-04T20:57:22.030185Z"
    }
   },
   "cell_type": "code",
   "source": [
    "def prepare_x(df:pd.DataFrame) -> np.array:\n",
    "    df = df.copy() ## Will not modify the original dataframe\n",
    "    \n",
    "    df['age'] = 2024 - df.year\n",
    "    features = base + ['age']\n",
    "    df_num = df[features]\n",
    "    \n",
    "    df_num = df_num.fillna(0)\n",
    "    X = df_num.values\n",
    "    return X"
   ],
   "outputs": [],
   "execution_count": 79
  },
  {
   "metadata": {
    "ExecuteTime": {
     "end_time": "2024-10-04T20:57:30.314407Z",
     "start_time": "2024-10-04T20:57:30.302971Z"
    }
   },
   "cell_type": "code",
   "source": "X_train = prepare_x(df_train)",
   "outputs": [],
   "execution_count": 80
  },
  {
   "metadata": {
    "ExecuteTime": {
     "end_time": "2024-10-04T20:58:17.688148Z",
     "start_time": "2024-10-04T20:58:17.666391Z"
    }
   },
   "cell_type": "code",
   "source": [
    "X_train = prepare_x(df_train)\n",
    "w_0, w = train_linear_regression(X_train, y_train)\n",
    "\n",
    "X_val = prepare_x(df_val)\n",
    "\n",
    "y_pred = w_0 + X_val.dot(w)\n",
    "rmse(y_pred,y_val)"
   ],
   "outputs": [
    {
     "data": {
      "text/plain": [
       "0.5172055461058345"
      ]
     },
     "execution_count": 83,
     "metadata": {},
     "output_type": "execute_result"
    }
   ],
   "execution_count": 83
  },
  {
   "metadata": {
    "ExecuteTime": {
     "end_time": "2024-10-04T20:59:19.363230Z",
     "start_time": "2024-10-04T20:59:19.355773Z"
    }
   },
   "cell_type": "code",
   "source": [
    "chart_compare_df = pd.DataFrame(dict(y_pred=y_pred,\n",
    "                                     y_train = y_val))\n",
    "\n",
    "\n",
    "chart_compare_df = chart_compare_df.melt(value_vars=['y_pred','y_train'],\n",
    "                      )"
   ],
   "outputs": [],
   "execution_count": 86
  },
  {
   "metadata": {
    "ExecuteTime": {
     "end_time": "2024-10-04T20:59:21.002134Z",
     "start_time": "2024-10-04T20:59:20.200441Z"
    }
   },
   "cell_type": "code",
   "source": [
    "(\n",
    "        ggplot(chart_compare_df,aes(x = 'value', fill='variable')) \n",
    "    + geom_histogram(bins = 50)\n",
    "    + labs(\n",
    "        title = 'Distribution of Y_Pred vs Y_Train',\n",
    ")\n",
    " + theme_seaborn()\n",
    " + theme(figure_size=(6,4))\n",
    ")"
   ],
   "outputs": [
    {
     "data": {
      "image/png": "[encoded data removed]"
     },
     "metadata": {
      "image/png": {
       "width": 600,
       "height": 400
      }
     },
     "output_type": "display_data"
    }
   ],
   "execution_count": 87
  },
  {
   "metadata": {},
   "cell_type": "markdown",
   "source": "### Categorial variables"
  },
  {
   "metadata": {
    "ExecuteTime": {
     "end_time": "2024-10-04T21:35:06.084127Z",
     "start_time": "2024-10-04T21:35:06.075816Z"
    }
   },
   "cell_type": "code",
   "source": "df_train.number_of_doors.unique()",
   "outputs": [
    {
     "data": {
      "text/plain": [
       "array([ 2.,  4.,  3., nan])"
      ]
     },
     "execution_count": 89,
     "metadata": {},
     "output_type": "execute_result"
    }
   ],
   "execution_count": 89
  },
  {
   "metadata": {
    "ExecuteTime": {
     "end_time": "2024-10-04T21:35:56.601491Z",
     "start_time": "2024-10-04T21:35:56.593075Z"
    }
   },
   "cell_type": "code",
   "source": [
    "for val in [2,3,4]:\n",
    "    df_train['num_door_%s'%val] = (df_train.number_of_doors==val).astype(int)"
   ],
   "outputs": [],
   "execution_count": 91
  },
  {
   "metadata": {
    "ExecuteTime": {
     "end_time": "2024-10-04T21:51:31.259298Z",
     "start_time": "2024-10-04T21:51:31.253659Z"
    }
   },
   "cell_type": "code",
   "source": [
    "def prepare_x(df:pd.DataFrame) -> np.array:\n",
    "    df = df.copy() ## Will not modify the original dataframe\n",
    "    \n",
    "    df['age'] = 2024 - df.year\n",
    "    features = base + ['age']\n",
    "\n",
    "    for val in [2,3,4]:\n",
    "        df['num_door_%s'%val] = (df.number_of_doors==val).astype(int)\n",
    "        features.append('num_door_%s'%val)\n",
    "        \n",
    "    df_num = df[features]\n",
    "    \n",
    "    df_num = df_num.fillna(0)\n",
    "    X = df_num.values\n",
    "    return X\n"
   ],
   "outputs": [],
   "execution_count": 95
  },
  {
   "metadata": {
    "ExecuteTime": {
     "end_time": "2024-10-04T21:51:31.934422Z",
     "start_time": "2024-10-04T21:51:31.909885Z"
    }
   },
   "cell_type": "code",
   "source": [
    "X_train = prepare_x(df_train)\n",
    "w_0, w = train_linear_regression(X_train, y_train)\n",
    "\n",
    "X_val = prepare_x(df_val)\n",
    "\n",
    "y_pred = w_0 + X_val.dot(w)\n",
    "rmse(y_pred,y_val)"
   ],
   "outputs": [
    {
     "data": {
      "text/plain": [
       "0.5157995641503376"
      ]
     },
     "execution_count": 96,
     "metadata": {},
     "output_type": "execute_result"
    }
   ],
   "execution_count": 96
  },
  {
   "metadata": {
    "ExecuteTime": {
     "end_time": "2024-10-04T21:54:18.247829Z",
     "start_time": "2024-10-04T21:54:18.237818Z"
    }
   },
   "cell_type": "code",
   "source": "list(df_train.make.value_counts().head().index)",
   "outputs": [
    {
     "data": {
      "text/plain": [
       "['chevrolet', 'ford', 'volkswagen', 'toyota', 'dodge']"
      ]
     },
     "execution_count": 102,
     "metadata": {},
     "output_type": "execute_result"
    }
   ],
   "execution_count": 102
  },
  {
   "metadata": {
    "ExecuteTime": {
     "end_time": "2024-10-04T22:01:03.451130Z",
     "start_time": "2024-10-04T22:01:03.446672Z"
    }
   },
   "cell_type": "code",
   "source": [
    "## \n",
    "categories = ['make','engine_fuel_type','transmission_type','driven_wheels','market_category','vehicle_size','vehicle_style']"
   ],
   "outputs": [],
   "execution_count": 105
  },
  {
   "metadata": {
    "ExecuteTime": {
     "end_time": "2024-10-04T22:02:05.751031Z",
     "start_time": "2024-10-04T22:02:05.735641Z"
    }
   },
   "cell_type": "code",
   "source": [
    "categories_dict = dict()\n",
    "\n",
    "for c_val in categories: \n",
    "    categories_dict[c_val] = list(car_price_df[c_val].value_counts().head().index)"
   ],
   "outputs": [],
   "execution_count": 108
  },
  {
   "metadata": {
    "ExecuteTime": {
     "end_time": "2024-10-04T22:51:33.344785Z",
     "start_time": "2024-10-04T22:51:33.305313Z"
    }
   },
   "cell_type": "code",
   "source": [
    "def prepare_x(df:pd.DataFrame) -> np.array:\n",
    "    df = df.copy() ## Will not modify the original dataframe\n",
    "    \n",
    "    df['age'] = 2024 - df.year\n",
    "    features = base + ['age']\n",
    "\n",
    "    for val in [2,3,4]:\n",
    "        df['num_door_%s'%val] = (df.number_of_doors==val).astype(int)\n",
    "        features.append('num_door_%s'%val)\n",
    "        \n",
    "    for key,values in categories_dict.items():\n",
    "        for val in values: \n",
    "            df['%s_%s' %(key,val)] = (df[key]==val).astype(int)\n",
    "            features.append('%s_%s'%(key,val))\n",
    "    df_num = df[features]\n",
    "    df_num = df_num.fillna(0)\n",
    "    X = df_num.values\n",
    "    return X"
   ],
   "outputs": [],
   "execution_count": 126
  },
  {
   "metadata": {
    "ExecuteTime": {
     "end_time": "2024-10-04T22:51:33.991179Z",
     "start_time": "2024-10-04T22:51:33.761996Z"
    }
   },
   "cell_type": "code",
   "source": [
    "X_train = prepare_x(df_train)\n",
    "w_0, w = train_linear_regression(X_train, y_train)\n",
    "\n",
    "X_val = prepare_x(df_val)\n",
    "\n",
    "y_pred = w_0 + X_val.dot(w)\n",
    "rmse(y_pred,y_val)"
   ],
   "outputs": [
    {
     "data": {
      "text/plain": [
       "56.44801852178058"
      ]
     },
     "execution_count": 127,
     "metadata": {},
     "output_type": "execute_result"
    }
   ],
   "execution_count": 127
  },
  {
   "metadata": {},
   "cell_type": "markdown",
   "source": "### Regularization "
  },
  {
   "metadata": {
    "ExecuteTime": {
     "end_time": "2024-10-05T20:21:50.793377Z",
     "start_time": "2024-10-05T20:21:50.748502Z"
    }
   },
   "cell_type": "code",
   "source": [
    "def train_linear_regression_reg(X, y,r = 0.01):\n",
    "    ones = np.ones(X.shape[0])\n",
    "    X = np.column_stack([ones, X])\n",
    "\n",
    "    XTX = X.T.dot(X)\n",
    "    XTX = XTX + r * np.eye(XTX.shape[0])\n",
    "    \n",
    "    XTX_inv = np.linalg.inv(XTX)\n",
    "    w_full = XTX_inv.dot(X.T).dot(y)\n",
    "\n",
    "    return w_full[0], w_full[1:]\n",
    "\n",
    "### Car Predictions model"
   ],
   "outputs": [],
   "execution_count": 128
  },
  {
   "metadata": {
    "ExecuteTime": {
     "end_time": "2024-10-05T20:22:01.615518Z",
     "start_time": "2024-10-05T20:22:01.375766Z"
    }
   },
   "cell_type": "code",
   "source": [
    "X_train = prepare_x(df_train)\n",
    "w_0, w = train_linear_regression_reg(X_train, y_train,r=0.01)\n",
    "\n",
    "X_val = prepare_x(df_val)\n",
    "\n",
    "y_pred = w_0 + X_val.dot(w)\n",
    "rmse(y_pred, y_val)"
   ],
   "outputs": [
    {
     "data": {
      "text/plain": [
       "0.4565226787180822"
      ]
     },
     "execution_count": 129,
     "metadata": {},
     "output_type": "execute_result"
    }
   ],
   "execution_count": 129
  },
  {
   "metadata": {},
   "cell_type": "markdown",
   "source": [
    "\n",
    "### tuning the model "
   ]
  },
  {
   "metadata": {
    "ExecuteTime": {
     "end_time": "2024-10-05T20:26:08.590002Z",
     "start_time": "2024-10-05T20:26:07.380420Z"
    }
   },
   "cell_type": "code",
   "source": [
    "\n",
    "for r in [0,0.00001,0.0001,0.0010,0.1,1,10]:\n",
    "   X_train = prepare_x(df_train)\n",
    "   w_0, w = train_linear_regression_reg(X_train, y_train,r=r)\n",
    "   X_val = prepare_x(df_val)\n",
    "   y_pred = w_0 + X_val.dot(w)\n",
    "   print(r)\n",
    "   print(rmse(y_pred, y_val)) "
   ],
   "outputs": [
    {
     "name": "stdout",
     "output_type": "stream",
     "text": [
      "0\n",
      "56.44801852178058\n",
      "1e-05\n",
      "0.45651705090064265\n",
      "0.0001\n",
      "0.4565170707061041\n",
      "0.001\n",
      "0.45651757759207945\n",
      "0.1\n",
      "0.4565765542271998\n",
      "1\n",
      "0.4573238525905183\n",
      "10\n",
      "0.47216539211223707\n"
     ]
    }
   ],
   "execution_count": 130
  },
  {
   "metadata": {},
   "cell_type": "markdown",
   "source": "### Using the model "
  },
  {
   "metadata": {
    "ExecuteTime": {
     "end_time": "2024-10-05T20:29:47.217524Z",
     "start_time": "2024-10-05T20:29:47.092254Z"
    }
   },
   "cell_type": "code",
   "source": "df_full_train = pd.concat([df_train,df_val],ignore_index=False)",
   "outputs": [],
   "execution_count": 131
  },
  {
   "metadata": {
    "ExecuteTime": {
     "end_time": "2024-10-05T20:30:22.578510Z",
     "start_time": "2024-10-05T20:30:22.455822Z"
    }
   },
   "cell_type": "code",
   "source": "X_full_train = prepare_x(df_full_train)",
   "outputs": [],
   "execution_count": 132
  },
  {
   "metadata": {
    "ExecuteTime": {
     "end_time": "2024-10-05T20:30:53.653849Z",
     "start_time": "2024-10-05T20:30:53.645947Z"
    }
   },
   "cell_type": "code",
   "source": "y_full_train = np.concatenate([y_train,y_val])",
   "outputs": [],
   "execution_count": 134
  },
  {
   "metadata": {
    "ExecuteTime": {
     "end_time": "2024-10-05T20:31:24.183728Z",
     "start_time": "2024-10-05T20:31:24.166758Z"
    }
   },
   "cell_type": "code",
   "source": "w_0, w = train_linear_regression_reg(X_full_train, y_full_train,r=0.001)\n",
   "outputs": [],
   "execution_count": 135
  },
  {
   "metadata": {
    "ExecuteTime": {
     "end_time": "2024-10-05T20:31:32.482339Z",
     "start_time": "2024-10-05T20:31:32.470758Z"
    }
   },
   "cell_type": "code",
   "source": "w_0,w",
   "outputs": [
    {
     "data": {
      "text/plain": [
       "(6.702315167358845,\n",
       " array([ 1.52507849e-03,  1.18188582e-01, -6.66091027e-03, -5.33401091e-03,\n",
       "        -4.87601470e-05, -9.69089026e-02, -7.92556528e-01, -8.90796549e-01,\n",
       "        -6.35035382e-01, -4.14339262e-02,  1.75560165e-01, -5.77252841e-04,\n",
       "        -1.00563620e-01, -9.27552200e-02, -4.66854519e-01,  7.98706012e-02,\n",
       "        -3.16042334e-01, -5.51976508e-01, -7.89487933e-02,  1.17125273e+00,\n",
       "         9.95944448e-01,  1.22552177e+00,  2.72864933e+00,  5.85876379e-01,\n",
       "         1.72453327e+00,  1.62523763e+00,  1.71241677e+00,  1.64041631e+00,\n",
       "        -9.70552629e-02,  3.73069897e-02, -5.81772856e-02, -2.35944859e-02,\n",
       "        -1.19354604e-02,  2.31573342e+00,  2.20136336e+00,  2.18594770e+00,\n",
       "        -5.00807708e-02,  5.62185949e-02,  1.84794079e-01,  3.32646714e-01,\n",
       "        -1.58818022e-01]))"
      ]
     },
     "execution_count": 137,
     "metadata": {},
     "output_type": "execute_result"
    }
   ],
   "execution_count": 137
  },
  {
   "metadata": {
    "ExecuteTime": {
     "end_time": "2024-10-05T20:32:07.443576Z",
     "start_time": "2024-10-05T20:32:07.343794Z"
    }
   },
   "cell_type": "code",
   "source": [
    "X_test = prepare_x(df_test)\n",
    "\n",
    "y_pred = w_0 + X_test.dot(w)\n",
    "rmse(y_pred, y_test)"
   ],
   "outputs": [
    {
     "data": {
      "text/plain": [
       "0.4517749549731481"
      ]
     },
     "execution_count": 138,
     "metadata": {},
     "output_type": "execute_result"
    }
   ],
   "execution_count": 138
  },
  {
   "metadata": {},
   "cell_type": "code",
   "outputs": [],
   "execution_count": null,
   "source": ""
  }
 ],
 "metadata": {
  "kernelspec": {
   "display_name": "Python 3 (ipykernel)",
   "language": "python",
   "name": "python3"
  },
  "language_info": {
   "codemirror_mode": {
    "name": "ipython",
    "version": 3
   },
   "file_extension": ".py",
   "mimetype": "text/x-python",
   "name": "python",
   "nbconvert_exporter": "python",
   "pygments_lexer": "ipython3",
   "version": "3.9.19"
  }
 },
 "nbformat": 4,
 "nbformat_minor": 4
}
