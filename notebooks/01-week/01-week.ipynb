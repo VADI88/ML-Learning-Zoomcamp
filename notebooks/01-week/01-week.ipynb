{
 "cells": [
  {
   "cell_type": "code",
   "execution_count": 1,
   "metadata": {
    "collapsed": true
   },
   "outputs": [],
   "source": [
    "## importing library\n",
    "import pandas as pd\n",
    "import numpy as np"
   ]
  },
  {
   "cell_type": "code",
   "execution_count": 2,
   "outputs": [
    {
     "data": {
      "text/plain": "'2.2.2'"
     },
     "execution_count": 2,
     "metadata": {},
     "output_type": "execute_result"
    }
   ],
   "source": [
    "## Q1. Pandas version\n",
    "\n",
    "pd.__version__"
   ],
   "metadata": {
    "collapsed": false
   }
  },
  {
   "cell_type": "raw",
   "source": [
    "- getting the data\n",
    "# !wget https://raw.githubusercontent.com/alexeygrigorev/datasets/master/laptops.csv"
   ],
   "metadata": {
    "collapsed": false
   }
  },
  {
   "cell_type": "code",
   "execution_count": 3,
   "outputs": [],
   "source": [
    "## Reading the data\n",
    "laptop_df = pd.read_csv('../../data/01-week/laptops.csv')"
   ],
   "metadata": {
    "collapsed": false
   }
  },
  {
   "cell_type": "code",
   "execution_count": 4,
   "outputs": [
    {
     "data": {
      "text/plain": "                                              Laptop Status   Brand  \\\n0  ASUS ExpertBook B1 B1502CBA-EJ0436X Intel Core...    New    Asus   \n1  Alurin Go Start Intel Celeron N4020/8GB/256GB ...    New  Alurin   \n2  ASUS ExpertBook B1 B1502CBA-EJ0424X Intel Core...    New    Asus   \n3  MSI Katana GF66 12UC-082XES Intel Core i7-1270...    New     MSI   \n4  HP 15S-FQ5085NS Intel Core i5-1235U/16GB/512GB...    New      HP   \n\n        Model            CPU  RAM  Storage Storage type       GPU  Screen  \\\n0  ExpertBook  Intel Core i5    8      512          SSD       NaN    15.6   \n1          Go  Intel Celeron    8      256          SSD       NaN    15.6   \n2  ExpertBook  Intel Core i3    8      256          SSD       NaN    15.6   \n3      Katana  Intel Core i7   16     1000          SSD  RTX 3050    15.6   \n4         15S  Intel Core i5   16      512          SSD       NaN    15.6   \n\n  Touch  Final Price  \n0    No      1009.00  \n1    No       299.00  \n2    No       789.00  \n3    No      1199.00  \n4    No       669.01  ",
      "text/html": "<div>\n<style scoped>\n    .dataframe tbody tr th:only-of-type {\n        vertical-align: middle;\n    }\n\n    .dataframe tbody tr th {\n        vertical-align: top;\n    }\n\n    .dataframe thead th {\n        text-align: right;\n    }\n</style>\n<table border=\"1\" class=\"dataframe\">\n  <thead>\n    <tr style=\"text-align: right;\">\n      <th></th>\n      <th>Laptop</th>\n      <th>Status</th>\n      <th>Brand</th>\n      <th>Model</th>\n      <th>CPU</th>\n      <th>RAM</th>\n      <th>Storage</th>\n      <th>Storage type</th>\n      <th>GPU</th>\n      <th>Screen</th>\n      <th>Touch</th>\n      <th>Final Price</th>\n    </tr>\n  </thead>\n  <tbody>\n    <tr>\n      <th>0</th>\n      <td>ASUS ExpertBook B1 B1502CBA-EJ0436X Intel Core...</td>\n      <td>New</td>\n      <td>Asus</td>\n      <td>ExpertBook</td>\n      <td>Intel Core i5</td>\n      <td>8</td>\n      <td>512</td>\n      <td>SSD</td>\n      <td>NaN</td>\n      <td>15.6</td>\n      <td>No</td>\n      <td>1009.00</td>\n    </tr>\n    <tr>\n      <th>1</th>\n      <td>Alurin Go Start Intel Celeron N4020/8GB/256GB ...</td>\n      <td>New</td>\n      <td>Alurin</td>\n      <td>Go</td>\n      <td>Intel Celeron</td>\n      <td>8</td>\n      <td>256</td>\n      <td>SSD</td>\n      <td>NaN</td>\n      <td>15.6</td>\n      <td>No</td>\n      <td>299.00</td>\n    </tr>\n    <tr>\n      <th>2</th>\n      <td>ASUS ExpertBook B1 B1502CBA-EJ0424X Intel Core...</td>\n      <td>New</td>\n      <td>Asus</td>\n      <td>ExpertBook</td>\n      <td>Intel Core i3</td>\n      <td>8</td>\n      <td>256</td>\n      <td>SSD</td>\n      <td>NaN</td>\n      <td>15.6</td>\n      <td>No</td>\n      <td>789.00</td>\n    </tr>\n    <tr>\n      <th>3</th>\n      <td>MSI Katana GF66 12UC-082XES Intel Core i7-1270...</td>\n      <td>New</td>\n      <td>MSI</td>\n      <td>Katana</td>\n      <td>Intel Core i7</td>\n      <td>16</td>\n      <td>1000</td>\n      <td>SSD</td>\n      <td>RTX 3050</td>\n      <td>15.6</td>\n      <td>No</td>\n      <td>1199.00</td>\n    </tr>\n    <tr>\n      <th>4</th>\n      <td>HP 15S-FQ5085NS Intel Core i5-1235U/16GB/512GB...</td>\n      <td>New</td>\n      <td>HP</td>\n      <td>15S</td>\n      <td>Intel Core i5</td>\n      <td>16</td>\n      <td>512</td>\n      <td>SSD</td>\n      <td>NaN</td>\n      <td>15.6</td>\n      <td>No</td>\n      <td>669.01</td>\n    </tr>\n  </tbody>\n</table>\n</div>"
     },
     "execution_count": 4,
     "metadata": {},
     "output_type": "execute_result"
    }
   ],
   "source": [
    "laptop_df.head()"
   ],
   "metadata": {
    "collapsed": false
   }
  },
  {
   "cell_type": "code",
   "execution_count": 5,
   "outputs": [
    {
     "data": {
      "text/plain": "(2160, 12)"
     },
     "execution_count": 5,
     "metadata": {},
     "output_type": "execute_result"
    }
   ],
   "source": [
    "## Q2. Records count - How many records are in the dataset?\n",
    "laptop_df.shape"
   ],
   "metadata": {
    "collapsed": false
   }
  },
  {
   "cell_type": "code",
   "execution_count": 6,
   "outputs": [
    {
     "data": {
      "text/plain": "27"
     },
     "execution_count": 6,
     "metadata": {},
     "output_type": "execute_result"
    }
   ],
   "source": [
    "## Q3. Laptop brands - How many laptop brands are presented in the dataset?\n",
    "laptop_df[\"Brand\"].nunique()"
   ],
   "metadata": {
    "collapsed": false
   }
  },
  {
   "cell_type": "code",
   "execution_count": 7,
   "outputs": [
    {
     "data": {
      "text/plain": "Laptop             0\nStatus             0\nBrand              0\nModel              0\nCPU                0\nRAM                0\nStorage            0\nStorage type      42\nGPU             1371\nScreen             4\nTouch              0\nFinal Price        0\ndtype: int64"
     },
     "execution_count": 7,
     "metadata": {},
     "output_type": "execute_result"
    }
   ],
   "source": [
    "##Q4. Missing values - How many columns in the dataset have missing values?\n",
    "laptop_df.isnull().sum()"
   ],
   "metadata": {
    "collapsed": false
   }
  },
  {
   "cell_type": "code",
   "execution_count": 8,
   "outputs": [
    {
     "data": {
      "text/plain": "count      84.000000\nmean     1153.839881\nstd       671.795071\nmin       379.000000\n25%       699.000000\n50%      1003.000000\n75%      1313.810000\nmax      3936.000000\nName: Final Price, dtype: float64"
     },
     "execution_count": 8,
     "metadata": {},
     "output_type": "execute_result"
    }
   ],
   "source": [
    "# Q5. Maximum final price - What's the maximum final price of Dell notebooks in the dataset?\n",
    "\n",
    "laptop_df[laptop_df['Brand']=='Dell']['Final Price'].describe()"
   ],
   "metadata": {
    "collapsed": false
   }
  },
  {
   "cell_type": "code",
   "execution_count": 9,
   "outputs": [
    {
     "data": {
      "text/plain": "15.6"
     },
     "execution_count": 9,
     "metadata": {},
     "output_type": "execute_result"
    }
   ],
   "source": [
    "# Q6. Median value of Screen\n",
    "# Find the median value of Screen column in the dataset.\n",
    "# Next, calculate the most frequent value of the same Screen column.\n",
    "# Use fillna method to fill the missing values in Screen column with the most frequent value from the previous step.\n",
    "# Now, calculate the median value of Screen once again.\n",
    "median_screen_value = laptop_df['Screen'].median()\n",
    "mode_screen_value = laptop_df['Screen'].mode()\n",
    "\n",
    "laptop_df['Screen'].fillna(mode_screen_value).median()"
   ],
   "metadata": {
    "collapsed": false
   }
  },
  {
   "cell_type": "code",
   "execution_count": 10,
   "outputs": [],
   "source": [
    "# Q7. Sum of weights\n",
    "\n",
    "# Select all the \"Innjoo\" laptops from the dataset.\n",
    "# Select only columns RAM, Storage, Screen.\n",
    "# Get the underlying NumPy array. Let's call it X.\n",
    "# Compute matrix-matrix multiplication between the transpose of X and X. To get the transpose, use X.T. Let's call the result XTX.\n",
    "# Compute the inverse of XTX.\n",
    "# Create an array y with values [1100, 1300, 800, 900, 1000, 1100].\n",
    "# Multiply the inverse of XTX with the transpose of X, and then multiply the result by y. Call the result w.\n",
    "# What's the sum of all the elements of the result?\n",
    "\n",
    "selected_laptop_df = laptop_df[laptop_df['Brand']=='Innjoo'][['RAM','Storage','Screen']]\n",
    "\n",
    "X = selected_laptop_df.values"
   ],
   "metadata": {
    "collapsed": false
   }
  },
  {
   "cell_type": "code",
   "execution_count": 11,
   "outputs": [],
   "source": [
    "XTX =  X.T.dot(X) ## Dot product"
   ],
   "metadata": {
    "collapsed": false
   }
  },
  {
   "cell_type": "code",
   "execution_count": 12,
   "outputs": [
    {
     "data": {
      "text/plain": "array([[ 2.78025381e-01, -1.51791334e-03, -1.00809855e-01],\n       [-1.51791334e-03,  1.58286725e-05,  4.48052175e-04],\n       [-1.00809855e-01,  4.48052175e-04,  3.87214888e-02]])"
     },
     "execution_count": 12,
     "metadata": {},
     "output_type": "execute_result"
    }
   ],
   "source": [
    "XTX_inv = np.linalg.inv(XTX) ## getting the inverse\n",
    "XTX_inv"
   ],
   "metadata": {
    "collapsed": false
   }
  },
  {
   "cell_type": "code",
   "execution_count": 13,
   "outputs": [],
   "source": [
    "y = np.array([1100, 1300, 800, 900, 1000, 1100])"
   ],
   "metadata": {
    "collapsed": false
   }
  },
  {
   "cell_type": "code",
   "execution_count": 14,
   "outputs": [],
   "source": [
    "w = (XTX_inv @ X.T) @ y"
   ],
   "metadata": {
    "collapsed": false
   }
  },
  {
   "cell_type": "code",
   "execution_count": 15,
   "outputs": [
    {
     "data": {
      "text/plain": "91.2998806299555"
     },
     "execution_count": 15,
     "metadata": {},
     "output_type": "execute_result"
    }
   ],
   "source": [
    "w.sum()"
   ],
   "metadata": {
    "collapsed": false
   }
  }
 ],
 "metadata": {
  "kernelspec": {
   "display_name": "Python 3",
   "language": "python",
   "name": "python3"
  },
  "language_info": {
   "codemirror_mode": {
    "name": "ipython",
    "version": 2
   },
   "file_extension": ".py",
   "mimetype": "text/x-python",
   "name": "python",
   "nbconvert_exporter": "python",
   "pygments_lexer": "ipython2",
   "version": "2.7.6"
  }
 },
 "nbformat": 4,
 "nbformat_minor": 0
}
