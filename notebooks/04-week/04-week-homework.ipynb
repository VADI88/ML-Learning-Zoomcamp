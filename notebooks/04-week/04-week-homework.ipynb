{
 "cells": [
  {
   "cell_type": "code",
   "id": "initial_id",
   "metadata": {
    "collapsed": true,
    "ExecuteTime": {
     "end_time": "2024-10-20T20:01:09.214251Z",
     "start_time": "2024-10-20T20:01:05.448233Z"
    }
   },
   "source": [
    "!wget https://archive.ics.uci.edu/static/public/222/bank+marketing.zip\n",
    "!unzip bank+marketing.zip \n",
    "!unzip bank.zip"
   ],
   "outputs": [
    {
     "name": "stdout",
     "output_type": "stream",
     "text": [
      "--2024-10-20 22:01:06--  https://archive.ics.uci.edu/static/public/222/bank+marketing.zip\r\n",
      "Resolving archive.ics.uci.edu (archive.ics.uci.edu)... 128.195.10.252\r\n",
      "Connecting to archive.ics.uci.edu (archive.ics.uci.edu)|128.195.10.252|:443... connected.\r\n",
      "HTTP request sent, awaiting response... 200 OK\r\n",
      "Length: unspecified\r\n",
      "Saving to: ‘bank+marketing.zip’\r\n",
      "\r\n",
      "bank+marketing.zip      [    <=>             ] 999.85K   939KB/s    in 1.1s    \r\n",
      "\r\n",
      "2024-10-20 22:01:08 (939 KB/s) - ‘bank+marketing.zip’ saved [1023843]\r\n",
      "\r\n",
      "Archive:  bank+marketing.zip\r\n",
      " extracting: bank.zip                \r\n",
      " extracting: bank-additional.zip     \r\n",
      "Archive:  bank.zip\r\n",
      "  inflating: bank-full.csv           \r\n",
      "  inflating: bank-names.txt          \r\n",
      "  inflating: bank.csv                \r\n"
     ]
    }
   ],
   "execution_count": 2
  },
  {
   "metadata": {
    "ExecuteTime": {
     "end_time": "2024-10-20T21:42:46.649135Z",
     "start_time": "2024-10-20T21:42:44.872343Z"
    }
   },
   "cell_type": "code",
   "source": [
    "\n",
    "import pandas as pd \n",
    "import numpy as np \n",
    "import matplotlib.pyplot as plt\n",
    "\n",
    "\n",
    "bank_subscription_df = pd.read_csv('../../data/04-week/bank-full.csv',delimiter=';')"
   ],
   "id": "5ea28e5cf370837f",
   "outputs": [],
   "execution_count": 1
  },
  {
   "metadata": {
    "ExecuteTime": {
     "end_time": "2024-10-20T21:42:47.938079Z",
     "start_time": "2024-10-20T21:42:46.659913Z"
    }
   },
   "cell_type": "code",
   "source": "from sklearn.metrics import roc_curve,auc",
   "id": "b9080fd7b1f957ea",
   "outputs": [],
   "execution_count": 2
  },
  {
   "metadata": {
    "ExecuteTime": {
     "end_time": "2024-10-20T21:42:48.063949Z",
     "start_time": "2024-10-20T21:42:48.048648Z"
    }
   },
   "cell_type": "code",
   "source": [
    "required_cols = ['age',\n",
    "'job',\n",
    "'marital',\n",
    "'education',\n",
    "'balance',\n",
    "'housing',\n",
    "'contact',\n",
    "'day',\n",
    "'month',\n",
    "'duration',\n",
    "'campaign',\n",
    "'pdays',\n",
    "'previous',\n",
    "'poutcome',\n",
    "'y']\n",
    "\n",
    "bank_subscription_df = bank_subscription_df[required_cols]"
   ],
   "id": "69a9c7fa5a7700cc",
   "outputs": [],
   "execution_count": 3
  },
  {
   "metadata": {
    "ExecuteTime": {
     "end_time": "2024-10-20T21:42:48.111845Z",
     "start_time": "2024-10-20T21:42:48.083443Z"
    }
   },
   "cell_type": "code",
   "source": "bank_subscription_df.info()",
   "id": "743222da0260e30c",
   "outputs": [
    {
     "name": "stdout",
     "output_type": "stream",
     "text": [
      "<class 'pandas.core.frame.DataFrame'>\n",
      "RangeIndex: 45211 entries, 0 to 45210\n",
      "Data columns (total 15 columns):\n",
      " #   Column     Non-Null Count  Dtype \n",
      "---  ------     --------------  ----- \n",
      " 0   age        45211 non-null  int64 \n",
      " 1   job        45211 non-null  object\n",
      " 2   marital    45211 non-null  object\n",
      " 3   education  45211 non-null  object\n",
      " 4   balance    45211 non-null  int64 \n",
      " 5   housing    45211 non-null  object\n",
      " 6   contact    45211 non-null  object\n",
      " 7   day        45211 non-null  int64 \n",
      " 8   month      45211 non-null  object\n",
      " 9   duration   45211 non-null  int64 \n",
      " 10  campaign   45211 non-null  int64 \n",
      " 11  pdays      45211 non-null  int64 \n",
      " 12  previous   45211 non-null  int64 \n",
      " 13  poutcome   45211 non-null  object\n",
      " 14  y          45211 non-null  object\n",
      "dtypes: int64(7), object(8)\n",
      "memory usage: 5.2+ MB\n"
     ]
    }
   ],
   "execution_count": 4
  },
  {
   "metadata": {
    "ExecuteTime": {
     "end_time": "2024-10-20T21:42:48.433715Z",
     "start_time": "2024-10-20T21:42:48.236830Z"
    }
   },
   "cell_type": "code",
   "source": [
    "bank_subscription_df.columns = bank_subscription_df.columns.str.lower().str.replace(' ', '_')\n",
    "\n",
    "categorical_columns = list(bank_subscription_df.dtypes[bank_subscription_df.dtypes == 'object'].index)\n",
    "\n",
    "for c in categorical_columns:\n",
    "    bank_subscription_df[c] = bank_subscription_df[c].str.lower().str.replace(' ', '_')\n",
    "\n",
    "\n",
    "bank_subscription_df.y = (bank_subscription_df.y == 'yes').astype(int)"
   ],
   "id": "63942756ea214738",
   "outputs": [],
   "execution_count": 5
  },
  {
   "metadata": {
    "ExecuteTime": {
     "end_time": "2024-10-20T21:42:48.491920Z",
     "start_time": "2024-10-20T21:42:48.460659Z"
    }
   },
   "cell_type": "code",
   "source": "from sklearn.model_selection import train_test_split",
   "id": "e00a4794c2c3bbcb",
   "outputs": [],
   "execution_count": 6
  },
  {
   "metadata": {
    "ExecuteTime": {
     "end_time": "2024-10-20T21:42:48.878253Z",
     "start_time": "2024-10-20T21:42:48.827437Z"
    }
   },
   "cell_type": "code",
   "source": [
    "bank_subscription_full_train, bank_subscription_test = train_test_split(bank_subscription_df,test_size=0.2,random_state=1)\n",
    "bank_subscription_train,bank_subscription_val = train_test_split(bank_subscription_full_train,test_size=0.25,random_state=1)"
   ],
   "id": "5c529fb927778002",
   "outputs": [],
   "execution_count": 7
  },
  {
   "metadata": {
    "ExecuteTime": {
     "end_time": "2024-10-20T21:42:49.538589Z",
     "start_time": "2024-10-20T21:42:49.468985Z"
    }
   },
   "cell_type": "code",
   "source": [
    "bank_subscription_train = bank_subscription_train.reset_index(drop=True)\n",
    "bank_subscription_val = bank_subscription_val.reset_index(drop=True)\n",
    "bank_subscription_test = bank_subscription_test.reset_index(drop=True)\n",
    "\n",
    "\n",
    "y_train = bank_subscription_train.y.values\n",
    "y_val = bank_subscription_val.y.values\n",
    "y_test = bank_subscription_test.y.values\n",
    "\n",
    "bank_subscription_train.drop('y',axis = 1,inplace=True)\n",
    "bank_subscription_val.drop('y',axis = 1,inplace=True)\n",
    "bank_subscription_test.drop('y',axis = 1,inplace=True)\n"
   ],
   "id": "2df6f4501640f2da",
   "outputs": [],
   "execution_count": 8
  },
  {
   "metadata": {},
   "cell_type": "markdown",
   "source": [
    "### Question 1: ROC AUC feature importance\n",
    "\n"
   ],
   "id": "a826d1633220de31"
  },
  {
   "metadata": {
    "ExecuteTime": {
     "end_time": "2024-10-20T21:42:51.007111Z",
     "start_time": "2024-10-20T21:42:51.003100Z"
    }
   },
   "cell_type": "code",
   "source": [
    "numerical_val = ['age','balance','day','duration','campaign','pdays','previous']\n",
    "categorial_val = ['job','marital','education','housing','contact','month','poutcome']"
   ],
   "id": "766bdd0aeffa98b2",
   "outputs": [],
   "execution_count": 9
  },
  {
   "metadata": {
    "ExecuteTime": {
     "end_time": "2024-10-20T21:42:51.885327Z",
     "start_time": "2024-10-20T21:42:51.816720Z"
    }
   },
   "cell_type": "code",
   "source": "from sklearn.linear_model import LogisticRegression",
   "id": "ae8a8334aa2664bc",
   "outputs": [],
   "execution_count": 10
  },
  {
   "metadata": {
    "ExecuteTime": {
     "end_time": "2024-10-20T21:42:52.843569Z",
     "start_time": "2024-10-20T21:42:52.570259Z"
    }
   },
   "cell_type": "code",
   "source": [
    "auc_val = dict()\n",
    "for value in numerical_val:\n",
    "    print(value)\n",
    "    \n",
    "    model = LogisticRegression(solver='liblinear', C=1.0, max_iter=1000,)\n",
    "    \n",
    "    X_train = bank_subscription_train[[value]].values\n",
    "    if value == 'age':\n",
    "        X_train = -bank_subscription_train[[value]].values\n",
    "    model.fit(X_train,y_train)\n",
    "    y_pred = model.predict_proba(X_train)[:, 1]\n",
    "    churn_decision = (y_pred >= 0.5)\n",
    "    fpr, tpr, thresholds = roc_curve(y_train, y_pred)\n",
    "    auc_val[value] = auc(fpr, tpr)\n",
    "    \n",
    "    "
   ],
   "id": "37f7275c6e0578da",
   "outputs": [
    {
     "name": "stdout",
     "output_type": "stream",
     "text": [
      "age\n",
      "balance\n",
      "day\n",
      "duration\n",
      "campaign\n",
      "pdays\n",
      "previous\n"
     ]
    }
   ],
   "execution_count": 11
  },
  {
   "metadata": {
    "ExecuteTime": {
     "end_time": "2024-10-20T21:42:53.822811Z",
     "start_time": "2024-10-20T21:42:53.812689Z"
    }
   },
   "cell_type": "code",
   "source": "[k for k,v in auc_val.items() if v < 0.5]",
   "id": "61c6d4e630e601aa",
   "outputs": [
    {
     "data": {
      "text/plain": [
       "['age']"
      ]
     },
     "execution_count": 12,
     "metadata": {},
     "output_type": "execute_result"
    }
   ],
   "execution_count": 12
  },
  {
   "metadata": {
    "ExecuteTime": {
     "end_time": "2024-10-20T21:42:54.764490Z",
     "start_time": "2024-10-20T21:42:54.756545Z"
    }
   },
   "cell_type": "code",
   "source": "auc_val",
   "id": "9e0ecdc0467a93fc",
   "outputs": [
    {
     "data": {
      "text/plain": [
       "{'age': 0.48781428247265596,\n",
       " 'balance': 0.5888313805382317,\n",
       " 'day': 0.525957882383908,\n",
       " 'duration': 0.8147002759670778,\n",
       " 'campaign': 0.5714543015682159,\n",
       " 'pdays': 0.5901276247352144,\n",
       " 'previous': 0.5985653242764153}"
      ]
     },
     "execution_count": 13,
     "metadata": {},
     "output_type": "execute_result"
    }
   ],
   "execution_count": 13
  },
  {
   "metadata": {},
   "cell_type": "markdown",
   "source": "### Question 2: Training the model",
   "id": "18f27381481c5ea2"
  },
  {
   "metadata": {
    "ExecuteTime": {
     "end_time": "2024-10-20T21:42:58.906990Z",
     "start_time": "2024-10-20T21:42:58.463936Z"
    }
   },
   "cell_type": "code",
   "source": [
    "train_dict = bank_subscription_train[numerical_val+categorial_val].to_dict(orient='records')\n",
    "val_dict = bank_subscription_val[numerical_val+categorial_val].to_dict(orient='records')"
   ],
   "id": "fb7d79a7832a2e42",
   "outputs": [],
   "execution_count": 14
  },
  {
   "metadata": {
    "ExecuteTime": {
     "end_time": "2024-10-20T21:42:59.004326Z",
     "start_time": "2024-10-20T21:42:58.983162Z"
    }
   },
   "cell_type": "code",
   "source": "from sklearn.feature_extraction import DictVectorizer",
   "id": "78bb4add786d0f0e",
   "outputs": [],
   "execution_count": 15
  },
  {
   "metadata": {
    "ExecuteTime": {
     "end_time": "2024-10-20T21:43:00.613445Z",
     "start_time": "2024-10-20T21:42:59.686909Z"
    }
   },
   "cell_type": "code",
   "source": [
    "dv = DictVectorizer(sparse=False)\n",
    "X_train = dv.fit_transform(train_dict)\n",
    "\n",
    "X_val = dv.transform(val_dict)"
   ],
   "id": "b76a2abb4597ec15",
   "outputs": [],
   "execution_count": 16
  },
  {
   "metadata": {
    "ExecuteTime": {
     "end_time": "2024-10-20T21:43:11.830672Z",
     "start_time": "2024-10-20T21:43:11.170800Z"
    }
   },
   "cell_type": "code",
   "source": [
    "model = LogisticRegression(solver='liblinear', C=1.0, max_iter=1000)\n",
    "model.fit(X_train,y_train)\n",
    "y_pred = model.predict_proba(X_val)[:, 1]\n",
    "fpr, tpr, thresholds = roc_curve(y_val, y_pred)\n",
    "np.round(auc(fpr, tpr),5)"
   ],
   "id": "ef8ffdb975a761f5",
   "outputs": [
    {
     "data": {
      "text/plain": [
       "0.89997"
      ]
     },
     "execution_count": 19,
     "metadata": {},
     "output_type": "execute_result"
    }
   ],
   "execution_count": 19
  },
  {
   "metadata": {},
   "cell_type": "markdown",
   "source": [
    "### Question 3: Precision and Recall\n",
    "\n"
   ],
   "id": "c14efa4e60007f7f"
  },
  {
   "metadata": {
    "ExecuteTime": {
     "end_time": "2024-10-20T21:43:13.161085Z",
     "start_time": "2024-10-20T21:43:13.145076Z"
    }
   },
   "cell_type": "code",
   "source": [
    "scores = []\n",
    "\n",
    "thresholds = np.linspace(0, 1, 101)\n",
    "\n",
    "for t in thresholds:\n",
    "    actual_positive = (y_val == 1)\n",
    "    actual_negative = (y_val == 0)\n",
    "    \n",
    "    predict_positive = (y_pred >= t)\n",
    "    predict_negative = (y_pred < t)\n",
    "\n",
    "    tp = (predict_positive & actual_positive).sum()\n",
    "    tn = (predict_negative & actual_negative).sum()\n",
    "\n",
    "    fp = (predict_positive & actual_negative).sum()\n",
    "    fn = (predict_negative & actual_positive).sum()\n",
    "    \n",
    "    precision = tp / (tp + fp)\n",
    "    recall = tp/ (tp + fn)\n",
    "    F1_score = 2 * precision * recall / (precision + recall)\n",
    "\n",
    "    \n",
    "    scores.append((t, tp, fp, fn, tn,precision,recall,F1_score))\n"
   ],
   "id": "28ab37ac8a73819",
   "outputs": [
    {
     "name": "stderr",
     "output_type": "stream",
     "text": [
      "/var/folders/hh/8c9bdtz97vs7pb_m1p4ff4wm0000gn/T/ipykernel_10830/3845135365.py:18: RuntimeWarning: invalid value encountered in scalar divide\n",
      "  precision = tp / (tp + fp)\n"
     ]
    }
   ],
   "execution_count": 20
  },
  {
   "metadata": {
    "ExecuteTime": {
     "end_time": "2024-10-20T21:43:15.857913Z",
     "start_time": "2024-10-20T21:43:15.849741Z"
    }
   },
   "cell_type": "code",
   "source": [
    "columns = ['threshold', 'tp', 'fp', 'fn', 'tn','precision','recall','F1_score']\n",
    "df_scores = pd.DataFrame(scores, columns=columns)\n"
   ],
   "id": "6954c2f26c592d02",
   "outputs": [],
   "execution_count": 21
  },
  {
   "metadata": {
    "ExecuteTime": {
     "end_time": "2024-10-20T21:43:16.687282Z",
     "start_time": "2024-10-20T21:43:16.666082Z"
    }
   },
   "cell_type": "code",
   "source": "df_scores",
   "id": "9ce168d4b4541637",
   "outputs": [
    {
     "data": {
      "text/plain": [
       "     threshold    tp    fp    fn    tn  precision    recall  F1_score\n",
       "0         0.00  1098  7944     0     0   0.121433  1.000000  0.216568\n",
       "1         0.01  1094  6956     4   988   0.135901  0.996357  0.239178\n",
       "2         0.02  1093  5768     5  2176   0.159306  0.995446  0.274658\n",
       "3         0.03  1086  4738    12  3206   0.186470  0.989071  0.313782\n",
       "4         0.04  1067  3778    31  4166   0.220227  0.971767  0.359078\n",
       "..         ...   ...   ...   ...   ...        ...       ...       ...\n",
       "96        0.96    32    17  1066  7927   0.653061  0.029144  0.055798\n",
       "97        0.97    25    15  1073  7929   0.625000  0.022769  0.043937\n",
       "98        0.98    22    10  1076  7934   0.687500  0.020036  0.038938\n",
       "99        0.99    10     6  1088  7938   0.625000  0.009107  0.017953\n",
       "100       1.00     0     0  1098  7944        NaN  0.000000       NaN\n",
       "\n",
       "[101 rows x 8 columns]"
      ],
      "text/html": [
       "<div>\n",
       "<style scoped>\n",
       "    .dataframe tbody tr th:only-of-type {\n",
       "        vertical-align: middle;\n",
       "    }\n",
       "\n",
       "    .dataframe tbody tr th {\n",
       "        vertical-align: top;\n",
       "    }\n",
       "\n",
       "    .dataframe thead th {\n",
       "        text-align: right;\n",
       "    }\n",
       "</style>\n",
       "<table border=\"1\" class=\"dataframe\">\n",
       "  <thead>\n",
       "    <tr style=\"text-align: right;\">\n",
       "      <th></th>\n",
       "      <th>threshold</th>\n",
       "      <th>tp</th>\n",
       "      <th>fp</th>\n",
       "      <th>fn</th>\n",
       "      <th>tn</th>\n",
       "      <th>precision</th>\n",
       "      <th>recall</th>\n",
       "      <th>F1_score</th>\n",
       "    </tr>\n",
       "  </thead>\n",
       "  <tbody>\n",
       "    <tr>\n",
       "      <th>0</th>\n",
       "      <td>0.00</td>\n",
       "      <td>1098</td>\n",
       "      <td>7944</td>\n",
       "      <td>0</td>\n",
       "      <td>0</td>\n",
       "      <td>0.121433</td>\n",
       "      <td>1.000000</td>\n",
       "      <td>0.216568</td>\n",
       "    </tr>\n",
       "    <tr>\n",
       "      <th>1</th>\n",
       "      <td>0.01</td>\n",
       "      <td>1094</td>\n",
       "      <td>6956</td>\n",
       "      <td>4</td>\n",
       "      <td>988</td>\n",
       "      <td>0.135901</td>\n",
       "      <td>0.996357</td>\n",
       "      <td>0.239178</td>\n",
       "    </tr>\n",
       "    <tr>\n",
       "      <th>2</th>\n",
       "      <td>0.02</td>\n",
       "      <td>1093</td>\n",
       "      <td>5768</td>\n",
       "      <td>5</td>\n",
       "      <td>2176</td>\n",
       "      <td>0.159306</td>\n",
       "      <td>0.995446</td>\n",
       "      <td>0.274658</td>\n",
       "    </tr>\n",
       "    <tr>\n",
       "      <th>3</th>\n",
       "      <td>0.03</td>\n",
       "      <td>1086</td>\n",
       "      <td>4738</td>\n",
       "      <td>12</td>\n",
       "      <td>3206</td>\n",
       "      <td>0.186470</td>\n",
       "      <td>0.989071</td>\n",
       "      <td>0.313782</td>\n",
       "    </tr>\n",
       "    <tr>\n",
       "      <th>4</th>\n",
       "      <td>0.04</td>\n",
       "      <td>1067</td>\n",
       "      <td>3778</td>\n",
       "      <td>31</td>\n",
       "      <td>4166</td>\n",
       "      <td>0.220227</td>\n",
       "      <td>0.971767</td>\n",
       "      <td>0.359078</td>\n",
       "    </tr>\n",
       "    <tr>\n",
       "      <th>...</th>\n",
       "      <td>...</td>\n",
       "      <td>...</td>\n",
       "      <td>...</td>\n",
       "      <td>...</td>\n",
       "      <td>...</td>\n",
       "      <td>...</td>\n",
       "      <td>...</td>\n",
       "      <td>...</td>\n",
       "    </tr>\n",
       "    <tr>\n",
       "      <th>96</th>\n",
       "      <td>0.96</td>\n",
       "      <td>32</td>\n",
       "      <td>17</td>\n",
       "      <td>1066</td>\n",
       "      <td>7927</td>\n",
       "      <td>0.653061</td>\n",
       "      <td>0.029144</td>\n",
       "      <td>0.055798</td>\n",
       "    </tr>\n",
       "    <tr>\n",
       "      <th>97</th>\n",
       "      <td>0.97</td>\n",
       "      <td>25</td>\n",
       "      <td>15</td>\n",
       "      <td>1073</td>\n",
       "      <td>7929</td>\n",
       "      <td>0.625000</td>\n",
       "      <td>0.022769</td>\n",
       "      <td>0.043937</td>\n",
       "    </tr>\n",
       "    <tr>\n",
       "      <th>98</th>\n",
       "      <td>0.98</td>\n",
       "      <td>22</td>\n",
       "      <td>10</td>\n",
       "      <td>1076</td>\n",
       "      <td>7934</td>\n",
       "      <td>0.687500</td>\n",
       "      <td>0.020036</td>\n",
       "      <td>0.038938</td>\n",
       "    </tr>\n",
       "    <tr>\n",
       "      <th>99</th>\n",
       "      <td>0.99</td>\n",
       "      <td>10</td>\n",
       "      <td>6</td>\n",
       "      <td>1088</td>\n",
       "      <td>7938</td>\n",
       "      <td>0.625000</td>\n",
       "      <td>0.009107</td>\n",
       "      <td>0.017953</td>\n",
       "    </tr>\n",
       "    <tr>\n",
       "      <th>100</th>\n",
       "      <td>1.00</td>\n",
       "      <td>0</td>\n",
       "      <td>0</td>\n",
       "      <td>1098</td>\n",
       "      <td>7944</td>\n",
       "      <td>NaN</td>\n",
       "      <td>0.000000</td>\n",
       "      <td>NaN</td>\n",
       "    </tr>\n",
       "  </tbody>\n",
       "</table>\n",
       "<p>101 rows × 8 columns</p>\n",
       "</div>"
      ]
     },
     "execution_count": 22,
     "metadata": {},
     "output_type": "execute_result"
    }
   ],
   "execution_count": 22
  },
  {
   "metadata": {},
   "cell_type": "markdown",
   "source": "",
   "id": "875e81c7b8b02a19"
  },
  {
   "metadata": {
    "ExecuteTime": {
     "end_time": "2024-10-20T21:43:19.748710Z",
     "start_time": "2024-10-20T21:43:19.510299Z"
    }
   },
   "cell_type": "code",
   "source": [
    "plt.plot(df_scores.threshold, df_scores['precision'], label='precision')\n",
    "plt.plot(df_scores.threshold, df_scores['recall'], label='recall')\n",
    "plt.legend()"
   ],
   "id": "d1e3ec247b912346",
   "outputs": [
    {
     "data": {
      "text/plain": [
       "<matplotlib.legend.Legend at 0x7fe2183e03d0>"
      ]
     },
     "execution_count": 23,
     "metadata": {},
     "output_type": "execute_result"
    },
    {
     "data": {
      "text/plain": [
       "<Figure size 640x480 with 1 Axes>"
      ],
      "image/png": "[encoded data removed]"
     },
     "metadata": {},
     "output_type": "display_data"
    }
   ],
   "execution_count": 23
  },
  {
   "metadata": {
    "ExecuteTime": {
     "end_time": "2024-10-20T21:43:36.698304Z",
     "start_time": "2024-10-20T21:43:36.437419Z"
    }
   },
   "cell_type": "code",
   "source": [
    "plt.figure(figsize=(5, 5))\n",
    "\n",
    "plt.plot(df_scores.precision, df_scores.recall, label='Model')\n",
    "plt.plot([0, 1], [0, 1], label='Random', linestyle='--')\n",
    "\n",
    "plt.xlabel('FPR')\n",
    "plt.ylabel('TPR')\n",
    "\n",
    "plt.legend()"
   ],
   "id": "7fb089668659ce76",
   "outputs": [
    {
     "data": {
      "text/plain": [
       "<matplotlib.legend.Legend at 0x7fe2374b6430>"
      ]
     },
     "execution_count": 25,
     "metadata": {},
     "output_type": "execute_result"
    },
    {
     "data": {
      "text/plain": [
       "<Figure size 500x500 with 1 Axes>"
      ],
      "image/png": "[encoded data removed]"
     },
     "metadata": {},
     "output_type": "display_data"
    }
   ],
   "execution_count": 25
  },
  {
   "metadata": {},
   "cell_type": "markdown",
   "source": "### Question 4: F1 score\n",
   "id": "4d2106db00202070"
  },
  {
   "metadata": {
    "ExecuteTime": {
     "end_time": "2024-10-20T21:43:39.998006Z",
     "start_time": "2024-10-20T21:43:39.983867Z"
    }
   },
   "cell_type": "code",
   "source": "df_scores[df_scores['F1_score'].max()==df_scores['F1_score']]",
   "id": "e3ae1eba5c26cdf8",
   "outputs": [
    {
     "data": {
      "text/plain": [
       "    threshold   tp   fp   fn    tn  precision    recall  F1_score\n",
       "22       0.22  691  620  407  7324   0.527079  0.629326  0.573682"
      ],
      "text/html": [
       "<div>\n",
       "<style scoped>\n",
       "    .dataframe tbody tr th:only-of-type {\n",
       "        vertical-align: middle;\n",
       "    }\n",
       "\n",
       "    .dataframe tbody tr th {\n",
       "        vertical-align: top;\n",
       "    }\n",
       "\n",
       "    .dataframe thead th {\n",
       "        text-align: right;\n",
       "    }\n",
       "</style>\n",
       "<table border=\"1\" class=\"dataframe\">\n",
       "  <thead>\n",
       "    <tr style=\"text-align: right;\">\n",
       "      <th></th>\n",
       "      <th>threshold</th>\n",
       "      <th>tp</th>\n",
       "      <th>fp</th>\n",
       "      <th>fn</th>\n",
       "      <th>tn</th>\n",
       "      <th>precision</th>\n",
       "      <th>recall</th>\n",
       "      <th>F1_score</th>\n",
       "    </tr>\n",
       "  </thead>\n",
       "  <tbody>\n",
       "    <tr>\n",
       "      <th>22</th>\n",
       "      <td>0.22</td>\n",
       "      <td>691</td>\n",
       "      <td>620</td>\n",
       "      <td>407</td>\n",
       "      <td>7324</td>\n",
       "      <td>0.527079</td>\n",
       "      <td>0.629326</td>\n",
       "      <td>0.573682</td>\n",
       "    </tr>\n",
       "  </tbody>\n",
       "</table>\n",
       "</div>"
      ]
     },
     "execution_count": 26,
     "metadata": {},
     "output_type": "execute_result"
    }
   ],
   "execution_count": 26
  },
  {
   "metadata": {},
   "cell_type": "markdown",
   "source": "### Question 5: 5-Fold CV",
   "id": "9701bc1e7f2c812e"
  },
  {
   "metadata": {
    "ExecuteTime": {
     "end_time": "2024-10-20T21:43:42.802240Z",
     "start_time": "2024-10-20T21:43:42.797099Z"
    }
   },
   "cell_type": "code",
   "source": "from sklearn.model_selection import KFold",
   "id": "79bb18d40408e033",
   "outputs": [],
   "execution_count": 27
  },
  {
   "metadata": {
    "ExecuteTime": {
     "end_time": "2024-10-20T21:43:43.509518Z",
     "start_time": "2024-10-20T21:43:43.504946Z"
    }
   },
   "cell_type": "code",
   "source": "from sklearn.metrics import roc_auc_score\n",
   "id": "18da61ad6b327a02",
   "outputs": [],
   "execution_count": 28
  },
  {
   "metadata": {
    "ExecuteTime": {
     "end_time": "2024-10-20T21:43:44.355982Z",
     "start_time": "2024-10-20T21:43:44.349195Z"
    }
   },
   "cell_type": "code",
   "source": [
    "def train(df_train, y_train, C=1.0):\n",
    "    dicts = df_train[categorial_val + numerical_val].to_dict(orient='records')\n",
    "\n",
    "    dv = DictVectorizer(sparse=False)\n",
    "    X_train = dv.fit_transform(dicts)\n",
    "\n",
    "    model = LogisticRegression(solver='liblinear',C=C, max_iter=1000)\n",
    "    model.fit(X_train, y_train)\n",
    "    \n",
    "    return dv, model"
   ],
   "id": "4408c87fe2363858",
   "outputs": [],
   "execution_count": 29
  },
  {
   "metadata": {
    "ExecuteTime": {
     "end_time": "2024-10-20T21:43:44.961603Z",
     "start_time": "2024-10-20T21:43:44.956320Z"
    }
   },
   "cell_type": "code",
   "source": [
    "def predict(df, dv, model):\n",
    "    dicts = df[categorial_val + numerical_val].to_dict(orient='records')\n",
    "\n",
    "    X = dv.transform(dicts)\n",
    "    y_pred = model.predict_proba(X)[:, 1]\n",
    "\n",
    "    return y_pred"
   ],
   "id": "45c4a279fe27793d",
   "outputs": [],
   "execution_count": 30
  },
  {
   "metadata": {
    "ExecuteTime": {
     "end_time": "2024-10-20T21:43:57.788298Z",
     "start_time": "2024-10-20T21:43:45.527893Z"
    }
   },
   "cell_type": "code",
   "source": [
    "\n",
    "n_splits = 5\n",
    "\n",
    "kfold = KFold(n_splits=n_splits, shuffle=True, random_state=1)\n",
    "\n",
    "scores = []\n",
    "\n",
    "for train_idx, val_idx in kfold.split(bank_subscription_full_train):\n",
    "    df_train = bank_subscription_full_train.iloc[train_idx]\n",
    "    df_val = bank_subscription_full_train.iloc[val_idx]\n",
    "\n",
    "    y_train = df_train.y.values\n",
    "    y_val = df_val.y.values\n",
    "\n",
    "    dv, model = train(df_train, y_train)\n",
    "    y_pred = predict(df_val, dv, model)\n",
    "\n",
    "    auc = roc_auc_score(y_val, y_pred)\n",
    "    scores.append(auc)"
   ],
   "id": "acbab316606f1fd1",
   "outputs": [],
   "execution_count": 31
  },
  {
   "metadata": {
    "ExecuteTime": {
     "end_time": "2024-10-20T21:47:47.404640Z",
     "start_time": "2024-10-20T21:47:47.337772Z"
    }
   },
   "cell_type": "code",
   "source": "np.round(np.std(scores),3)",
   "id": "9cdce928f48add02",
   "outputs": [
    {
     "data": {
      "text/plain": [
       "0.006"
      ]
     },
     "execution_count": 34,
     "metadata": {},
     "output_type": "execute_result"
    }
   ],
   "execution_count": 34
  },
  {
   "metadata": {
    "ExecuteTime": {
     "end_time": "2024-10-20T21:46:59.463036Z",
     "start_time": "2024-10-20T21:46:33.894647Z"
    }
   },
   "cell_type": "code",
   "source": [
    "for C in [0.000001, 0.001, 1]:\n",
    "    kfold = KFold(n_splits=n_splits, shuffle=True, random_state=1)\n",
    "\n",
    "    scores = []\n",
    "\n",
    "    for train_idx, val_idx in kfold.split(bank_subscription_full_train):\n",
    "        df_train = bank_subscription_full_train.iloc[train_idx]\n",
    "        df_val = bank_subscription_full_train.iloc[val_idx]\n",
    "\n",
    "        y_train = df_train.y.values\n",
    "        y_val = df_val.y.values\n",
    "\n",
    "        dv, model = train(df_train, y_train, C=C)\n",
    "        y_pred = predict(df_val, dv, model)\n",
    "\n",
    "        auc = roc_auc_score(y_val, y_pred)\n",
    "        scores.append(auc)\n",
    "\n",
    "    print('C=%s %.3f +- %.3f' % (C, np.mean(scores), np.std(scores)))"
   ],
   "id": "f2d851f59c0d97e8",
   "outputs": [
    {
     "name": "stdout",
     "output_type": "stream",
     "text": [
      "C=1e-06 0.701 +- 0.009\n",
      "C=0.001 0.861 +- 0.007\n",
      "C=1 0.906 +- 0.006\n"
     ]
    }
   ],
   "execution_count": 33
  },
  {
   "metadata": {},
   "cell_type": "code",
   "outputs": [],
   "execution_count": null,
   "source": "",
   "id": "fd2f84c41f751ac"
  }
 ],
 "metadata": {
  "kernelspec": {
   "display_name": "Python 3",
   "language": "python",
   "name": "python3"
  },
  "language_info": {
   "codemirror_mode": {
    "name": "ipython",
    "version": 2
   },
   "file_extension": ".py",
   "mimetype": "text/x-python",
   "name": "python",
   "nbconvert_exporter": "python",
   "pygments_lexer": "ipython2",
   "version": "2.7.6"
  }
 },
 "nbformat": 4,
 "nbformat_minor": 5
}
