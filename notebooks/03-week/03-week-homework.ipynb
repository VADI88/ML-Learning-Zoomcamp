{
 "cells": [
  {
   "cell_type": "code",
   "id": "initial_id",
   "metadata": {
    "collapsed": true,
    "ExecuteTime": {
     "end_time": "2024-10-13T20:33:40.113808Z",
     "start_time": "2024-10-13T20:33:37.303075Z"
    }
   },
   "source": [
    "from PyQt5.sip import assign\n",
    "from plydata.cat_tools import cat_inorder\n",
    "!wget https://archive.ics.uci.edu/static/public/222/bank+marketing.zip"
   ],
   "outputs": [
    {
     "name": "stdout",
     "output_type": "stream",
     "text": [
      "--2024-10-13 22:33:37--  https://archive.ics.uci.edu/static/public/222/bank+marketing.zip\r\n",
      "Resolving archive.ics.uci.edu (archive.ics.uci.edu)... 128.195.10.252\r\n",
      "Connecting to archive.ics.uci.edu (archive.ics.uci.edu)|128.195.10.252|:443... connected.\r\n",
      "HTTP request sent, awaiting response... 200 OK\r\n",
      "Length: unspecified\r\n",
      "Saving to: ‘bank+marketing.zip’\r\n",
      "\r\n",
      "bank+marketing.zip      [    <=>             ] 999.85K   917KB/s    in 1.1s    \r\n",
      "\r\n",
      "2024-10-13 22:33:40 (917 KB/s) - ‘bank+marketing.zip’ saved [1023843]\r\n",
      "\r\n"
     ]
    }
   ],
   "execution_count": 1
  },
  {
   "metadata": {
    "ExecuteTime": {
     "end_time": "2024-10-13T20:35:17.273119Z",
     "start_time": "2024-10-13T20:35:15.404478Z"
    }
   },
   "cell_type": "code",
   "source": [
    "from unicodedata import numeric\n",
    "\n",
    "import pandas as pd \n",
    "import numpy as np \n",
    "import matplotlib.pyplot as plt\n",
    "\n",
    "from plotnine import *"
   ],
   "id": "9d9b6ec81d64add6",
   "outputs": [],
   "execution_count": 2
  },
  {
   "metadata": {
    "ExecuteTime": {
     "end_time": "2024-10-13T20:36:16.525545Z",
     "start_time": "2024-10-13T20:36:16.379728Z"
    }
   },
   "cell_type": "code",
   "source": "bank_subscription_df = pd.read_csv('../../data/03-week/bank/bank-full.csv',delimiter=';')\n",
   "id": "dc127f72202d5640",
   "outputs": [],
   "execution_count": 6
  },
  {
   "metadata": {
    "ExecuteTime": {
     "end_time": "2024-10-13T20:36:17.249759Z",
     "start_time": "2024-10-13T20:36:17.230448Z"
    }
   },
   "cell_type": "code",
   "source": "bank_subscription_df.head()",
   "id": "3c264bf24fcf85b5",
   "outputs": [
    {
     "data": {
      "text/plain": [
       "   age           job  marital  education default  balance housing loan  \\\n",
       "0   58    management  married   tertiary      no     2143     yes   no   \n",
       "1   44    technician   single  secondary      no       29     yes   no   \n",
       "2   33  entrepreneur  married  secondary      no        2     yes  yes   \n",
       "3   47   blue-collar  married    unknown      no     1506     yes   no   \n",
       "4   33       unknown   single    unknown      no        1      no   no   \n",
       "\n",
       "   contact  day month  duration  campaign  pdays  previous poutcome   y  \n",
       "0  unknown    5   may       261         1     -1         0  unknown  no  \n",
       "1  unknown    5   may       151         1     -1         0  unknown  no  \n",
       "2  unknown    5   may        76         1     -1         0  unknown  no  \n",
       "3  unknown    5   may        92         1     -1         0  unknown  no  \n",
       "4  unknown    5   may       198         1     -1         0  unknown  no  "
      ],
      "text/html": [
       "<div>\n",
       "<style scoped>\n",
       "    .dataframe tbody tr th:only-of-type {\n",
       "        vertical-align: middle;\n",
       "    }\n",
       "\n",
       "    .dataframe tbody tr th {\n",
       "        vertical-align: top;\n",
       "    }\n",
       "\n",
       "    .dataframe thead th {\n",
       "        text-align: right;\n",
       "    }\n",
       "</style>\n",
       "<table border=\"1\" class=\"dataframe\">\n",
       "  <thead>\n",
       "    <tr style=\"text-align: right;\">\n",
       "      <th></th>\n",
       "      <th>age</th>\n",
       "      <th>job</th>\n",
       "      <th>marital</th>\n",
       "      <th>education</th>\n",
       "      <th>default</th>\n",
       "      <th>balance</th>\n",
       "      <th>housing</th>\n",
       "      <th>loan</th>\n",
       "      <th>contact</th>\n",
       "      <th>day</th>\n",
       "      <th>month</th>\n",
       "      <th>duration</th>\n",
       "      <th>campaign</th>\n",
       "      <th>pdays</th>\n",
       "      <th>previous</th>\n",
       "      <th>poutcome</th>\n",
       "      <th>y</th>\n",
       "    </tr>\n",
       "  </thead>\n",
       "  <tbody>\n",
       "    <tr>\n",
       "      <th>0</th>\n",
       "      <td>58</td>\n",
       "      <td>management</td>\n",
       "      <td>married</td>\n",
       "      <td>tertiary</td>\n",
       "      <td>no</td>\n",
       "      <td>2143</td>\n",
       "      <td>yes</td>\n",
       "      <td>no</td>\n",
       "      <td>unknown</td>\n",
       "      <td>5</td>\n",
       "      <td>may</td>\n",
       "      <td>261</td>\n",
       "      <td>1</td>\n",
       "      <td>-1</td>\n",
       "      <td>0</td>\n",
       "      <td>unknown</td>\n",
       "      <td>no</td>\n",
       "    </tr>\n",
       "    <tr>\n",
       "      <th>1</th>\n",
       "      <td>44</td>\n",
       "      <td>technician</td>\n",
       "      <td>single</td>\n",
       "      <td>secondary</td>\n",
       "      <td>no</td>\n",
       "      <td>29</td>\n",
       "      <td>yes</td>\n",
       "      <td>no</td>\n",
       "      <td>unknown</td>\n",
       "      <td>5</td>\n",
       "      <td>may</td>\n",
       "      <td>151</td>\n",
       "      <td>1</td>\n",
       "      <td>-1</td>\n",
       "      <td>0</td>\n",
       "      <td>unknown</td>\n",
       "      <td>no</td>\n",
       "    </tr>\n",
       "    <tr>\n",
       "      <th>2</th>\n",
       "      <td>33</td>\n",
       "      <td>entrepreneur</td>\n",
       "      <td>married</td>\n",
       "      <td>secondary</td>\n",
       "      <td>no</td>\n",
       "      <td>2</td>\n",
       "      <td>yes</td>\n",
       "      <td>yes</td>\n",
       "      <td>unknown</td>\n",
       "      <td>5</td>\n",
       "      <td>may</td>\n",
       "      <td>76</td>\n",
       "      <td>1</td>\n",
       "      <td>-1</td>\n",
       "      <td>0</td>\n",
       "      <td>unknown</td>\n",
       "      <td>no</td>\n",
       "    </tr>\n",
       "    <tr>\n",
       "      <th>3</th>\n",
       "      <td>47</td>\n",
       "      <td>blue-collar</td>\n",
       "      <td>married</td>\n",
       "      <td>unknown</td>\n",
       "      <td>no</td>\n",
       "      <td>1506</td>\n",
       "      <td>yes</td>\n",
       "      <td>no</td>\n",
       "      <td>unknown</td>\n",
       "      <td>5</td>\n",
       "      <td>may</td>\n",
       "      <td>92</td>\n",
       "      <td>1</td>\n",
       "      <td>-1</td>\n",
       "      <td>0</td>\n",
       "      <td>unknown</td>\n",
       "      <td>no</td>\n",
       "    </tr>\n",
       "    <tr>\n",
       "      <th>4</th>\n",
       "      <td>33</td>\n",
       "      <td>unknown</td>\n",
       "      <td>single</td>\n",
       "      <td>unknown</td>\n",
       "      <td>no</td>\n",
       "      <td>1</td>\n",
       "      <td>no</td>\n",
       "      <td>no</td>\n",
       "      <td>unknown</td>\n",
       "      <td>5</td>\n",
       "      <td>may</td>\n",
       "      <td>198</td>\n",
       "      <td>1</td>\n",
       "      <td>-1</td>\n",
       "      <td>0</td>\n",
       "      <td>unknown</td>\n",
       "      <td>no</td>\n",
       "    </tr>\n",
       "  </tbody>\n",
       "</table>\n",
       "</div>"
      ]
     },
     "execution_count": 7,
     "metadata": {},
     "output_type": "execute_result"
    }
   ],
   "execution_count": 7
  },
  {
   "metadata": {
    "ExecuteTime": {
     "end_time": "2024-10-13T20:37:43.884998Z",
     "start_time": "2024-10-13T20:37:43.880695Z"
    }
   },
   "cell_type": "code",
   "source": "required_cols = [\"age\",\"job\",\"marital\",\"education\",\"balance\",\"housing\",\"contact\",\"day\",\"month\",\"duration\",\"campaign\",\"pdays\",\"previous\",\"poutcome\",\"y\"]",
   "id": "46147c66632c10ef",
   "outputs": [],
   "execution_count": 9
  },
  {
   "metadata": {},
   "cell_type": "markdown",
   "source": "",
   "id": "2ad26b465392d9e2"
  },
  {
   "metadata": {
    "ExecuteTime": {
     "end_time": "2024-10-13T20:37:57.773194Z",
     "start_time": "2024-10-13T20:37:57.761712Z"
    }
   },
   "cell_type": "code",
   "source": "bank_subscription_df = bank_subscription_df[required_cols]",
   "id": "6b73f96344553c96",
   "outputs": [],
   "execution_count": 10
  },
  {
   "metadata": {
    "ExecuteTime": {
     "end_time": "2024-10-13T20:38:18.598416Z",
     "start_time": "2024-10-13T20:38:18.571390Z"
    }
   },
   "cell_type": "code",
   "source": "bank_subscription_df.isnull().sum()",
   "id": "e93b02de676ff9",
   "outputs": [
    {
     "data": {
      "text/plain": [
       "age          0\n",
       "job          0\n",
       "marital      0\n",
       "education    0\n",
       "balance      0\n",
       "housing      0\n",
       "contact      0\n",
       "day          0\n",
       "month        0\n",
       "duration     0\n",
       "campaign     0\n",
       "pdays        0\n",
       "previous     0\n",
       "poutcome     0\n",
       "y            0\n",
       "dtype: int64"
      ]
     },
     "execution_count": 11,
     "metadata": {},
     "output_type": "execute_result"
    }
   ],
   "execution_count": 11
  },
  {
   "metadata": {},
   "cell_type": "markdown",
   "source": "## Question 1",
   "id": "df5741eb945b9dc5"
  },
  {
   "metadata": {
    "ExecuteTime": {
     "end_time": "2024-10-13T20:38:50.730541Z",
     "start_time": "2024-10-13T20:38:50.718981Z"
    }
   },
   "cell_type": "code",
   "outputs": [
    {
     "data": {
      "text/plain": [
       "education\n",
       "secondary    0.513194\n",
       "tertiary     0.294198\n",
       "primary      0.151534\n",
       "unknown      0.041074\n",
       "Name: proportion, dtype: float64"
      ]
     },
     "execution_count": 14,
     "metadata": {},
     "output_type": "execute_result"
    }
   ],
   "execution_count": 14,
   "source": "bank_subscription_df.education.value_counts(normalize=True)",
   "id": "aa4ee06e1adc0be"
  },
  {
   "metadata": {
    "ExecuteTime": {
     "end_time": "2024-10-13T20:39:46.321929Z",
     "start_time": "2024-10-13T20:39:46.313296Z"
    }
   },
   "cell_type": "code",
   "source": "bank_subscription_df.dtypes",
   "id": "a0e8bed1d5a49545",
   "outputs": [
    {
     "data": {
      "text/plain": [
       "age           int64\n",
       "job          object\n",
       "marital      object\n",
       "education    object\n",
       "balance       int64\n",
       "housing      object\n",
       "contact      object\n",
       "day           int64\n",
       "month        object\n",
       "duration      int64\n",
       "campaign      int64\n",
       "pdays         int64\n",
       "previous      int64\n",
       "poutcome     object\n",
       "y            object\n",
       "dtype: object"
      ]
     },
     "execution_count": 16,
     "metadata": {},
     "output_type": "execute_result"
    }
   ],
   "execution_count": 16
  },
  {
   "metadata": {
    "ExecuteTime": {
     "end_time": "2024-10-13T20:41:10.004918Z",
     "start_time": "2024-10-13T20:41:10.001195Z"
    }
   },
   "cell_type": "code",
   "source": "numerical_val = ['age','balance','day','duration','campaign','pdays','previous']",
   "id": "30f0b40d79949d4c",
   "outputs": [],
   "execution_count": 21
  },
  {
   "metadata": {
    "ExecuteTime": {
     "end_time": "2024-10-13T21:18:52.379503Z",
     "start_time": "2024-10-13T21:18:52.375131Z"
    }
   },
   "cell_type": "code",
   "source": "categorial_val = ['job','marital','education','housing','contact','month','poutcome']",
   "id": "e2e8155c3c119e8c",
   "outputs": [],
   "execution_count": 92
  },
  {
   "metadata": {},
   "cell_type": "markdown",
   "source": "## Question 2",
   "id": "191594092a2c7253"
  },
  {
   "metadata": {
    "ExecuteTime": {
     "end_time": "2024-10-13T20:44:14.799459Z",
     "start_time": "2024-10-13T20:44:14.776311Z"
    }
   },
   "cell_type": "code",
   "source": "long_format_corr = bank_subscription_df[numerical_val].corr()",
   "id": "c1e049a7eaade7e",
   "outputs": [],
   "execution_count": 25
  },
  {
   "metadata": {
    "ExecuteTime": {
     "end_time": "2024-10-13T20:43:53.772419Z",
     "start_time": "2024-10-13T20:43:53.768796Z"
    }
   },
   "cell_type": "code",
   "source": "import plydata.cat_tools as cat ",
   "id": "f482573b41deb73b",
   "outputs": [],
   "execution_count": 24
  },
  {
   "metadata": {
    "ExecuteTime": {
     "end_time": "2024-10-13T21:03:35.358445Z",
     "start_time": "2024-10-13T21:03:35.335067Z"
    }
   },
   "cell_type": "code",
   "source": [
    "tidy_corr = long_format_corr\\\n",
    "    .melt(\n",
    "        ignore_index=False\n",
    "    )\\\n",
    "    .reset_index()\\\n",
    "    .set_axis(\n",
    "        labels = ['var1','var2','value'],\n",
    "        axis = 1 \n",
    "    )\\\n",
    "    .assign(\n",
    "        label_text = lambda x:np.round(x['value'],2)\n",
    "    )\\\n",
    "    .assign(\n",
    "        var1 = lambda x:cat.cat_inorder(x['var1']),\n",
    "      var2 = lambda x:cat.cat_inorder(x['var2'],ordered = True),\n",
    ")\\\n",
    "    .assign(\n",
    "        \n",
    ")"
   ],
   "id": "1ad0ad154472e9e1",
   "outputs": [],
   "execution_count": 54
  },
  {
   "metadata": {
    "ExecuteTime": {
     "end_time": "2024-10-13T21:06:37.584345Z",
     "start_time": "2024-10-13T21:06:37.579965Z"
    }
   },
   "cell_type": "code",
   "source": "list_ordering = ['age', 'balance', 'day', 'duration', 'campaign', 'pdays', 'previous']",
   "id": "1bc62842f9573957",
   "outputs": [],
   "execution_count": 63
  },
  {
   "metadata": {
    "ExecuteTime": {
     "end_time": "2024-10-13T21:09:28.550032Z",
     "start_time": "2024-10-13T21:09:28.534096Z"
    }
   },
   "cell_type": "code",
   "source": "tidy_corr[\"var2\"] = tidy_corr[\"var2\"].cat.set_categories(list_ordering,ordered=False)",
   "id": "5c86455fc1153c16",
   "outputs": [],
   "execution_count": 71
  },
  {
   "metadata": {
    "ExecuteTime": {
     "end_time": "2024-10-13T21:10:40.561631Z",
     "start_time": "2024-10-13T21:10:40.554748Z"
    }
   },
   "cell_type": "code",
   "source": [
    "tidy_corr = tidy_corr\\\n",
    "    .sort_values(['var2'],ascending = [False])"
   ],
   "id": "401cb5f0eae0a579",
   "outputs": [],
   "execution_count": 79
  },
  {
   "metadata": {
    "ExecuteTime": {
     "end_time": "2024-10-13T21:10:42.360954Z",
     "start_time": "2024-10-13T21:10:41.164705Z"
    }
   },
   "cell_type": "code",
   "source": [
    "(ggplot(\n",
    "        mapping = aes (\"var1\", \"var2\", fill = \"value\"),\n",
    "        data= tidy_corr)\n",
    "    + geom_tile() \n",
    "    + geom_label(aes (label = \"label_text\"),\n",
    "                 fill =\"white\",size = 8) \n",
    "    + scale_fill_distiller() \n",
    "    + theme_minimal()\n",
    "    + labs(\n",
    "        title =\"Bank Subscription | Correlation Matrix\",\n",
    "        x = \"\", y = \"\")\n",
    "    +theme(axis_text_x= element_text (rotation=45, hjust = 1),\n",
    "           figure_size=(8,6))\n",
    ")"
   ],
   "id": "f19e7e6a542cc034",
   "outputs": [
    {
     "data": {
      "image/png": "[encoded data removed]"
     },
     "metadata": {
      "image/png": {
       "width": 800,
       "height": 600
      }
     },
     "output_type": "display_data"
    }
   ],
   "execution_count": 80
  },
  {
   "metadata": {
    "ExecuteTime": {
     "end_time": "2024-10-13T21:11:31.238563Z",
     "start_time": "2024-10-13T21:11:31.228737Z"
    }
   },
   "cell_type": "code",
   "source": "bank_subscription_df['y'] = (bank_subscription_df['y']=='yes').astype(int)",
   "id": "36a0cfe7578b3a89",
   "outputs": [],
   "execution_count": 82
  },
  {
   "metadata": {
    "ExecuteTime": {
     "end_time": "2024-10-13T21:11:39.429729Z",
     "start_time": "2024-10-13T21:11:39.421644Z"
    }
   },
   "cell_type": "code",
   "source": "bank_subscription_df['y'].value_counts()",
   "id": "61cfcd9e9612b12b",
   "outputs": [
    {
     "data": {
      "text/plain": [
       "y\n",
       "0    39922\n",
       "1     5289\n",
       "Name: count, dtype: int64"
      ]
     },
     "execution_count": 83,
     "metadata": {},
     "output_type": "execute_result"
    }
   ],
   "execution_count": 83
  },
  {
   "metadata": {},
   "cell_type": "markdown",
   "source": "## Split training and testing ",
   "id": "6c92a77d11f30ec"
  },
  {
   "metadata": {
    "ExecuteTime": {
     "end_time": "2024-10-13T21:12:10.452977Z",
     "start_time": "2024-10-13T21:12:10.146364Z"
    }
   },
   "cell_type": "code",
   "source": "from sklearn.model_selection import train_test_split",
   "id": "ab9a38b764e6947f",
   "outputs": [],
   "execution_count": 84
  },
  {
   "metadata": {
    "ExecuteTime": {
     "end_time": "2024-10-13T21:16:58.460527Z",
     "start_time": "2024-10-13T21:16:58.406497Z"
    }
   },
   "cell_type": "code",
   "source": [
    "bank_subscription_full_train, bank_subscription_test = train_test_split(bank_subscription_df,test_size=0.2,random_state=1)\n",
    "bank_subscription_train,bank_subscription_val = train_test_split(bank_subscription_full_train,test_size=0.25,random_state=1)"
   ],
   "id": "dcdd9aab4589bc50",
   "outputs": [],
   "execution_count": 86
  },
  {
   "metadata": {
    "ExecuteTime": {
     "end_time": "2024-10-13T21:16:59.048350Z",
     "start_time": "2024-10-13T21:16:59.042330Z"
    }
   },
   "cell_type": "code",
   "source": [
    "print(len(bank_subscription_train)) \n",
    "print(len(bank_subscription_val))\n",
    "print(len(bank_subscription_test))"
   ],
   "id": "95e8d9df0f2235c8",
   "outputs": [
    {
     "name": "stdout",
     "output_type": "stream",
     "text": [
      "27126\n",
      "9042\n",
      "9043\n"
     ]
    }
   ],
   "execution_count": 87
  },
  {
   "metadata": {
    "ExecuteTime": {
     "end_time": "2024-10-13T21:17:15.417345Z",
     "start_time": "2024-10-13T21:17:15.397763Z"
    }
   },
   "cell_type": "code",
   "source": [
    "bank_subscription_train = bank_subscription_train.reset_index(drop=True)\n",
    "bank_subscription_val = bank_subscription_val.reset_index(drop=True)\n",
    "bank_subscription_test = bank_subscription_test.reset_index(drop=True)\n",
    "\n",
    "\n",
    "y_train = bank_subscription_train.y.values\n",
    "y_val = bank_subscription_val.y.values\n",
    "y_test = bank_subscription_test.y.values\n",
    "\n",
    "bank_subscription_train.drop('y',axis = 1,inplace=True)\n",
    "bank_subscription_val.drop('y',axis = 1,inplace=True)\n",
    "bank_subscription_test.drop('y',axis = 1,inplace=True)\n"
   ],
   "id": "aa8b32cc1e890958",
   "outputs": [],
   "execution_count": 89
  },
  {
   "metadata": {},
   "cell_type": "markdown",
   "source": "## Question 3\n",
   "id": "1c26084e3b403a6a"
  },
  {
   "metadata": {
    "ExecuteTime": {
     "end_time": "2024-10-13T21:17:37.509807Z",
     "start_time": "2024-10-13T21:17:37.504968Z"
    }
   },
   "cell_type": "code",
   "outputs": [],
   "execution_count": 90,
   "source": "from sklearn.metrics import mutual_info_score",
   "id": "f020abd4b582cd5a"
  },
  {
   "metadata": {
    "ExecuteTime": {
     "end_time": "2024-10-13T21:19:27.573926Z",
     "start_time": "2024-10-13T21:19:27.570069Z"
    }
   },
   "cell_type": "code",
   "source": [
    "def mutual_info_churn_score(series):\n",
    "    return mutual_info_score(series,y_train)"
   ],
   "id": "7ba7a390e99b9d35",
   "outputs": [],
   "execution_count": 96
  },
  {
   "metadata": {
    "ExecuteTime": {
     "end_time": "2024-10-13T21:19:28.266429Z",
     "start_time": "2024-10-13T21:19:28.019881Z"
    }
   },
   "cell_type": "code",
   "source": "bank_subscription_train[categorial_val].apply(mutual_info_churn_score).sort_values(ascending=False)",
   "id": "a60aa2a7a058e40d",
   "outputs": [
    {
     "data": {
      "text/plain": [
       "poutcome     0.028586\n",
       "month        0.024460\n",
       "contact      0.012256\n",
       "housing      0.009158\n",
       "job          0.008130\n",
       "education    0.002461\n",
       "marital      0.002042\n",
       "dtype: float64"
      ]
     },
     "execution_count": 97,
     "metadata": {},
     "output_type": "execute_result"
    }
   ],
   "execution_count": 97
  },
  {
   "metadata": {},
   "cell_type": "markdown",
   "source": "## Question 4",
   "id": "7536971acb785697"
  },
  {
   "metadata": {
    "ExecuteTime": {
     "end_time": "2024-10-13T21:22:53.849320Z",
     "start_time": "2024-10-13T21:22:53.630344Z"
    }
   },
   "cell_type": "code",
   "source": "train_dict = bank_subscription_train[categorial_val + numerical_val].to_dict(orient='records')",
   "id": "49d056ff4a26a34d",
   "outputs": [],
   "execution_count": 98
  },
  {
   "metadata": {
    "ExecuteTime": {
     "end_time": "2024-10-13T21:23:03.908366Z",
     "start_time": "2024-10-13T21:23:03.887835Z"
    }
   },
   "cell_type": "code",
   "source": "from sklearn.feature_extraction import DictVectorizer",
   "id": "161cc1d76ebcff19",
   "outputs": [],
   "execution_count": 99
  },
  {
   "metadata": {
    "ExecuteTime": {
     "end_time": "2024-10-13T21:23:37.119642Z",
     "start_time": "2024-10-13T21:23:36.557401Z"
    }
   },
   "cell_type": "code",
   "source": [
    "dv = DictVectorizer(sparse=False)\n",
    "X_train = dv.fit_transform(train_dict)\n"
   ],
   "id": "3ca2f05cb95f4dc2",
   "outputs": [],
   "execution_count": 100
  },
  {
   "metadata": {
    "ExecuteTime": {
     "end_time": "2024-10-13T21:24:03.859494Z",
     "start_time": "2024-10-13T21:24:03.783551Z"
    }
   },
   "cell_type": "code",
   "source": [
    "from sklearn.linear_model import LogisticRegression\n",
    "model = LogisticRegression(solver='liblinear', C=1.0, max_iter=1000, random_state=42)"
   ],
   "id": "e0e0516f8363ec34",
   "outputs": [],
   "execution_count": 101
  },
  {
   "metadata": {
    "ExecuteTime": {
     "end_time": "2024-10-13T21:24:15.352557Z",
     "start_time": "2024-10-13T21:24:14.817340Z"
    }
   },
   "cell_type": "code",
   "source": "model.fit(X_train,y_train)",
   "id": "71d050b043890543",
   "outputs": [
    {
     "data": {
      "text/plain": [
       "LogisticRegression(max_iter=1000, random_state=42, solver='liblinear')"
      ],
      "text/html": [
       "<style>#sk-container-id-1 {color: black;}#sk-container-id-1 pre{padding: 0;}#sk-container-id-1 div.sk-toggleable {background-color: white;}#sk-container-id-1 label.sk-toggleable__label {cursor: pointer;display: block;width: 100%;margin-bottom: 0;padding: 0.3em;box-sizing: border-box;text-align: center;}#sk-container-id-1 label.sk-toggleable__label-arrow:before {content: \"▸\";float: left;margin-right: 0.25em;color: #696969;}#sk-container-id-1 label.sk-toggleable__label-arrow:hover:before {color: black;}#sk-container-id-1 div.sk-estimator:hover label.sk-toggleable__label-arrow:before {color: black;}#sk-container-id-1 div.sk-toggleable__content {max-height: 0;max-width: 0;overflow: hidden;text-align: left;background-color: #f0f8ff;}#sk-container-id-1 div.sk-toggleable__content pre {margin: 0.2em;color: black;border-radius: 0.25em;background-color: #f0f8ff;}#sk-container-id-1 input.sk-toggleable__control:checked~div.sk-toggleable__content {max-height: 200px;max-width: 100%;overflow: auto;}#sk-container-id-1 input.sk-toggleable__control:checked~label.sk-toggleable__label-arrow:before {content: \"▾\";}#sk-container-id-1 div.sk-estimator input.sk-toggleable__control:checked~label.sk-toggleable__label {background-color: #d4ebff;}#sk-container-id-1 div.sk-label input.sk-toggleable__control:checked~label.sk-toggleable__label {background-color: #d4ebff;}#sk-container-id-1 input.sk-hidden--visually {border: 0;clip: rect(1px 1px 1px 1px);clip: rect(1px, 1px, 1px, 1px);height: 1px;margin: -1px;overflow: hidden;padding: 0;position: absolute;width: 1px;}#sk-container-id-1 div.sk-estimator {font-family: monospace;background-color: #f0f8ff;border: 1px dotted black;border-radius: 0.25em;box-sizing: border-box;margin-bottom: 0.5em;}#sk-container-id-1 div.sk-estimator:hover {background-color: #d4ebff;}#sk-container-id-1 div.sk-parallel-item::after {content: \"\";width: 100%;border-bottom: 1px solid gray;flex-grow: 1;}#sk-container-id-1 div.sk-label:hover label.sk-toggleable__label {background-color: #d4ebff;}#sk-container-id-1 div.sk-serial::before {content: \"\";position: absolute;border-left: 1px solid gray;box-sizing: border-box;top: 0;bottom: 0;left: 50%;z-index: 0;}#sk-container-id-1 div.sk-serial {display: flex;flex-direction: column;align-items: center;background-color: white;padding-right: 0.2em;padding-left: 0.2em;position: relative;}#sk-container-id-1 div.sk-item {position: relative;z-index: 1;}#sk-container-id-1 div.sk-parallel {display: flex;align-items: stretch;justify-content: center;background-color: white;position: relative;}#sk-container-id-1 div.sk-item::before, #sk-container-id-1 div.sk-parallel-item::before {content: \"\";position: absolute;border-left: 1px solid gray;box-sizing: border-box;top: 0;bottom: 0;left: 50%;z-index: -1;}#sk-container-id-1 div.sk-parallel-item {display: flex;flex-direction: column;z-index: 1;position: relative;background-color: white;}#sk-container-id-1 div.sk-parallel-item:first-child::after {align-self: flex-end;width: 50%;}#sk-container-id-1 div.sk-parallel-item:last-child::after {align-self: flex-start;width: 50%;}#sk-container-id-1 div.sk-parallel-item:only-child::after {width: 0;}#sk-container-id-1 div.sk-dashed-wrapped {border: 1px dashed gray;margin: 0 0.4em 0.5em 0.4em;box-sizing: border-box;padding-bottom: 0.4em;background-color: white;}#sk-container-id-1 div.sk-label label {font-family: monospace;font-weight: bold;display: inline-block;line-height: 1.2em;}#sk-container-id-1 div.sk-label-container {text-align: center;}#sk-container-id-1 div.sk-container {/* jupyter's `normalize.less` sets `[hidden] { display: none; }` but bootstrap.min.css set `[hidden] { display: none !important; }` so we also need the `!important` here to be able to override the default hidden behavior on the sphinx rendered scikit-learn.org. See: https://github.com/scikit-learn/scikit-learn/issues/21755 */display: inline-block !important;position: relative;}#sk-container-id-1 div.sk-text-repr-fallback {display: none;}</style><div id=\"sk-container-id-1\" class=\"sk-top-container\"><div class=\"sk-text-repr-fallback\"><pre>LogisticRegression(max_iter=1000, random_state=42, solver=&#x27;liblinear&#x27;)</pre><b>In a Jupyter environment, please rerun this cell to show the HTML representation or trust the notebook. <br />On GitHub, the HTML representation is unable to render, please try loading this page with nbviewer.org.</b></div><div class=\"sk-container\" hidden><div class=\"sk-item\"><div class=\"sk-estimator sk-toggleable\"><input class=\"sk-toggleable__control sk-hidden--visually\" id=\"sk-estimator-id-1\" type=\"checkbox\" checked><label for=\"sk-estimator-id-1\" class=\"sk-toggleable__label sk-toggleable__label-arrow\">LogisticRegression</label><div class=\"sk-toggleable__content\"><pre>LogisticRegression(max_iter=1000, random_state=42, solver=&#x27;liblinear&#x27;)</pre></div></div></div></div></div>"
      ]
     },
     "execution_count": 102,
     "metadata": {},
     "output_type": "execute_result"
    }
   ],
   "execution_count": 102
  },
  {
   "metadata": {
    "ExecuteTime": {
     "end_time": "2024-10-13T21:25:11.779703Z",
     "start_time": "2024-10-13T21:25:11.545957Z"
    }
   },
   "cell_type": "code",
   "source": [
    "val_dict = bank_subscription_val[categorial_val + numerical_val].to_dict(orient='records')\n",
    "X_val = dv.fit_transform(val_dict)\n",
    "\n",
    "y_pred = model.predict_proba(X_val)[:,1]  ## soft prediction\n"
   ],
   "id": "41c8c2f0229d6b96",
   "outputs": [],
   "execution_count": 103
  },
  {
   "metadata": {
    "ExecuteTime": {
     "end_time": "2024-10-13T21:25:33.308579Z",
     "start_time": "2024-10-13T21:25:33.304514Z"
    }
   },
   "cell_type": "code",
   "source": "subcription_decision = (y_pred >=0.5)",
   "id": "7360b5ef70765793",
   "outputs": [],
   "execution_count": 104
  },
  {
   "metadata": {
    "ExecuteTime": {
     "end_time": "2024-10-13T21:25:56.893753Z",
     "start_time": "2024-10-13T21:25:56.887275Z"
    }
   },
   "cell_type": "code",
   "source": "np.round((y_val==subcription_decision.astype(int)).mean(),2)",
   "id": "a49bd689097722fc",
   "outputs": [
    {
     "data": {
      "text/plain": [
       "0.9"
      ]
     },
     "execution_count": 106,
     "metadata": {},
     "output_type": "execute_result"
    }
   ],
   "execution_count": 106
  },
  {
   "metadata": {
    "ExecuteTime": {
     "end_time": "2024-10-13T21:36:52.055141Z",
     "start_time": "2024-10-13T21:36:52.050407Z"
    }
   },
   "cell_type": "code",
   "source": "original = (y_val==subcription_decision.astype(int)).mean()",
   "id": "4b510ea8475c8ca4",
   "outputs": [],
   "execution_count": 120
  },
  {
   "metadata": {
    "ExecuteTime": {
     "end_time": "2024-10-13T21:36:56.088684Z",
     "start_time": "2024-10-13T21:36:56.084248Z"
    }
   },
   "cell_type": "code",
   "source": "print(original)",
   "id": "9d5ca6a7557cff79",
   "outputs": [
    {
     "name": "stdout",
     "output_type": "stream",
     "text": [
      "0.8979208139792081\n"
     ]
    }
   ],
   "execution_count": 121
  },
  {
   "metadata": {},
   "cell_type": "markdown",
   "source": "## Question 5 ",
   "id": "c1e0264d877c2e00"
  },
  {
   "metadata": {
    "ExecuteTime": {
     "end_time": "2024-10-13T21:28:08.112812Z",
     "start_time": "2024-10-13T21:28:08.108524Z"
    }
   },
   "cell_type": "code",
   "source": "categoril_remove = [\"age\",\"balance\",\"marital\",\"previous\"]",
   "id": "a0fe5ce472a33492",
   "outputs": [],
   "execution_count": 107
  },
  {
   "metadata": {
    "ExecuteTime": {
     "end_time": "2024-10-13T21:28:25.419186Z",
     "start_time": "2024-10-13T21:28:25.415567Z"
    }
   },
   "cell_type": "code",
   "source": "categorial_accur = dict()",
   "id": "74440c1a6f35565c",
   "outputs": [],
   "execution_count": 108
  },
  {
   "metadata": {
    "ExecuteTime": {
     "end_time": "2024-10-13T21:37:46.201878Z",
     "start_time": "2024-10-13T21:37:46.196923Z"
    }
   },
   "cell_type": "code",
   "source": "features_list = categorial_val + numerical_val",
   "id": "a15b2a5d8fd3df60",
   "outputs": [],
   "execution_count": 123
  },
  {
   "metadata": {
    "ExecuteTime": {
     "end_time": "2024-10-13T21:39:12.532833Z",
     "start_time": "2024-10-13T21:39:08.057476Z"
    }
   },
   "cell_type": "code",
   "source": [
    "for cat in categoril_remove:\n",
    "    print(cat)\n",
    "    subset = features_list.copy()\n",
    "    subset.remove(cat)\n",
    "    \n",
    "    train_dict = bank_subscription_train[subset].to_dict(orient='records')\n",
    "    dv = DictVectorizer(sparse=False)\n",
    "    X_train = dv.fit_transform(train_dict)\n",
    "    model = LogisticRegression(solver='liblinear', C=1.0, max_iter=1000, random_state=42)\n",
    "    model.fit(X_train,y_train)\n",
    "    val_dict = bank_subscription_val[subset].to_dict(orient='records')\n",
    "    X_val = dv.fit_transform(val_dict)\n",
    "    y_pred = model.predict_proba(X_val)[:,1]\n",
    "    subcription_decision = (y_pred >=0.5)\n",
    "    categorial_accur[cat] = (y_val==subcription_decision.astype(int)).mean() - original\n",
    "    \n"
   ],
   "id": "9596ef62a988956c",
   "outputs": [
    {
     "name": "stdout",
     "output_type": "stream",
     "text": [
      "age\n",
      "balance\n",
      "marital\n",
      "previous\n"
     ]
    }
   ],
   "execution_count": 129
  },
  {
   "metadata": {
    "ExecuteTime": {
     "end_time": "2024-10-13T21:39:13.129106Z",
     "start_time": "2024-10-13T21:39:13.122085Z"
    }
   },
   "cell_type": "code",
   "source": "categorial_accur",
   "id": "dc5fd0bdf01a7ec8",
   "outputs": [
    {
     "data": {
      "text/plain": [
       "{'age': 0.0,\n",
       " 'balance': 0.0005529750055297544,\n",
       " 'marital': 0.00033178500331787486,\n",
       " 'previous': 0.0}"
      ]
     },
     "execution_count": 130,
     "metadata": {},
     "output_type": "execute_result"
    }
   ],
   "execution_count": 130
  },
  {
   "metadata": {},
   "cell_type": "markdown",
   "source": "## Question 6 ",
   "id": "1e82044999013d7f"
  },
  {
   "metadata": {
    "ExecuteTime": {
     "end_time": "2024-10-13T21:42:02.946384Z",
     "start_time": "2024-10-13T21:41:55.248463Z"
    }
   },
   "cell_type": "code",
   "source": [
    "cat_dict = dict()\n",
    "for c in [0.01, 0.1, 1, 10, 100]:\n",
    "    print(c)\n",
    "    train_dict = bank_subscription_train[features_list].to_dict(orient='records')\n",
    "    dv = DictVectorizer(sparse=False)\n",
    "    X_train = dv.fit_transform(train_dict)\n",
    "    model = LogisticRegression(solver='liblinear', C=c, max_iter=1000, random_state=42)\n",
    "    model.fit(X_train,y_train)\n",
    "    val_dict = bank_subscription_val[features_list].to_dict(orient='records')\n",
    "    X_val = dv.fit_transform(val_dict)\n",
    "    y_pred = model.predict_proba(X_val)[:,1]\n",
    "    subcription_decision = (y_pred >=0.5)\n",
    "    cat_dict[str(c)] = (y_val==subcription_decision.astype(int)).mean()\n",
    "    "
   ],
   "id": "a3e64a3a2e8c06fe",
   "outputs": [
    {
     "name": "stdout",
     "output_type": "stream",
     "text": [
      "0.01\n",
      "0.1\n",
      "1\n",
      "10\n",
      "100\n"
     ]
    }
   ],
   "execution_count": 131
  },
  {
   "metadata": {
    "ExecuteTime": {
     "end_time": "2024-10-13T21:43:12.499472Z",
     "start_time": "2024-10-13T21:43:12.491285Z"
    }
   },
   "cell_type": "code",
   "source": "dict(sorted(cat_dict.items(), key=lambda item: item[1],reverse=True))",
   "id": "eeb4b7a0b1e9855",
   "outputs": [
    {
     "data": {
      "text/plain": [
       "{'10': 0.8981420039814201,\n",
       " '1': 0.8980314089803141,\n",
       " '100': 0.8979208139792081,\n",
       " '0.1': 0.8971466489714665,\n",
       " '0.01': 0.8946029639460297}"
      ]
     },
     "execution_count": 135,
     "metadata": {},
     "output_type": "execute_result"
    }
   ],
   "execution_count": 135
  },
  {
   "metadata": {},
   "cell_type": "code",
   "outputs": [],
   "execution_count": null,
   "source": "",
   "id": "ccfc067d056cc563"
  }
 ],
 "metadata": {
  "kernelspec": {
   "display_name": "Python 3",
   "language": "python",
   "name": "python3"
  },
  "language_info": {
   "codemirror_mode": {
    "name": "ipython",
    "version": 2
   },
   "file_extension": ".py",
   "mimetype": "text/x-python",
   "name": "python",
   "nbconvert_exporter": "python",
   "pygments_lexer": "ipython2",
   "version": "2.7.6"
  }
 },
 "nbformat": 4,
 "nbformat_minor": 5
}
