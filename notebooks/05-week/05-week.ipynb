{
 "cells": [
  {
   "cell_type": "code",
   "id": "initial_id",
   "metadata": {
    "collapsed": true,
    "ExecuteTime": {
     "end_time": "2024-10-27T21:51:59.525938Z",
     "start_time": "2024-10-27T21:51:59.425849Z"
    }
   },
   "source": [
    "import pandas as pd\n",
    "import numpy as np\n",
    "\n",
    "import seaborn as sns\n",
    "from matplotlib import pyplot as plt\n",
    "%matplotlib inline\n",
    "\n",
    "from sklearn.metrics import roc_curve\n",
    "from sklearn.metrics import auc\n",
    "\n",
    "from sklearn.model_selection import train_test_split\n",
    "from sklearn.feature_extraction import DictVectorizer\n",
    "from sklearn.linear_model import LogisticRegression\n",
    "\n",
    "from sklearn.model_selection import KFold\n",
    "from sklearn.metrics import roc_auc_score\n"
   ],
   "outputs": [],
   "execution_count": 6
  },
  {
   "metadata": {
    "ExecuteTime": {
     "end_time": "2024-10-27T21:52:00.872662Z",
     "start_time": "2024-10-27T21:52:00.720313Z"
    }
   },
   "cell_type": "code",
   "source": [
    "df = pd.read_csv('../../data/03-week/WA_Fn-UseC_-Telco-Customer-Churn.csv')\n",
    "\n",
    "df['TotalCharges'] = pd.to_numeric(df['TotalCharges'], errors='coerce')\n",
    "df['TotalCharges'] = df['TotalCharges'].fillna(0)\n",
    "\n",
    "df.columns = df.columns.str.lower().str.replace(' ', '_')\n",
    "\n",
    "string_columns = list(df.dtypes[df.dtypes == 'object'].index)\n",
    "\n",
    "for col in string_columns:\n",
    "    df[col] = df[col].str.lower().str.replace(' ', '_')\n",
    "\n",
    "df.churn = (df.churn == 'yes').astype(int)"
   ],
   "id": "1f33dab961fd2580",
   "outputs": [],
   "execution_count": 7
  },
  {
   "metadata": {
    "ExecuteTime": {
     "end_time": "2024-10-27T21:52:01.878051Z",
     "start_time": "2024-10-27T21:52:01.833993Z"
    }
   },
   "cell_type": "code",
   "source": [
    "df_train_full, df_test = train_test_split(df, test_size=0.2, random_state=1)\n",
    "df_train, df_val = train_test_split(df_train_full, test_size=0.33, random_state=11)\n",
    "\n",
    "y_train = df_train.churn.values\n",
    "y_val = df_val.churn.values\n",
    "\n",
    "del df_train['churn']\n",
    "del df_val['churn']"
   ],
   "id": "53f77311d0a77707",
   "outputs": [],
   "execution_count": 8
  },
  {
   "metadata": {
    "ExecuteTime": {
     "end_time": "2024-10-26T21:36:41.789187Z",
     "start_time": "2024-10-26T21:36:41.765479Z"
    }
   },
   "cell_type": "code",
   "source": [
    "categorical = ['gender', 'seniorcitizen', 'partner', 'dependents',\n",
    "               'phoneservice', 'multiplelines', 'internetservice',\n",
    "               'onlinesecurity', 'onlinebackup', 'deviceprotection',\n",
    "               'techsupport', 'streamingtv', 'streamingmovies',\n",
    "               'contract', 'paperlessbilling', 'paymentmethod']\n",
    "numerical = ['tenure', 'monthlycharges', 'totalcharges']"
   ],
   "id": "2e1870bf96a45964",
   "outputs": [],
   "execution_count": 4
  },
  {
   "metadata": {
    "ExecuteTime": {
     "end_time": "2024-10-26T21:37:43.690799Z",
     "start_time": "2024-10-26T21:37:43.680533Z"
    }
   },
   "cell_type": "code",
   "source": [
    "def train(df, y, C=1.0):\n",
    "    cat = df[categorical + numerical].to_dict(orient='records')\n",
    "    \n",
    "    dv = DictVectorizer(sparse=False)\n",
    "    dv.fit(cat)\n",
    "\n",
    "    X = dv.transform(cat)\n",
    "\n",
    "    model = LogisticRegression(solver='liblinear', C=C)\n",
    "    model.fit(X, y)\n",
    "\n",
    "    return dv, model\n",
    "\n",
    "\n",
    "def predict(df, dv, model):\n",
    "    cat = df[categorical + numerical].to_dict(orient='records')\n",
    "    \n",
    "    X = dv.transform(cat)\n",
    "\n",
    "    y_pred = model.predict_proba(X)[:, 1]\n",
    "\n",
    "    return y_pred"
   ],
   "id": "bdc6c11e317ed9fb",
   "outputs": [],
   "execution_count": 10
  },
  {
   "metadata": {
    "ExecuteTime": {
     "end_time": "2024-10-26T21:37:48.729496Z",
     "start_time": "2024-10-26T21:37:44.169105Z"
    }
   },
   "cell_type": "code",
   "source": [
    "\n",
    "nfolds = 5\n",
    "C = 1.0\n",
    "kfold = KFold(n_splits=nfolds, shuffle=True, random_state=1)\n",
    "aucs = []\n",
    "\n",
    "for train_idx, val_idx in kfold.split(df_train_full):\n",
    "        df_train = df_train_full.iloc[train_idx]\n",
    "        df_val = df_train_full.iloc[val_idx]\n",
    "\n",
    "        y_train = df_train.churn.values\n",
    "        y_val = df_val.churn.values\n",
    "\n",
    "        dv, model = train(df_train, y_train, C=C)\n",
    "        y_pred = predict(df_val, dv, model)\n",
    "        \n",
    "        auc = roc_auc_score(y_val, y_pred)\n",
    "        aucs.append(auc)"
   ],
   "id": "fdb1b72d3115b565",
   "outputs": [],
   "execution_count": 11
  },
  {
   "metadata": {
    "ExecuteTime": {
     "end_time": "2024-10-26T21:38:13.557580Z",
     "start_time": "2024-10-26T21:38:13.547506Z"
    }
   },
   "cell_type": "code",
   "source": "aucs",
   "id": "9c6fc4b3aed735e0",
   "outputs": [
    {
     "data": {
      "text/plain": [
       "[0.8423240260300963,\n",
       " 0.8453247086478611,\n",
       " 0.8337066024483243,\n",
       " 0.8323627454115241,\n",
       " 0.8521736060995889]"
      ]
     },
     "execution_count": 12,
     "metadata": {},
     "output_type": "execute_result"
    }
   ],
   "execution_count": 12
  },
  {
   "metadata": {
    "ExecuteTime": {
     "end_time": "2024-10-26T22:14:37.643787Z",
     "start_time": "2024-10-26T22:14:37.014690Z"
    }
   },
   "cell_type": "code",
   "source": [
    "y_train = df_train_full.churn.values\n",
    "y_test = df_test.churn.values\n",
    "\n",
    "dv, model = train(df_train_full, y_train, C=1)\n",
    "y_pred = predict(df_test, dv, model)\n",
    "\n",
    "auc = roc_auc_score(y_test, y_pred)\n",
    "print(auc)"
   ],
   "id": "4b2f4ec4b60602bf",
   "outputs": [
    {
     "name": "stdout",
     "output_type": "stream",
     "text": [
      "0.8579400803839363\n"
     ]
    }
   ],
   "execution_count": 14
  },
  {
   "metadata": {},
   "cell_type": "markdown",
   "source": "### Save the model ",
   "id": "776cb8338f362f5e"
  },
  {
   "metadata": {
    "ExecuteTime": {
     "end_time": "2024-10-26T22:15:10.716046Z",
     "start_time": "2024-10-26T22:15:10.702580Z"
    }
   },
   "cell_type": "code",
   "source": "import pickle",
   "id": "2f014e24cbcc6eea",
   "outputs": [],
   "execution_count": 15
  },
  {
   "metadata": {
    "ExecuteTime": {
     "end_time": "2024-10-26T22:16:34.825979Z",
     "start_time": "2024-10-26T22:16:34.822113Z"
    }
   },
   "cell_type": "code",
   "source": "output_file = f'model_C={C}.bin'",
   "id": "6eeac96fbc492e0",
   "outputs": [],
   "execution_count": 17
  },
  {
   "metadata": {
    "ExecuteTime": {
     "end_time": "2024-10-26T22:17:04.449155Z",
     "start_time": "2024-10-26T22:17:04.435878Z"
    }
   },
   "cell_type": "code",
   "source": [
    "f_out = open(output_file,'wb')\n",
    "pickle.dump((dv,model),f_out)\n",
    "f_out.close()"
   ],
   "id": "2c3c87719a876e13",
   "outputs": [],
   "execution_count": 18
  },
  {
   "metadata": {
    "ExecuteTime": {
     "end_time": "2024-10-26T22:18:04.531644Z",
     "start_time": "2024-10-26T22:18:04.523427Z"
    }
   },
   "cell_type": "code",
   "source": [
    "with open(output_file,'wb') as f_out:\n",
    "    pickle.dump((dv,model),f_out)"
   ],
   "id": "d1be666d7b8c67ef",
   "outputs": [],
   "execution_count": 19
  },
  {
   "metadata": {},
   "cell_type": "markdown",
   "source": "### Load the model",
   "id": "2e4ec008a94deab6"
  },
  {
   "metadata": {
    "ExecuteTime": {
     "end_time": "2024-10-26T22:18:25.351112Z",
     "start_time": "2024-10-26T22:18:25.345021Z"
    }
   },
   "cell_type": "code",
   "source": "import pickle",
   "id": "228ed75264982928",
   "outputs": [],
   "execution_count": 1
  },
  {
   "metadata": {
    "ExecuteTime": {
     "end_time": "2024-10-26T22:18:57.671352Z",
     "start_time": "2024-10-26T22:18:57.666526Z"
    }
   },
   "cell_type": "code",
   "source": "model_path = 'model_C=1.0.bin'",
   "id": "50b73101a405ebf5",
   "outputs": [],
   "execution_count": 2
  },
  {
   "metadata": {
    "ExecuteTime": {
     "end_time": "2024-10-26T22:19:41.506711Z",
     "start_time": "2024-10-26T22:19:40.572037Z"
    }
   },
   "cell_type": "code",
   "source": [
    "with open(model_path,'rb') as file:\n",
    "    (dv,model)= pickle.load(file)"
   ],
   "id": "96a0046952a5afed",
   "outputs": [],
   "execution_count": 3
  },
  {
   "metadata": {
    "ExecuteTime": {
     "end_time": "2024-10-26T22:19:43.607991Z",
     "start_time": "2024-10-26T22:19:43.589133Z"
    }
   },
   "cell_type": "code",
   "source": "model",
   "id": "7d8228b618dde0f7",
   "outputs": [
    {
     "data": {
      "text/plain": [
       "LogisticRegression(C=1, solver='liblinear')"
      ],
      "text/html": [
       "<style>#sk-container-id-1 {color: black;}#sk-container-id-1 pre{padding: 0;}#sk-container-id-1 div.sk-toggleable {background-color: white;}#sk-container-id-1 label.sk-toggleable__label {cursor: pointer;display: block;width: 100%;margin-bottom: 0;padding: 0.3em;box-sizing: border-box;text-align: center;}#sk-container-id-1 label.sk-toggleable__label-arrow:before {content: \"▸\";float: left;margin-right: 0.25em;color: #696969;}#sk-container-id-1 label.sk-toggleable__label-arrow:hover:before {color: black;}#sk-container-id-1 div.sk-estimator:hover label.sk-toggleable__label-arrow:before {color: black;}#sk-container-id-1 div.sk-toggleable__content {max-height: 0;max-width: 0;overflow: hidden;text-align: left;background-color: #f0f8ff;}#sk-container-id-1 div.sk-toggleable__content pre {margin: 0.2em;color: black;border-radius: 0.25em;background-color: #f0f8ff;}#sk-container-id-1 input.sk-toggleable__control:checked~div.sk-toggleable__content {max-height: 200px;max-width: 100%;overflow: auto;}#sk-container-id-1 input.sk-toggleable__control:checked~label.sk-toggleable__label-arrow:before {content: \"▾\";}#sk-container-id-1 div.sk-estimator input.sk-toggleable__control:checked~label.sk-toggleable__label {background-color: #d4ebff;}#sk-container-id-1 div.sk-label input.sk-toggleable__control:checked~label.sk-toggleable__label {background-color: #d4ebff;}#sk-container-id-1 input.sk-hidden--visually {border: 0;clip: rect(1px 1px 1px 1px);clip: rect(1px, 1px, 1px, 1px);height: 1px;margin: -1px;overflow: hidden;padding: 0;position: absolute;width: 1px;}#sk-container-id-1 div.sk-estimator {font-family: monospace;background-color: #f0f8ff;border: 1px dotted black;border-radius: 0.25em;box-sizing: border-box;margin-bottom: 0.5em;}#sk-container-id-1 div.sk-estimator:hover {background-color: #d4ebff;}#sk-container-id-1 div.sk-parallel-item::after {content: \"\";width: 100%;border-bottom: 1px solid gray;flex-grow: 1;}#sk-container-id-1 div.sk-label:hover label.sk-toggleable__label {background-color: #d4ebff;}#sk-container-id-1 div.sk-serial::before {content: \"\";position: absolute;border-left: 1px solid gray;box-sizing: border-box;top: 0;bottom: 0;left: 50%;z-index: 0;}#sk-container-id-1 div.sk-serial {display: flex;flex-direction: column;align-items: center;background-color: white;padding-right: 0.2em;padding-left: 0.2em;position: relative;}#sk-container-id-1 div.sk-item {position: relative;z-index: 1;}#sk-container-id-1 div.sk-parallel {display: flex;align-items: stretch;justify-content: center;background-color: white;position: relative;}#sk-container-id-1 div.sk-item::before, #sk-container-id-1 div.sk-parallel-item::before {content: \"\";position: absolute;border-left: 1px solid gray;box-sizing: border-box;top: 0;bottom: 0;left: 50%;z-index: -1;}#sk-container-id-1 div.sk-parallel-item {display: flex;flex-direction: column;z-index: 1;position: relative;background-color: white;}#sk-container-id-1 div.sk-parallel-item:first-child::after {align-self: flex-end;width: 50%;}#sk-container-id-1 div.sk-parallel-item:last-child::after {align-self: flex-start;width: 50%;}#sk-container-id-1 div.sk-parallel-item:only-child::after {width: 0;}#sk-container-id-1 div.sk-dashed-wrapped {border: 1px dashed gray;margin: 0 0.4em 0.5em 0.4em;box-sizing: border-box;padding-bottom: 0.4em;background-color: white;}#sk-container-id-1 div.sk-label label {font-family: monospace;font-weight: bold;display: inline-block;line-height: 1.2em;}#sk-container-id-1 div.sk-label-container {text-align: center;}#sk-container-id-1 div.sk-container {/* jupyter's `normalize.less` sets `[hidden] { display: none; }` but bootstrap.min.css set `[hidden] { display: none !important; }` so we also need the `!important` here to be able to override the default hidden behavior on the sphinx rendered scikit-learn.org. See: https://github.com/scikit-learn/scikit-learn/issues/21755 */display: inline-block !important;position: relative;}#sk-container-id-1 div.sk-text-repr-fallback {display: none;}</style><div id=\"sk-container-id-1\" class=\"sk-top-container\"><div class=\"sk-text-repr-fallback\"><pre>LogisticRegression(C=1, solver=&#x27;liblinear&#x27;)</pre><b>In a Jupyter environment, please rerun this cell to show the HTML representation or trust the notebook. <br />On GitHub, the HTML representation is unable to render, please try loading this page with nbviewer.org.</b></div><div class=\"sk-container\" hidden><div class=\"sk-item\"><div class=\"sk-estimator sk-toggleable\"><input class=\"sk-toggleable__control sk-hidden--visually\" id=\"sk-estimator-id-1\" type=\"checkbox\" checked><label for=\"sk-estimator-id-1\" class=\"sk-toggleable__label sk-toggleable__label-arrow\">LogisticRegression</label><div class=\"sk-toggleable__content\"><pre>LogisticRegression(C=1, solver=&#x27;liblinear&#x27;)</pre></div></div></div></div></div>"
      ]
     },
     "execution_count": 4,
     "metadata": {},
     "output_type": "execute_result"
    }
   ],
   "execution_count": 4
  },
  {
   "metadata": {
    "ExecuteTime": {
     "end_time": "2024-10-27T21:52:23.912786Z",
     "start_time": "2024-10-27T21:52:23.904656Z"
    }
   },
   "cell_type": "code",
   "source": "df_train_full.loc[0].to_json()",
   "id": "99c0081841ed8e60",
   "outputs": [
    {
     "data": {
      "text/plain": [
       "'{\"customerid\":\"7590-vhveg\",\"gender\":\"female\",\"seniorcitizen\":0,\"partner\":\"yes\",\"dependents\":\"no\",\"tenure\":1,\"phoneservice\":\"no\",\"multiplelines\":\"no_phone_service\",\"internetservice\":\"dsl\",\"onlinesecurity\":\"no\",\"onlinebackup\":\"yes\",\"deviceprotection\":\"no\",\"techsupport\":\"no\",\"streamingtv\":\"no\",\"streamingmovies\":\"no\",\"contract\":\"month-to-month\",\"paperlessbilling\":\"yes\",\"paymentmethod\":\"electronic_check\",\"monthlycharges\":29.85,\"totalcharges\":29.85,\"churn\":0}'"
      ]
     },
     "execution_count": 11,
     "metadata": {},
     "output_type": "execute_result"
    }
   ],
   "execution_count": 11
  },
  {
   "metadata": {},
   "cell_type": "code",
   "outputs": [],
   "execution_count": null,
   "source": "",
   "id": "e495304c4888932a"
  },
  {
   "metadata": {
    "ExecuteTime": {
     "end_time": "2024-10-27T22:00:14.892277Z",
     "start_time": "2024-10-27T22:00:14.744711Z"
    }
   },
   "cell_type": "code",
   "source": "import requests",
   "id": "9e0bd74702ee42a8",
   "outputs": [],
   "execution_count": 1
  },
  {
   "metadata": {
    "ExecuteTime": {
     "end_time": "2024-10-27T22:01:40.745481Z",
     "start_time": "2024-10-27T22:01:40.731536Z"
    }
   },
   "cell_type": "code",
   "source": "url = 'http://localhost:9696/predict'",
   "id": "f5f30fa74a3e2acf",
   "outputs": [],
   "execution_count": 5
  },
  {
   "metadata": {
    "ExecuteTime": {
     "end_time": "2024-10-27T22:01:41.270596Z",
     "start_time": "2024-10-27T22:01:41.262586Z"
    }
   },
   "cell_type": "code",
   "source": [
    "customer = {\n",
    "  \"gender\": \"female\",\n",
    "  \"seniorcitizen\": 0,\n",
    "  \"partner\": \"yes\",\n",
    "  \"dependents\": \"no\",\n",
    "  \"tenure\": 1,\n",
    "  \"phoneservice\": \"no\",\n",
    "  \"multiplelines\": \"no_phone_service\",\n",
    "  \"internetservice\": \"dsl\",\n",
    "  \"onlinesecurity\": \"no\",\n",
    "  \"onlinebackup\": \"yes\",\n",
    "  \"deviceprotection\": \"no\",\n",
    "  \"techsupport\": \"no\",\n",
    "  \"streamingtv\": \"no\",\n",
    "  \"streamingmovies\": \"no\",\n",
    "  \"contract\": \"month-to-month\",\n",
    "  \"paperlessbilling\": \"yes\",\n",
    "  \"paymentmethod\": \"electronic_check\",\n",
    "  \"monthlycharges\": 29.85,\n",
    "  \"totalcharges\": 29.85\n",
    "}"
   ],
   "id": "b302d7554b1e438c",
   "outputs": [],
   "execution_count": 6
  },
  {
   "metadata": {
    "ExecuteTime": {
     "end_time": "2024-10-27T22:02:59.587507Z",
     "start_time": "2024-10-27T22:02:59.575494Z"
    }
   },
   "cell_type": "code",
   "source": "responses = requests.post(url,json=customer).json()",
   "id": "38c878f3c282ae4a",
   "outputs": [],
   "execution_count": 10
  },
  {
   "metadata": {
    "ExecuteTime": {
     "end_time": "2024-10-27T22:04:56.702202Z",
     "start_time": "2024-10-27T22:04:56.692033Z"
    }
   },
   "cell_type": "code",
   "source": "responses",
   "id": "af75c43bc9c83231",
   "outputs": [
    {
     "data": {
      "text/plain": [
       "{'churn': False, 'churn_probability': 0.6433014487923182}"
      ]
     },
     "execution_count": 12,
     "metadata": {},
     "output_type": "execute_result"
    }
   ],
   "execution_count": 12
  },
  {
   "metadata": {
    "ExecuteTime": {
     "end_time": "2024-10-27T22:04:51.675935Z",
     "start_time": "2024-10-27T22:04:51.670451Z"
    }
   },
   "cell_type": "code",
   "source": [
    "customer = \"7590-vhveg\"\n",
    "if responses['churn']:\n",
    "    print(f'send an email to the customer ID {customer}')"
   ],
   "id": "625d7c21799f6f91",
   "outputs": [],
   "execution_count": 11
  },
  {
   "metadata": {},
   "cell_type": "markdown",
   "source": "",
   "id": "930283916ff209b0"
  }
 ],
 "metadata": {
  "kernelspec": {
   "display_name": "Python 3",
   "language": "python",
   "name": "python3"
  },
  "language_info": {
   "codemirror_mode": {
    "name": "ipython",
    "version": 2
   },
   "file_extension": ".py",
   "mimetype": "text/x-python",
   "name": "python",
   "nbconvert_exporter": "python",
   "pygments_lexer": "ipython2",
   "version": "2.7.6"
  }
 },
 "nbformat": 4,
 "nbformat_minor": 5
}
